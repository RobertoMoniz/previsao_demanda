{
 "cells": [
  {
   "cell_type": "markdown",
   "id": "c7e8f7ed",
   "metadata": {},
   "source": [
    "# Dashboard"
   ]
  },
  {
   "cell_type": "code",
   "execution_count": 1,
   "id": "4d4b7ffa",
   "metadata": {
    "ExecuteTime": {
     "end_time": "2023-05-22T19:43:50.997215Z",
     "start_time": "2023-05-22T19:43:48.733598Z"
    }
   },
   "outputs": [],
   "source": [
    "import pandas as pd\n",
    "import scipy.stats as stats\n",
    "from scipy.stats import shapiro\n",
    "from plotnine import *\n",
    "import seaborn as sns\n",
    "import numpy as np\n",
    "import matplotlib.pyplot as plt\n",
    "import warnings\n",
    "warnings.filterwarnings('ignore')"
   ]
  },
  {
   "cell_type": "code",
   "execution_count": 2,
   "id": "a14bc8c7",
   "metadata": {
    "ExecuteTime": {
     "end_time": "2023-05-22T19:43:53.245831Z",
     "start_time": "2023-05-22T19:43:52.789111Z"
    }
   },
   "outputs": [
    {
     "data": {
      "text/html": [
       "<div>\n",
       "<style scoped>\n",
       "    .dataframe tbody tr th:only-of-type {\n",
       "        vertical-align: middle;\n",
       "    }\n",
       "\n",
       "    .dataframe tbody tr th {\n",
       "        vertical-align: top;\n",
       "    }\n",
       "\n",
       "    .dataframe thead th {\n",
       "        text-align: right;\n",
       "    }\n",
       "</style>\n",
       "<table border=\"1\" class=\"dataframe\">\n",
       "  <thead>\n",
       "    <tr style=\"text-align: right;\">\n",
       "      <th></th>\n",
       "      <th>customer_id</th>\n",
       "      <th>customer_acquisition_channel</th>\n",
       "      <th>year</th>\n",
       "      <th>week</th>\n",
       "      <th>net_revenue</th>\n",
       "      <th>gross_revenue</th>\n",
       "      <th>boxes</th>\n",
       "    </tr>\n",
       "  </thead>\n",
       "  <tbody>\n",
       "    <tr>\n",
       "      <th>0</th>\n",
       "      <td>206461</td>\n",
       "      <td>Paid Marketing</td>\n",
       "      <td>2014</td>\n",
       "      <td>W09</td>\n",
       "      <td>71</td>\n",
       "      <td>71</td>\n",
       "      <td>2</td>\n",
       "    </tr>\n",
       "    <tr>\n",
       "      <th>1</th>\n",
       "      <td>462640</td>\n",
       "      <td>Paid Marketing</td>\n",
       "      <td>2015</td>\n",
       "      <td>W25</td>\n",
       "      <td>28</td>\n",
       "      <td>56</td>\n",
       "      <td>1</td>\n",
       "    </tr>\n",
       "    <tr>\n",
       "      <th>2</th>\n",
       "      <td>666461</td>\n",
       "      <td>Referral</td>\n",
       "      <td>2015</td>\n",
       "      <td>W50</td>\n",
       "      <td>40</td>\n",
       "      <td>40</td>\n",
       "      <td>1</td>\n",
       "    </tr>\n",
       "    <tr>\n",
       "      <th>3</th>\n",
       "      <td>183202</td>\n",
       "      <td>Referral</td>\n",
       "      <td>2013</td>\n",
       "      <td>W42</td>\n",
       "      <td>18</td>\n",
       "      <td>37</td>\n",
       "      <td>1</td>\n",
       "    </tr>\n",
       "    <tr>\n",
       "      <th>4</th>\n",
       "      <td>410993</td>\n",
       "      <td>Referral</td>\n",
       "      <td>2014</td>\n",
       "      <td>W29</td>\n",
       "      <td>0</td>\n",
       "      <td>37</td>\n",
       "      <td>1</td>\n",
       "    </tr>\n",
       "    <tr>\n",
       "      <th>...</th>\n",
       "      <td>...</td>\n",
       "      <td>...</td>\n",
       "      <td>...</td>\n",
       "      <td>...</td>\n",
       "      <td>...</td>\n",
       "      <td>...</td>\n",
       "      <td>...</td>\n",
       "    </tr>\n",
       "    <tr>\n",
       "      <th>715870</th>\n",
       "      <td>741230</td>\n",
       "      <td>Referral</td>\n",
       "      <td>2015</td>\n",
       "      <td>W51</td>\n",
       "      <td>0</td>\n",
       "      <td>40</td>\n",
       "      <td>1</td>\n",
       "    </tr>\n",
       "    <tr>\n",
       "      <th>715871</th>\n",
       "      <td>170503</td>\n",
       "      <td>Paid Marketing</td>\n",
       "      <td>2015</td>\n",
       "      <td>W25</td>\n",
       "      <td>9</td>\n",
       "      <td>37</td>\n",
       "      <td>1</td>\n",
       "    </tr>\n",
       "    <tr>\n",
       "      <th>715872</th>\n",
       "      <td>169910</td>\n",
       "      <td>Referral</td>\n",
       "      <td>2015</td>\n",
       "      <td>W04</td>\n",
       "      <td>37</td>\n",
       "      <td>37</td>\n",
       "      <td>1</td>\n",
       "    </tr>\n",
       "    <tr>\n",
       "      <th>715873</th>\n",
       "      <td>542301</td>\n",
       "      <td>Paid Marketing</td>\n",
       "      <td>2015</td>\n",
       "      <td>W11</td>\n",
       "      <td>56</td>\n",
       "      <td>56</td>\n",
       "      <td>1</td>\n",
       "    </tr>\n",
       "    <tr>\n",
       "      <th>715874</th>\n",
       "      <td>725361</td>\n",
       "      <td>Paid Marketing</td>\n",
       "      <td>2015</td>\n",
       "      <td>W50</td>\n",
       "      <td>54</td>\n",
       "      <td>54</td>\n",
       "      <td>1</td>\n",
       "    </tr>\n",
       "  </tbody>\n",
       "</table>\n",
       "<p>715875 rows × 7 columns</p>\n",
       "</div>"
      ],
      "text/plain": [
       "        customer_id customer_acquisition_channel  year week  net_revenue  \\\n",
       "0            206461               Paid Marketing  2014  W09           71   \n",
       "1            462640               Paid Marketing  2015  W25           28   \n",
       "2            666461                     Referral  2015  W50           40   \n",
       "3            183202                     Referral  2013  W42           18   \n",
       "4            410993                     Referral  2014  W29            0   \n",
       "...             ...                          ...   ...  ...          ...   \n",
       "715870       741230                     Referral  2015  W51            0   \n",
       "715871       170503               Paid Marketing  2015  W25            9   \n",
       "715872       169910                     Referral  2015  W04           37   \n",
       "715873       542301               Paid Marketing  2015  W11           56   \n",
       "715874       725361               Paid Marketing  2015  W50           54   \n",
       "\n",
       "        gross_revenue  boxes  \n",
       "0                  71      2  \n",
       "1                  56      1  \n",
       "2                  40      1  \n",
       "3                  37      1  \n",
       "4                  37      1  \n",
       "...               ...    ...  \n",
       "715870             40      1  \n",
       "715871             37      1  \n",
       "715872             37      1  \n",
       "715873             56      1  \n",
       "715874             54      1  \n",
       "\n",
       "[715875 rows x 7 columns]"
      ]
     },
     "execution_count": 2,
     "metadata": {},
     "output_type": "execute_result"
    }
   ],
   "source": [
    "# Importando o dataset\n",
    "df = pd.read_csv(\"previsaoreceita.csv\", sep=';')\n",
    "\n",
    "df"
   ]
  },
  {
   "cell_type": "code",
   "execution_count": 3,
   "id": "ba8b418a",
   "metadata": {
    "ExecuteTime": {
     "end_time": "2023-05-22T19:44:05.246468Z",
     "start_time": "2023-05-22T19:44:04.694805Z"
    },
    "scrolled": false
   },
   "outputs": [
    {
     "data": {
      "text/html": [
       "<div>\n",
       "<style scoped>\n",
       "    .dataframe tbody tr th:only-of-type {\n",
       "        vertical-align: middle;\n",
       "    }\n",
       "\n",
       "    .dataframe tbody tr th {\n",
       "        vertical-align: top;\n",
       "    }\n",
       "\n",
       "    .dataframe thead th {\n",
       "        text-align: right;\n",
       "    }\n",
       "</style>\n",
       "<table border=\"1\" class=\"dataframe\">\n",
       "  <thead>\n",
       "    <tr style=\"text-align: right;\">\n",
       "      <th></th>\n",
       "      <th>customer_id</th>\n",
       "      <th>customer_acquisition_channel</th>\n",
       "      <th>year</th>\n",
       "      <th>week</th>\n",
       "      <th>net_revenue</th>\n",
       "      <th>gross_revenue</th>\n",
       "      <th>boxes</th>\n",
       "      <th>date</th>\n",
       "    </tr>\n",
       "  </thead>\n",
       "  <tbody>\n",
       "    <tr>\n",
       "      <th>0</th>\n",
       "      <td>206461</td>\n",
       "      <td>Paid Marketing</td>\n",
       "      <td>2014</td>\n",
       "      <td>W09</td>\n",
       "      <td>71</td>\n",
       "      <td>71</td>\n",
       "      <td>2</td>\n",
       "      <td>2014-03-03</td>\n",
       "    </tr>\n",
       "    <tr>\n",
       "      <th>1</th>\n",
       "      <td>462640</td>\n",
       "      <td>Paid Marketing</td>\n",
       "      <td>2015</td>\n",
       "      <td>W25</td>\n",
       "      <td>28</td>\n",
       "      <td>56</td>\n",
       "      <td>1</td>\n",
       "      <td>2015-06-22</td>\n",
       "    </tr>\n",
       "    <tr>\n",
       "      <th>2</th>\n",
       "      <td>666461</td>\n",
       "      <td>Referral</td>\n",
       "      <td>2015</td>\n",
       "      <td>W50</td>\n",
       "      <td>40</td>\n",
       "      <td>40</td>\n",
       "      <td>1</td>\n",
       "      <td>2015-12-14</td>\n",
       "    </tr>\n",
       "    <tr>\n",
       "      <th>3</th>\n",
       "      <td>183202</td>\n",
       "      <td>Referral</td>\n",
       "      <td>2013</td>\n",
       "      <td>W42</td>\n",
       "      <td>18</td>\n",
       "      <td>37</td>\n",
       "      <td>1</td>\n",
       "      <td>2013-10-21</td>\n",
       "    </tr>\n",
       "    <tr>\n",
       "      <th>4</th>\n",
       "      <td>410993</td>\n",
       "      <td>Referral</td>\n",
       "      <td>2014</td>\n",
       "      <td>W29</td>\n",
       "      <td>0</td>\n",
       "      <td>37</td>\n",
       "      <td>1</td>\n",
       "      <td>2014-07-21</td>\n",
       "    </tr>\n",
       "  </tbody>\n",
       "</table>\n",
       "</div>"
      ],
      "text/plain": [
       "   customer_id customer_acquisition_channel  year week  net_revenue  \\\n",
       "0       206461               Paid Marketing  2014  W09           71   \n",
       "1       462640               Paid Marketing  2015  W25           28   \n",
       "2       666461                     Referral  2015  W50           40   \n",
       "3       183202                     Referral  2013  W42           18   \n",
       "4       410993                     Referral  2014  W29            0   \n",
       "\n",
       "   gross_revenue  boxes       date  \n",
       "0             71      2 2014-03-03  \n",
       "1             56      1 2015-06-22  \n",
       "2             40      1 2015-12-14  \n",
       "3             37      1 2013-10-21  \n",
       "4             37      1 2014-07-21  "
      ]
     },
     "execution_count": 3,
     "metadata": {},
     "output_type": "execute_result"
    }
   ],
   "source": [
    "# Inserindo a coluna \"date\" como datetime e corrigindo o formato\n",
    "\n",
    "df['date'] = pd.to_datetime((df['year'].astype(str) + ' ' + df['week'] + \" 1\"), format=\"%Y W%W %w\")\n",
    "df.head()"
   ]
  },
  {
   "cell_type": "code",
   "execution_count": 4,
   "id": "88b59dad",
   "metadata": {
    "ExecuteTime": {
     "end_time": "2023-05-22T19:44:27.604750Z",
     "start_time": "2023-05-22T19:44:27.540789Z"
    }
   },
   "outputs": [],
   "source": [
    "# agrupando por data e somando os valores para total semanal\n",
    "\n",
    "df_dashboard = df.groupby(by='date', as_index=False).sum()"
   ]
  },
  {
   "cell_type": "code",
   "execution_count": 5,
   "id": "6744147c",
   "metadata": {
    "ExecuteTime": {
     "end_time": "2023-05-22T19:44:28.979905Z",
     "start_time": "2023-05-22T19:44:28.971911Z"
    }
   },
   "outputs": [],
   "source": [
    "# dropando colunas que não serão utilizadas\n",
    "\n",
    "df_dashboard.drop(columns=(['customer_id', 'boxes', 'year']),inplace=True)"
   ]
  },
  {
   "cell_type": "code",
   "execution_count": 6,
   "id": "889d9e85",
   "metadata": {
    "ExecuteTime": {
     "end_time": "2023-05-22T19:44:30.137196Z",
     "start_time": "2023-05-22T19:44:30.118207Z"
    }
   },
   "outputs": [
    {
     "data": {
      "text/html": [
       "<div>\n",
       "<style scoped>\n",
       "    .dataframe tbody tr th:only-of-type {\n",
       "        vertical-align: middle;\n",
       "    }\n",
       "\n",
       "    .dataframe tbody tr th {\n",
       "        vertical-align: top;\n",
       "    }\n",
       "\n",
       "    .dataframe thead th {\n",
       "        text-align: right;\n",
       "    }\n",
       "</style>\n",
       "<table border=\"1\" class=\"dataframe\">\n",
       "  <thead>\n",
       "    <tr style=\"text-align: right;\">\n",
       "      <th></th>\n",
       "      <th>date</th>\n",
       "      <th>net_revenue</th>\n",
       "      <th>gross_revenue</th>\n",
       "    </tr>\n",
       "  </thead>\n",
       "  <tbody>\n",
       "    <tr>\n",
       "      <th>0</th>\n",
       "      <td>2013-01-14</td>\n",
       "      <td>2310</td>\n",
       "      <td>4047</td>\n",
       "    </tr>\n",
       "    <tr>\n",
       "      <th>1</th>\n",
       "      <td>2013-01-21</td>\n",
       "      <td>12342</td>\n",
       "      <td>20296</td>\n",
       "    </tr>\n",
       "    <tr>\n",
       "      <th>2</th>\n",
       "      <td>2013-01-28</td>\n",
       "      <td>25807</td>\n",
       "      <td>35253</td>\n",
       "    </tr>\n",
       "    <tr>\n",
       "      <th>3</th>\n",
       "      <td>2013-02-04</td>\n",
       "      <td>35713</td>\n",
       "      <td>44641</td>\n",
       "    </tr>\n",
       "    <tr>\n",
       "      <th>4</th>\n",
       "      <td>2013-02-11</td>\n",
       "      <td>41898</td>\n",
       "      <td>52335</td>\n",
       "    </tr>\n",
       "    <tr>\n",
       "      <th>...</th>\n",
       "      <td>...</td>\n",
       "      <td>...</td>\n",
       "      <td>...</td>\n",
       "    </tr>\n",
       "    <tr>\n",
       "      <th>150</th>\n",
       "      <td>2015-11-30</td>\n",
       "      <td>245756</td>\n",
       "      <td>286294</td>\n",
       "    </tr>\n",
       "    <tr>\n",
       "      <th>151</th>\n",
       "      <td>2015-12-07</td>\n",
       "      <td>265797</td>\n",
       "      <td>310562</td>\n",
       "    </tr>\n",
       "    <tr>\n",
       "      <th>152</th>\n",
       "      <td>2015-12-14</td>\n",
       "      <td>261247</td>\n",
       "      <td>295797</td>\n",
       "    </tr>\n",
       "    <tr>\n",
       "      <th>153</th>\n",
       "      <td>2015-12-21</td>\n",
       "      <td>216590</td>\n",
       "      <td>240226</td>\n",
       "    </tr>\n",
       "    <tr>\n",
       "      <th>154</th>\n",
       "      <td>2015-12-28</td>\n",
       "      <td>147896</td>\n",
       "      <td>165642</td>\n",
       "    </tr>\n",
       "  </tbody>\n",
       "</table>\n",
       "<p>155 rows × 3 columns</p>\n",
       "</div>"
      ],
      "text/plain": [
       "          date  net_revenue  gross_revenue\n",
       "0   2013-01-14         2310           4047\n",
       "1   2013-01-21        12342          20296\n",
       "2   2013-01-28        25807          35253\n",
       "3   2013-02-04        35713          44641\n",
       "4   2013-02-11        41898          52335\n",
       "..         ...          ...            ...\n",
       "150 2015-11-30       245756         286294\n",
       "151 2015-12-07       265797         310562\n",
       "152 2015-12-14       261247         295797\n",
       "153 2015-12-21       216590         240226\n",
       "154 2015-12-28       147896         165642\n",
       "\n",
       "[155 rows x 3 columns]"
      ]
     },
     "execution_count": 6,
     "metadata": {},
     "output_type": "execute_result"
    }
   ],
   "source": [
    "df_dashboard"
   ]
  },
  {
   "cell_type": "code",
   "execution_count": 7,
   "id": "39cebaf0",
   "metadata": {
    "ExecuteTime": {
     "end_time": "2023-05-22T19:44:30.641886Z",
     "start_time": "2023-05-22T19:44:30.613903Z"
    },
    "scrolled": true
   },
   "outputs": [
    {
     "data": {
      "text/html": [
       "<div>\n",
       "<style scoped>\n",
       "    .dataframe tbody tr th:only-of-type {\n",
       "        vertical-align: middle;\n",
       "    }\n",
       "\n",
       "    .dataframe tbody tr th {\n",
       "        vertical-align: top;\n",
       "    }\n",
       "\n",
       "    .dataframe thead th {\n",
       "        text-align: right;\n",
       "    }\n",
       "</style>\n",
       "<table border=\"1\" class=\"dataframe\">\n",
       "  <thead>\n",
       "    <tr style=\"text-align: right;\">\n",
       "      <th></th>\n",
       "      <th>net_revenue</th>\n",
       "      <th>gross_revenue</th>\n",
       "    </tr>\n",
       "  </thead>\n",
       "  <tbody>\n",
       "    <tr>\n",
       "      <th>count</th>\n",
       "      <td>155.000000</td>\n",
       "      <td>155.000000</td>\n",
       "    </tr>\n",
       "    <tr>\n",
       "      <th>mean</th>\n",
       "      <td>168186.458065</td>\n",
       "      <td>191349.161290</td>\n",
       "    </tr>\n",
       "    <tr>\n",
       "      <th>std</th>\n",
       "      <td>58405.262689</td>\n",
       "      <td>65795.835986</td>\n",
       "    </tr>\n",
       "    <tr>\n",
       "      <th>min</th>\n",
       "      <td>2310.000000</td>\n",
       "      <td>4047.000000</td>\n",
       "    </tr>\n",
       "    <tr>\n",
       "      <th>25%</th>\n",
       "      <td>134519.500000</td>\n",
       "      <td>158289.000000</td>\n",
       "    </tr>\n",
       "    <tr>\n",
       "      <th>50%</th>\n",
       "      <td>182827.000000</td>\n",
       "      <td>207843.000000</td>\n",
       "    </tr>\n",
       "    <tr>\n",
       "      <th>75%</th>\n",
       "      <td>206546.500000</td>\n",
       "      <td>233300.500000</td>\n",
       "    </tr>\n",
       "    <tr>\n",
       "      <th>max</th>\n",
       "      <td>323891.000000</td>\n",
       "      <td>363693.000000</td>\n",
       "    </tr>\n",
       "  </tbody>\n",
       "</table>\n",
       "</div>"
      ],
      "text/plain": [
       "         net_revenue  gross_revenue\n",
       "count     155.000000     155.000000\n",
       "mean   168186.458065  191349.161290\n",
       "std     58405.262689   65795.835986\n",
       "min      2310.000000    4047.000000\n",
       "25%    134519.500000  158289.000000\n",
       "50%    182827.000000  207843.000000\n",
       "75%    206546.500000  233300.500000\n",
       "max    323891.000000  363693.000000"
      ]
     },
     "execution_count": 7,
     "metadata": {},
     "output_type": "execute_result"
    }
   ],
   "source": [
    "df_dashboard.describe()"
   ]
  },
  {
   "cell_type": "code",
   "execution_count": 8,
   "id": "edb7b1b5",
   "metadata": {
    "ExecuteTime": {
     "end_time": "2023-05-22T19:44:31.919103Z",
     "start_time": "2023-05-22T19:44:31.754204Z"
    },
    "scrolled": false
   },
   "outputs": [
    {
     "data": {
      "image/png": "[encoded data removed]",
      "text/plain": [
       "<Figure size 640x480 with 1 Axes>"
      ]
     },
     "metadata": {},
     "output_type": "display_data"
    }
   ],
   "source": [
    "# Verificando a distribuição\n",
    "\n",
    "sns.distplot(df_dashboard['gross_revenue']);"
   ]
  },
  {
   "cell_type": "code",
   "execution_count": 13,
   "id": "5db1175c",
   "metadata": {
    "ExecuteTime": {
     "end_time": "2023-05-22T19:49:48.748710Z",
     "start_time": "2023-05-22T19:49:48.596803Z"
    }
   },
   "outputs": [
    {
     "data": {
      "image/png": "[encoded data removed]",
      "text/plain": [
       "<Figure size 640x480 with 1 Axes>"
      ]
     },
     "metadata": {},
     "output_type": "display_data"
    }
   ],
   "source": [
    "sns.distplot(df_dashboard['net_revenue']);"
   ]
  },
  {
   "cell_type": "code",
   "execution_count": 37,
   "id": "bc720482",
   "metadata": {
    "ExecuteTime": {
     "end_time": "2023-05-22T20:14:09.752809Z",
     "start_time": "2023-05-22T20:14:09.737818Z"
    },
    "scrolled": true
   },
   "outputs": [
    {
     "data": {
      "text/plain": [
       "net_revenue      17.456104\n",
       "gross_revenue    14.524173\n",
       "dtype: float64"
      ]
     },
     "execution_count": 37,
     "metadata": {},
     "output_type": "execute_result"
    }
   ],
   "source": [
    "# Nível de densidade Leptocúrtica\n",
    "\n",
    "df_dashboard.kurtosis()"
   ]
  },
  {
   "cell_type": "code",
   "execution_count": 14,
   "id": "cdf88478",
   "metadata": {
    "ExecuteTime": {
     "end_time": "2023-05-22T19:53:54.013739Z",
     "start_time": "2023-05-22T19:53:53.998747Z"
    }
   },
   "outputs": [
    {
     "data": {
      "text/plain": [
       "3411174709.7303715"
      ]
     },
     "execution_count": 14,
     "metadata": {},
     "output_type": "execute_result"
    }
   ],
   "source": [
    "# exibindo a variação para verificação da dispersão dos dados\n",
    "\n",
    "df_dashboard['net_revenue'].var()"
   ]
  },
  {
   "cell_type": "code",
   "execution_count": 15,
   "id": "253e5587",
   "metadata": {
    "ExecuteTime": {
     "end_time": "2023-05-22T19:53:55.734682Z",
     "start_time": "2023-05-22T19:53:55.725688Z"
    }
   },
   "outputs": [
    {
     "data": {
      "text/plain": [
       "58405.26268865137"
      ]
     },
     "execution_count": 15,
     "metadata": {},
     "output_type": "execute_result"
    }
   ],
   "source": [
    "# consultando o desvio padrão para analisar quanto os dados estão distantes da média\n",
    "\n",
    "df_dashboard['net_revenue'].std()"
   ]
  },
  {
   "cell_type": "code",
   "execution_count": 16,
   "id": "3e2327e3",
   "metadata": {
    "ExecuteTime": {
     "end_time": "2023-05-22T19:59:03.483861Z",
     "start_time": "2023-05-22T19:59:03.467872Z"
    }
   },
   "outputs": [],
   "source": [
    "# tirando o log para diminuir a variância e desvio padrão dos dados\n",
    "# aproximando-os da média, deixando-os mais próximos de distribuição normal\n",
    "# e melhorando o desempenho do modelo\n",
    " \n",
    "\n",
    "df_dashboard['net_revenue'] = np.log(df_dashboard['net_revenue'])"
   ]
  },
  {
   "cell_type": "code",
   "execution_count": 17,
   "id": "970280e6",
   "metadata": {
    "ExecuteTime": {
     "end_time": "2023-05-22T19:59:05.389692Z",
     "start_time": "2023-05-22T19:59:05.176822Z"
    }
   },
   "outputs": [
    {
     "data": {
      "image/png": "[encoded data removed]",
      "text/plain": [
       "<Figure size 640x480 with 1 Axes>"
      ]
     },
     "metadata": {},
     "output_type": "display_data"
    }
   ],
   "source": [
    "# Distribuição exponencial enviesada para esquerda\n",
    "\n",
    "sns.distplot(df_dashboard['net_revenue']);"
   ]
  },
  {
   "cell_type": "code",
   "execution_count": 18,
   "id": "a7c759e6",
   "metadata": {
    "ExecuteTime": {
     "end_time": "2023-05-22T19:59:15.468508Z",
     "start_time": "2023-05-22T19:59:15.457513Z"
    }
   },
   "outputs": [
    {
     "data": {
      "text/plain": [
       "0.5916915430442083"
      ]
     },
     "execution_count": 18,
     "metadata": {},
     "output_type": "execute_result"
    }
   ],
   "source": [
    "# Aqui vemos que o desvio-padrão tornou-se muito menor\n",
    "\n",
    "df_dashboard['net_revenue'].std()"
   ]
  },
  {
   "cell_type": "code",
   "execution_count": 19,
   "id": "07b7d1f7",
   "metadata": {
    "ExecuteTime": {
     "end_time": "2023-05-22T20:00:40.703211Z",
     "start_time": "2023-05-22T20:00:40.689220Z"
    }
   },
   "outputs": [
    {
     "data": {
      "text/plain": [
       "0.35009888211003626"
      ]
     },
     "execution_count": 19,
     "metadata": {},
     "output_type": "execute_result"
    }
   ],
   "source": [
    "# Menor variação, melhor desempenho\n",
    "\n",
    "df_dashboard['net_revenue'].var()"
   ]
  },
  {
   "cell_type": "code",
   "execution_count": 20,
   "id": "180bd760",
   "metadata": {
    "ExecuteTime": {
     "end_time": "2023-05-22T20:01:16.109488Z",
     "start_time": "2023-05-22T20:01:15.958580Z"
    }
   },
   "outputs": [
    {
     "data": {
      "image/png": "[encoded data removed]",
      "text/plain": [
       "<Figure size 640x480 with 1 Axes>"
      ]
     },
     "metadata": {},
     "output_type": "display_data"
    }
   ],
   "source": [
    "sns.distplot(df_dashboard['gross_revenue']);"
   ]
  },
  {
   "cell_type": "code",
   "execution_count": 21,
   "id": "fe58791e",
   "metadata": {
    "ExecuteTime": {
     "end_time": "2023-05-22T20:01:22.906318Z",
     "start_time": "2023-05-22T20:01:22.900322Z"
    }
   },
   "outputs": [
    {
     "data": {
      "text/plain": [
       "65795.83598639922"
      ]
     },
     "execution_count": 21,
     "metadata": {},
     "output_type": "execute_result"
    }
   ],
   "source": [
    "df_dashboard['gross_revenue'].std()"
   ]
  },
  {
   "cell_type": "code",
   "execution_count": 22,
   "id": "35c3ce9c",
   "metadata": {
    "ExecuteTime": {
     "end_time": "2023-05-22T20:01:23.313068Z",
     "start_time": "2023-05-22T20:01:23.303074Z"
    }
   },
   "outputs": [
    {
     "data": {
      "text/plain": [
       "4329092033.149147"
      ]
     },
     "execution_count": 22,
     "metadata": {},
     "output_type": "execute_result"
    }
   ],
   "source": [
    "df_dashboard['gross_revenue'].var()"
   ]
  },
  {
   "cell_type": "code",
   "execution_count": 23,
   "id": "05728d72",
   "metadata": {
    "ExecuteTime": {
     "end_time": "2023-05-22T20:01:35.765426Z",
     "start_time": "2023-05-22T20:01:35.760430Z"
    }
   },
   "outputs": [],
   "source": [
    "df_dashboard['gross_revenue'] = np.log(df_dashboard['gross_revenue'])"
   ]
  },
  {
   "cell_type": "code",
   "execution_count": 24,
   "id": "f6c9f8cc",
   "metadata": {
    "ExecuteTime": {
     "end_time": "2023-05-22T20:01:36.330080Z",
     "start_time": "2023-05-22T20:01:36.323086Z"
    }
   },
   "outputs": [
    {
     "data": {
      "text/plain": [
       "0.5525069531965929"
      ]
     },
     "execution_count": 24,
     "metadata": {},
     "output_type": "execute_result"
    }
   ],
   "source": [
    "df_dashboard['gross_revenue'].std()"
   ]
  },
  {
   "cell_type": "code",
   "execution_count": 25,
   "id": "0e331604",
   "metadata": {
    "ExecuteTime": {
     "end_time": "2023-05-22T20:01:37.156574Z",
     "start_time": "2023-05-22T20:01:37.144581Z"
    }
   },
   "outputs": [
    {
     "data": {
      "text/plain": [
       "0.30526393333058216"
      ]
     },
     "execution_count": 25,
     "metadata": {},
     "output_type": "execute_result"
    }
   ],
   "source": [
    "df_dashboard['gross_revenue'].var()"
   ]
  },
  {
   "cell_type": "code",
   "execution_count": 26,
   "id": "1fd79282",
   "metadata": {
    "ExecuteTime": {
     "end_time": "2023-05-22T20:01:46.281976Z",
     "start_time": "2023-05-22T20:01:46.104091Z"
    }
   },
   "outputs": [
    {
     "data": {
      "image/png": "[encoded data removed]",
      "text/plain": [
       "<Figure size 640x480 with 1 Axes>"
      ]
     },
     "metadata": {},
     "output_type": "display_data"
    }
   ],
   "source": [
    "# Distribuição exponencial enviesada para esquerda\n",
    "\n",
    "sns.distplot(df_dashboard['gross_revenue']);"
   ]
  },
  {
   "cell_type": "code",
   "execution_count": 27,
   "id": "e8da5731",
   "metadata": {
    "ExecuteTime": {
     "end_time": "2023-05-22T20:04:40.851866Z",
     "start_time": "2023-05-22T20:04:40.844872Z"
    }
   },
   "outputs": [
    {
     "data": {
      "text/plain": [
       "ShapiroResult(statistic=0.7184820175170898, pvalue=6.891274770403776e-16)"
      ]
     },
     "execution_count": 27,
     "metadata": {},
     "output_type": "execute_result"
    }
   ],
   "source": [
    "# Teste de shapiro-Wilk\n",
    "# Como o valor p está muito menor que o nível de significância de 0.05,\n",
    "# há evidências suficientes para negar a hipótese nula e aceitar a alternativa\n",
    "# de que a distribuição NÃO é normal e sim alternativa\n",
    "\n",
    "shapiro(df_dashboard['gross_revenue'])"
   ]
  },
  {
   "cell_type": "code",
   "execution_count": 28,
   "id": "13ae7d3a",
   "metadata": {
    "ExecuteTime": {
     "end_time": "2023-05-22T20:04:49.141780Z",
     "start_time": "2023-05-22T20:04:49.014857Z"
    },
    "scrolled": false
   },
   "outputs": [
    {
     "data": {
      "image/png": "[encoded data removed]",
      "text/plain": [
       "<Figure size 640x480 with 1 Axes>"
      ]
     },
     "metadata": {},
     "output_type": "display_data"
    }
   ],
   "source": [
    "# Mais um teste para mostrar que a distribuição não é normal\n",
    "\n",
    "stats.probplot(df_dashboard['gross_revenue'], dist='norm', plot=plt)\n",
    "plt.title(\"Normal Q-Q plot\")\n",
    "plt.show()"
   ]
  },
  {
   "cell_type": "code",
   "execution_count": 29,
   "id": "988e31e9",
   "metadata": {
    "ExecuteTime": {
     "end_time": "2023-05-22T20:06:30.391658Z",
     "start_time": "2023-05-22T20:06:30.378666Z"
    }
   },
   "outputs": [
    {
     "data": {
      "text/plain": [
       "ShapiroResult(statistic=0.6835340261459351, pvalue=7.714647043416609e-17)"
      ]
     },
     "execution_count": 29,
     "metadata": {},
     "output_type": "execute_result"
    }
   ],
   "source": [
    "# Mais um teste que demonstra haver evidências suficientes para rejeitar a hipótese nula\n",
    "# e aceitar a hipótese alternativa de que a distribuição NÃO é normal e sim alternativa\n",
    "\n",
    "shapiro(df_dashboard['net_revenue'])"
   ]
  },
  {
   "cell_type": "code",
   "execution_count": 30,
   "id": "b97905a9",
   "metadata": {
    "ExecuteTime": {
     "end_time": "2023-05-22T20:07:39.875539Z",
     "start_time": "2023-05-22T20:07:39.742623Z"
    }
   },
   "outputs": [
    {
     "data": {
      "image/png": "[encoded data removed]",
      "text/plain": [
       "<Figure size 640x480 with 1 Axes>"
      ]
     },
     "metadata": {},
     "output_type": "display_data"
    }
   ],
   "source": [
    "stats.probplot(df_dashboard['net_revenue'], dist='norm', plot=plt)\n",
    "plt.title(\"Normal Q-Q plot\")\n",
    "plt.show()"
   ]
  },
  {
   "cell_type": "code",
   "execution_count": 39,
   "id": "20f3e29c",
   "metadata": {
    "ExecuteTime": {
     "end_time": "2023-05-22T20:17:32.382204Z",
     "start_time": "2023-05-22T20:17:32.271273Z"
    },
    "scrolled": false
   },
   "outputs": [
    {
     "data": {
      "image/png": "[encoded data removed]",
      "text/plain": [
       "<Figure size 640x480 with 1 Axes>"
      ]
     },
     "metadata": {},
     "output_type": "display_data"
    }
   ],
   "source": [
    "# analisando a diferença dos quartis, interquartis, mediana,\n",
    "# valores mínimos e máximos, além de alguns outliers\n",
    "\n",
    "sns.boxplot(data = df_dashboard.iloc[:, 1:]);"
   ]
  },
  {
   "cell_type": "code",
   "execution_count": 33,
   "id": "0879b442",
   "metadata": {
    "ExecuteTime": {
     "end_time": "2023-05-22T20:13:05.517222Z",
     "start_time": "2023-05-22T20:13:05.509228Z"
    },
    "scrolled": true
   },
   "outputs": [
    {
     "data": {
      "text/plain": [
       "(net_revenue      11.923673\n",
       " gross_revenue    12.060949\n",
       " dtype: float64,\n",
       " net_revenue      12.116296\n",
       " gross_revenue    12.244538\n",
       " dtype: float64)"
      ]
     },
     "execution_count": 33,
     "metadata": {},
     "output_type": "execute_result"
    }
   ],
   "source": [
    "df_dashboard.mean(), df_dashboard.median()"
   ]
  },
  {
   "cell_type": "code",
   "execution_count": 41,
   "id": "e48596d6",
   "metadata": {
    "ExecuteTime": {
     "end_time": "2023-05-22T20:21:18.924505Z",
     "start_time": "2023-05-22T20:21:18.766602Z"
    }
   },
   "outputs": [
    {
     "data": {
      "image/png": "[encoded data removed]",
      "text/plain": [
       "<Figure size 640x480 with 1 Axes>"
      ]
     },
     "metadata": {},
     "output_type": "display_data"
    }
   ],
   "source": [
    "# Plota um histograma com a média em vermelho e a mediana em preto\n",
    "\n",
    "nome = 'Net Revenue'\n",
    "name = 'Gross Revenue'\n",
    "df_dashboard['net_revenue'].hist()\n",
    "\n",
    "plt.xlabel(nome, size=14)\n",
    "\n",
    "# Média, mediana\n",
    "plt.plot(df_dashboard['net_revenue'].median(),0, '*r')\n",
    "plt.plot(df_dashboard['net_revenue'].mean(), 0, 'ok')\n",
    "plt.show()"
   ]
  },
  {
   "cell_type": "code",
   "execution_count": 42,
   "id": "abc89c06",
   "metadata": {
    "ExecuteTime": {
     "end_time": "2023-05-22T20:22:02.893391Z",
     "start_time": "2023-05-22T20:22:02.747480Z"
    },
    "scrolled": false
   },
   "outputs": [
    {
     "data": {
      "image/png": "[encoded data removed]",
      "text/plain": [
       "<Figure size 640x480 with 1 Axes>"
      ]
     },
     "metadata": {},
     "output_type": "display_data"
    }
   ],
   "source": [
    "df_dashboard['gross_revenue'].hist()\n",
    "\n",
    "plt.xlabel(name, size=14)\n",
    "\n",
    "# Média, mediana\n",
    "plt.plot(df_dashboard['gross_revenue'].median(),0, '*r')\n",
    "plt.plot(df_dashboard['gross_revenue'].mean(), 0, 'ok')\n",
    "plt.show()"
   ]
  },
  {
   "cell_type": "markdown",
   "id": "2791c5f1",
   "metadata": {},
   "source": [
    "## Resultado de vendas: Gross Revenue e Net Revenue"
   ]
  },
  {
   "cell_type": "code",
   "execution_count": 40,
   "id": "f6de1f71",
   "metadata": {
    "ExecuteTime": {
     "end_time": "2023-05-22T20:18:04.663297Z",
     "start_time": "2023-05-22T20:18:04.650305Z"
    }
   },
   "outputs": [
    {
     "data": {
      "text/html": [
       "<div>\n",
       "<style scoped>\n",
       "    .dataframe tbody tr th:only-of-type {\n",
       "        vertical-align: middle;\n",
       "    }\n",
       "\n",
       "    .dataframe tbody tr th {\n",
       "        vertical-align: top;\n",
       "    }\n",
       "\n",
       "    .dataframe thead th {\n",
       "        text-align: right;\n",
       "    }\n",
       "</style>\n",
       "<table border=\"1\" class=\"dataframe\">\n",
       "  <thead>\n",
       "    <tr style=\"text-align: right;\">\n",
       "      <th></th>\n",
       "      <th>date</th>\n",
       "      <th>net_revenue</th>\n",
       "      <th>gross_revenue</th>\n",
       "    </tr>\n",
       "  </thead>\n",
       "  <tbody>\n",
       "    <tr>\n",
       "      <th>0</th>\n",
       "      <td>2013-01-14</td>\n",
       "      <td>7.745003</td>\n",
       "      <td>8.305731</td>\n",
       "    </tr>\n",
       "    <tr>\n",
       "      <th>1</th>\n",
       "      <td>2013-01-21</td>\n",
       "      <td>9.420763</td>\n",
       "      <td>9.918179</td>\n",
       "    </tr>\n",
       "    <tr>\n",
       "      <th>2</th>\n",
       "      <td>2013-01-28</td>\n",
       "      <td>10.158401</td>\n",
       "      <td>10.470306</td>\n",
       "    </tr>\n",
       "    <tr>\n",
       "      <th>3</th>\n",
       "      <td>2013-02-04</td>\n",
       "      <td>10.483270</td>\n",
       "      <td>10.706408</td>\n",
       "    </tr>\n",
       "    <tr>\n",
       "      <th>4</th>\n",
       "      <td>2013-02-11</td>\n",
       "      <td>10.642993</td>\n",
       "      <td>10.865421</td>\n",
       "    </tr>\n",
       "    <tr>\n",
       "      <th>...</th>\n",
       "      <td>...</td>\n",
       "      <td>...</td>\n",
       "      <td>...</td>\n",
       "    </tr>\n",
       "    <tr>\n",
       "      <th>150</th>\n",
       "      <td>2015-11-30</td>\n",
       "      <td>12.412094</td>\n",
       "      <td>12.564775</td>\n",
       "    </tr>\n",
       "    <tr>\n",
       "      <th>151</th>\n",
       "      <td>2015-12-07</td>\n",
       "      <td>12.490488</td>\n",
       "      <td>12.646139</td>\n",
       "    </tr>\n",
       "    <tr>\n",
       "      <th>152</th>\n",
       "      <td>2015-12-14</td>\n",
       "      <td>12.473222</td>\n",
       "      <td>12.597429</td>\n",
       "    </tr>\n",
       "    <tr>\n",
       "      <th>153</th>\n",
       "      <td>2015-12-21</td>\n",
       "      <td>12.285761</td>\n",
       "      <td>12.389335</td>\n",
       "    </tr>\n",
       "    <tr>\n",
       "      <th>154</th>\n",
       "      <td>2015-12-28</td>\n",
       "      <td>11.904265</td>\n",
       "      <td>12.017584</td>\n",
       "    </tr>\n",
       "  </tbody>\n",
       "</table>\n",
       "<p>155 rows × 3 columns</p>\n",
       "</div>"
      ],
      "text/plain": [
       "          date  net_revenue  gross_revenue\n",
       "0   2013-01-14     7.745003       8.305731\n",
       "1   2013-01-21     9.420763       9.918179\n",
       "2   2013-01-28    10.158401      10.470306\n",
       "3   2013-02-04    10.483270      10.706408\n",
       "4   2013-02-11    10.642993      10.865421\n",
       "..         ...          ...            ...\n",
       "150 2015-11-30    12.412094      12.564775\n",
       "151 2015-12-07    12.490488      12.646139\n",
       "152 2015-12-14    12.473222      12.597429\n",
       "153 2015-12-21    12.285761      12.389335\n",
       "154 2015-12-28    11.904265      12.017584\n",
       "\n",
       "[155 rows x 3 columns]"
      ]
     },
     "execution_count": 40,
     "metadata": {},
     "output_type": "execute_result"
    }
   ],
   "source": [
    "df_dashboard"
   ]
  },
  {
   "cell_type": "markdown",
   "id": "0464657c",
   "metadata": {},
   "source": [
    "## Maiores vendas"
   ]
  },
  {
   "cell_type": "code",
   "execution_count": 44,
   "id": "67da4922",
   "metadata": {
    "ExecuteTime": {
     "end_time": "2023-05-22T20:24:38.379509Z",
     "start_time": "2023-05-22T20:24:38.246591Z"
    },
    "scrolled": true
   },
   "outputs": [
    {
     "data": {
      "text/html": [
       "<div>\n",
       "<style scoped>\n",
       "    .dataframe tbody tr th:only-of-type {\n",
       "        vertical-align: middle;\n",
       "    }\n",
       "\n",
       "    .dataframe tbody tr th {\n",
       "        vertical-align: top;\n",
       "    }\n",
       "\n",
       "    .dataframe thead th {\n",
       "        text-align: right;\n",
       "    }\n",
       "</style>\n",
       "<table border=\"1\" class=\"dataframe\">\n",
       "  <thead>\n",
       "    <tr style=\"text-align: right;\">\n",
       "      <th></th>\n",
       "      <th>year</th>\n",
       "      <th>customer_acquisition_channel</th>\n",
       "      <th>gross_revenue</th>\n",
       "    </tr>\n",
       "  </thead>\n",
       "  <tbody>\n",
       "    <tr>\n",
       "      <th>0</th>\n",
       "      <td>2013</td>\n",
       "      <td>Paid Marketing</td>\n",
       "      <td>42.076349</td>\n",
       "    </tr>\n",
       "    <tr>\n",
       "      <th>1</th>\n",
       "      <td>2013</td>\n",
       "      <td>Referral</td>\n",
       "      <td>39.821818</td>\n",
       "    </tr>\n",
       "    <tr>\n",
       "      <th>2</th>\n",
       "      <td>2014</td>\n",
       "      <td>Paid Marketing</td>\n",
       "      <td>41.347089</td>\n",
       "    </tr>\n",
       "    <tr>\n",
       "      <th>3</th>\n",
       "      <td>2014</td>\n",
       "      <td>Referral</td>\n",
       "      <td>39.619903</td>\n",
       "    </tr>\n",
       "    <tr>\n",
       "      <th>4</th>\n",
       "      <td>2015</td>\n",
       "      <td>Paid Marketing</td>\n",
       "      <td>42.039881</td>\n",
       "    </tr>\n",
       "    <tr>\n",
       "      <th>5</th>\n",
       "      <td>2015</td>\n",
       "      <td>Referral</td>\n",
       "      <td>40.728221</td>\n",
       "    </tr>\n",
       "  </tbody>\n",
       "</table>\n",
       "</div>"
      ],
      "text/plain": [
       "   year customer_acquisition_channel  gross_revenue\n",
       "0  2013               Paid Marketing      42.076349\n",
       "1  2013                     Referral      39.821818\n",
       "2  2014               Paid Marketing      41.347089\n",
       "3  2014                     Referral      39.619903\n",
       "4  2015               Paid Marketing      42.039881\n",
       "5  2015                     Referral      40.728221"
      ]
     },
     "execution_count": 44,
     "metadata": {},
     "output_type": "execute_result"
    }
   ],
   "source": [
    "average_ticket = df.groupby(by=(['year', 'customer_acquisition_channel']), as_index=False).mean()\n",
    "average_ticket.drop(columns=(['customer_id', 'net_revenue', 'boxes']), inplace=True)\n",
    "average_ticket"
   ]
  },
  {
   "cell_type": "code",
   "execution_count": 45,
   "id": "053fcd9e",
   "metadata": {
    "ExecuteTime": {
     "end_time": "2023-05-22T20:24:48.706140Z",
     "start_time": "2023-05-22T20:24:48.693150Z"
    },
    "scrolled": true
   },
   "outputs": [
    {
     "data": {
      "text/html": [
       "<div>\n",
       "<style scoped>\n",
       "    .dataframe tbody tr th:only-of-type {\n",
       "        vertical-align: middle;\n",
       "    }\n",
       "\n",
       "    .dataframe tbody tr th {\n",
       "        vertical-align: top;\n",
       "    }\n",
       "\n",
       "    .dataframe thead th {\n",
       "        text-align: right;\n",
       "    }\n",
       "</style>\n",
       "<table border=\"1\" class=\"dataframe\">\n",
       "  <thead>\n",
       "    <tr style=\"text-align: right;\">\n",
       "      <th></th>\n",
       "      <th>year</th>\n",
       "      <th>customer_acquisition_channel</th>\n",
       "      <th>gross_revenue</th>\n",
       "    </tr>\n",
       "  </thead>\n",
       "  <tbody>\n",
       "    <tr>\n",
       "      <th>0</th>\n",
       "      <td>2013</td>\n",
       "      <td>Paid Marketing</td>\n",
       "      <td>42.076349</td>\n",
       "    </tr>\n",
       "    <tr>\n",
       "      <th>1</th>\n",
       "      <td>2013</td>\n",
       "      <td>Referral</td>\n",
       "      <td>39.821818</td>\n",
       "    </tr>\n",
       "    <tr>\n",
       "      <th>4</th>\n",
       "      <td>2015</td>\n",
       "      <td>Paid Marketing</td>\n",
       "      <td>42.039881</td>\n",
       "    </tr>\n",
       "    <tr>\n",
       "      <th>5</th>\n",
       "      <td>2015</td>\n",
       "      <td>Referral</td>\n",
       "      <td>40.728221</td>\n",
       "    </tr>\n",
       "  </tbody>\n",
       "</table>\n",
       "</div>"
      ],
      "text/plain": [
       "   year customer_acquisition_channel  gross_revenue\n",
       "0  2013               Paid Marketing      42.076349\n",
       "1  2013                     Referral      39.821818\n",
       "4  2015               Paid Marketing      42.039881\n",
       "5  2015                     Referral      40.728221"
      ]
     },
     "execution_count": 45,
     "metadata": {},
     "output_type": "execute_result"
    }
   ],
   "source": [
    "# Em 2013 o maior ticket médio foi de Paid Marketing com 42.076349 contra 39.821818 do Referral\n",
    "# Em 2015 o maior ticket médio foi novamente de Paid Marketing com 42.039881 contra 40.728221 do Referral\n",
    "\n",
    "average_ticket = average_ticket.drop(index=([2,3]))\n",
    "average_ticket"
   ]
  },
  {
   "cell_type": "code",
   "execution_count": 56,
   "id": "516a0a7b",
   "metadata": {
    "ExecuteTime": {
     "end_time": "2023-05-22T20:29:15.377695Z",
     "start_time": "2023-05-22T20:29:15.184815Z"
    }
   },
   "outputs": [
    {
     "data": {
      "image/png": "[encoded data removed]",
      "text/plain": [
       "<Figure size 640x480 with 1 Axes>"
      ]
     },
     "metadata": {},
     "output_type": "display_data"
    },
    {
     "data": {
      "text/plain": [
       "<ggplot: (6660849)>"
      ]
     },
     "execution_count": 56,
     "metadata": {},
     "output_type": "execute_result"
    }
   ],
   "source": [
    "(\n",
    "    ggplot(average_ticket)\n",
    "    + aes(x=\"customer_acquisition_channel\", y=\"gross_revenue\")\n",
    "    + labs(\n",
    "        x=\"customer_acquisition_channel\",\n",
    "        y=\"gross_revenue\",\n",
    "    )\n",
    "    + geom_col()\n",
    ")"
   ]
  },
  {
   "cell_type": "markdown",
   "id": "ec0bfade",
   "metadata": {},
   "source": [
    "## Número de clientes únicos por ano 2013x2015"
   ]
  },
  {
   "cell_type": "code",
   "execution_count": 46,
   "id": "88da0018",
   "metadata": {
    "ExecuteTime": {
     "end_time": "2023-05-22T20:25:30.924111Z",
     "start_time": "2023-05-22T20:25:29.725845Z"
    }
   },
   "outputs": [],
   "source": [
    "unique_customers = df.groupby(by='year', as_index=False).nunique()\n",
    "unique_customers.drop(columns=(['customer_acquisition_channel', 'week', 'net_revenue', 'boxes', 'date', 'gross_revenue']), inplace=True)"
   ]
  },
  {
   "cell_type": "code",
   "execution_count": 47,
   "id": "3932c955",
   "metadata": {
    "ExecuteTime": {
     "end_time": "2023-05-22T20:25:31.517741Z",
     "start_time": "2023-05-22T20:25:31.499752Z"
    }
   },
   "outputs": [],
   "source": [
    "unique_customers = unique_customers.drop(index=(1))"
   ]
  },
  {
   "cell_type": "code",
   "execution_count": 48,
   "id": "9fc0a4a2",
   "metadata": {
    "ExecuteTime": {
     "end_time": "2023-05-22T20:25:32.205316Z",
     "start_time": "2023-05-22T20:25:32.196324Z"
    }
   },
   "outputs": [
    {
     "data": {
      "text/html": [
       "<div>\n",
       "<style scoped>\n",
       "    .dataframe tbody tr th:only-of-type {\n",
       "        vertical-align: middle;\n",
       "    }\n",
       "\n",
       "    .dataframe tbody tr th {\n",
       "        vertical-align: top;\n",
       "    }\n",
       "\n",
       "    .dataframe thead th {\n",
       "        text-align: right;\n",
       "    }\n",
       "</style>\n",
       "<table border=\"1\" class=\"dataframe\">\n",
       "  <thead>\n",
       "    <tr style=\"text-align: right;\">\n",
       "      <th></th>\n",
       "      <th>year</th>\n",
       "      <th>customer_id</th>\n",
       "    </tr>\n",
       "  </thead>\n",
       "  <tbody>\n",
       "    <tr>\n",
       "      <th>0</th>\n",
       "      <td>2013</td>\n",
       "      <td>35851</td>\n",
       "    </tr>\n",
       "    <tr>\n",
       "      <th>2</th>\n",
       "      <td>2015</td>\n",
       "      <td>51643</td>\n",
       "    </tr>\n",
       "  </tbody>\n",
       "</table>\n",
       "</div>"
      ],
      "text/plain": [
       "   year  customer_id\n",
       "0  2013        35851\n",
       "2  2015        51643"
      ]
     },
     "execution_count": 48,
     "metadata": {},
     "output_type": "execute_result"
    }
   ],
   "source": [
    "# Em 2013 tivemos 35851 clientes únicos\n",
    "# Em 2015 este número subiu para 51643\n",
    "\n",
    "unique_customers"
   ]
  },
  {
   "cell_type": "code",
   "execution_count": 49,
   "id": "57dc98c8",
   "metadata": {
    "ExecuteTime": {
     "end_time": "2023-05-22T20:25:52.659704Z",
     "start_time": "2023-05-22T20:25:52.417853Z"
    },
    "scrolled": false
   },
   "outputs": [
    {
     "data": {
      "image/png": "[encoded data removed]",
      "text/plain": [
       "<Figure size 640x480 with 1 Axes>"
      ]
     },
     "metadata": {},
     "output_type": "display_data"
    },
    {
     "data": {
      "text/plain": [
       "<ggplot: (33732828)>"
      ]
     },
     "execution_count": 49,
     "metadata": {},
     "output_type": "execute_result"
    }
   ],
   "source": [
    "(\n",
    "    ggplot(unique_customers)\n",
    "    + aes(x=\"year\", y=\"customer_id\")\n",
    "    + labs(\n",
    "        x=\"Year\",\n",
    "        y=\"Unique Customers\",\n",
    "    )\n",
    "    + geom_col()\n",
    ")"
   ]
  },
  {
   "cell_type": "markdown",
   "id": "f1f72391",
   "metadata": {},
   "source": [
    "## Maiores compradores"
   ]
  },
  {
   "cell_type": "code",
   "execution_count": 57,
   "id": "e0a2ee03",
   "metadata": {
    "ExecuteTime": {
     "end_time": "2023-05-22T20:32:39.940063Z",
     "start_time": "2023-05-22T20:32:39.866109Z"
    }
   },
   "outputs": [],
   "source": [
    "biggest_buyers = df.groupby(by='customer_id').size()"
   ]
  },
  {
   "cell_type": "code",
   "execution_count": 58,
   "id": "f5e5364c",
   "metadata": {
    "ExecuteTime": {
     "end_time": "2023-05-22T20:32:40.942446Z",
     "start_time": "2023-05-22T20:32:40.926457Z"
    }
   },
   "outputs": [],
   "source": [
    "biggest_buyers = biggest_buyers.sort_values(ascending=False)"
   ]
  },
  {
   "cell_type": "code",
   "execution_count": 59,
   "id": "2b630c56",
   "metadata": {
    "ExecuteTime": {
     "end_time": "2023-05-22T20:32:41.687986Z",
     "start_time": "2023-05-22T20:32:41.665998Z"
    },
    "scrolled": true
   },
   "outputs": [
    {
     "data": {
      "text/html": [
       "<div>\n",
       "<style scoped>\n",
       "    .dataframe tbody tr th:only-of-type {\n",
       "        vertical-align: middle;\n",
       "    }\n",
       "\n",
       "    .dataframe tbody tr th {\n",
       "        vertical-align: top;\n",
       "    }\n",
       "\n",
       "    .dataframe thead th {\n",
       "        text-align: right;\n",
       "    }\n",
       "</style>\n",
       "<table border=\"1\" class=\"dataframe\">\n",
       "  <thead>\n",
       "    <tr style=\"text-align: right;\">\n",
       "      <th></th>\n",
       "      <th>0</th>\n",
       "    </tr>\n",
       "    <tr>\n",
       "      <th>customer_id</th>\n",
       "      <th></th>\n",
       "    </tr>\n",
       "  </thead>\n",
       "  <tbody>\n",
       "    <tr>\n",
       "      <th>69490</th>\n",
       "      <td>152</td>\n",
       "    </tr>\n",
       "    <tr>\n",
       "      <th>74972</th>\n",
       "      <td>150</td>\n",
       "    </tr>\n",
       "    <tr>\n",
       "      <th>84751</th>\n",
       "      <td>145</td>\n",
       "    </tr>\n",
       "    <tr>\n",
       "      <th>74011</th>\n",
       "      <td>144</td>\n",
       "    </tr>\n",
       "    <tr>\n",
       "      <th>75490</th>\n",
       "      <td>142</td>\n",
       "    </tr>\n",
       "    <tr>\n",
       "      <th>24772</th>\n",
       "      <td>142</td>\n",
       "    </tr>\n",
       "    <tr>\n",
       "      <th>74182</th>\n",
       "      <td>137</td>\n",
       "    </tr>\n",
       "    <tr>\n",
       "      <th>75153</th>\n",
       "      <td>137</td>\n",
       "    </tr>\n",
       "    <tr>\n",
       "      <th>93762</th>\n",
       "      <td>136</td>\n",
       "    </tr>\n",
       "    <tr>\n",
       "      <th>101602</th>\n",
       "      <td>136</td>\n",
       "    </tr>\n",
       "  </tbody>\n",
       "</table>\n",
       "</div>"
      ],
      "text/plain": [
       "               0\n",
       "customer_id     \n",
       "69490        152\n",
       "74972        150\n",
       "84751        145\n",
       "74011        144\n",
       "75490        142\n",
       "24772        142\n",
       "74182        137\n",
       "75153        137\n",
       "93762        136\n",
       "101602       136"
      ]
     },
     "execution_count": 59,
     "metadata": {},
     "output_type": "execute_result"
    }
   ],
   "source": [
    "biggest_buyers = biggest_buyers.head(10)\n",
    "biggest_buyers = pd.DataFrame(biggest_buyers)\n",
    "biggest_buyers"
   ]
  },
  {
   "cell_type": "code",
   "execution_count": 60,
   "id": "a8a4c6ab",
   "metadata": {
    "ExecuteTime": {
     "end_time": "2023-05-22T20:32:42.753329Z",
     "start_time": "2023-05-22T20:32:42.730344Z"
    }
   },
   "outputs": [
    {
     "data": {
      "text/html": [
       "<div>\n",
       "<style scoped>\n",
       "    .dataframe tbody tr th:only-of-type {\n",
       "        vertical-align: middle;\n",
       "    }\n",
       "\n",
       "    .dataframe tbody tr th {\n",
       "        vertical-align: top;\n",
       "    }\n",
       "\n",
       "    .dataframe thead th {\n",
       "        text-align: right;\n",
       "    }\n",
       "</style>\n",
       "<table border=\"1\" class=\"dataframe\">\n",
       "  <thead>\n",
       "    <tr style=\"text-align: right;\">\n",
       "      <th></th>\n",
       "      <th>customer_id</th>\n",
       "      <th>n_purchases</th>\n",
       "    </tr>\n",
       "  </thead>\n",
       "  <tbody>\n",
       "    <tr>\n",
       "      <th>0</th>\n",
       "      <td>69490</td>\n",
       "      <td>152</td>\n",
       "    </tr>\n",
       "    <tr>\n",
       "      <th>1</th>\n",
       "      <td>74972</td>\n",
       "      <td>150</td>\n",
       "    </tr>\n",
       "    <tr>\n",
       "      <th>2</th>\n",
       "      <td>84751</td>\n",
       "      <td>145</td>\n",
       "    </tr>\n",
       "    <tr>\n",
       "      <th>3</th>\n",
       "      <td>74011</td>\n",
       "      <td>144</td>\n",
       "    </tr>\n",
       "    <tr>\n",
       "      <th>4</th>\n",
       "      <td>75490</td>\n",
       "      <td>142</td>\n",
       "    </tr>\n",
       "    <tr>\n",
       "      <th>5</th>\n",
       "      <td>24772</td>\n",
       "      <td>142</td>\n",
       "    </tr>\n",
       "    <tr>\n",
       "      <th>6</th>\n",
       "      <td>74182</td>\n",
       "      <td>137</td>\n",
       "    </tr>\n",
       "    <tr>\n",
       "      <th>7</th>\n",
       "      <td>75153</td>\n",
       "      <td>137</td>\n",
       "    </tr>\n",
       "    <tr>\n",
       "      <th>8</th>\n",
       "      <td>93762</td>\n",
       "      <td>136</td>\n",
       "    </tr>\n",
       "    <tr>\n",
       "      <th>9</th>\n",
       "      <td>101602</td>\n",
       "      <td>136</td>\n",
       "    </tr>\n",
       "  </tbody>\n",
       "</table>\n",
       "</div>"
      ],
      "text/plain": [
       "   customer_id  n_purchases\n",
       "0        69490          152\n",
       "1        74972          150\n",
       "2        84751          145\n",
       "3        74011          144\n",
       "4        75490          142\n",
       "5        24772          142\n",
       "6        74182          137\n",
       "7        75153          137\n",
       "8        93762          136\n",
       "9       101602          136"
      ]
     },
     "execution_count": 60,
     "metadata": {},
     "output_type": "execute_result"
    }
   ],
   "source": [
    "# Identificando os 10 maiores compradores para que a área de marketing possa fazer algum tipo de campanha.\n",
    "# Da mesma forma, mas em sentido inverso, poderia ser feito o levantamento dos que compram menos.\n",
    "\n",
    "data = [\n",
    "    [69490, 152],\n",
    "    [74972, 150],\n",
    "    [84751, 145],\n",
    "    [74011, 144],\n",
    "    [75490, 142],\n",
    "    [24772, 142],\n",
    "    [74182, 137],\n",
    "    [75153, 137],\n",
    "    [93762, 136],\n",
    "    [101602, 136]\n",
    "]\n",
    "\n",
    "# Converter a lista em um DataFrame\n",
    "n_purchases = pd.DataFrame(data)\n",
    "\n",
    "# Adicionar nomes de coluna aos cabeçalhos\n",
    "n_purchases.columns = ['customer_id', 'n_purchases']\n",
    "\n",
    "# Exibir o DataFrame\n",
    "n_purchases"
   ]
  },
  {
   "cell_type": "markdown",
   "id": "d5bdcf27",
   "metadata": {},
   "source": [
    "## Quantidade de vendas"
   ]
  },
  {
   "cell_type": "code",
   "execution_count": 61,
   "id": "09ad8c90",
   "metadata": {
    "ExecuteTime": {
     "end_time": "2023-05-22T20:32:44.862028Z",
     "start_time": "2023-05-22T20:32:44.854035Z"
    }
   },
   "outputs": [
    {
     "data": {
      "text/plain": [
       "715875"
      ]
     },
     "execution_count": 61,
     "metadata": {},
     "output_type": "execute_result"
    }
   ],
   "source": [
    "amount_of_sales = df['customer_id'].count()\n",
    "amount_of_sales"
   ]
  },
  {
   "cell_type": "markdown",
   "id": "dd8d2943",
   "metadata": {},
   "source": [
    "## Total de clientes únicos"
   ]
  },
  {
   "cell_type": "code",
   "execution_count": 62,
   "id": "c7e3044d",
   "metadata": {
    "ExecuteTime": {
     "end_time": "2023-05-22T20:32:46.257169Z",
     "start_time": "2023-05-22T20:32:46.220191Z"
    },
    "scrolled": true
   },
   "outputs": [
    {
     "data": {
      "text/plain": [
       "118903"
      ]
     },
     "execution_count": 62,
     "metadata": {},
     "output_type": "execute_result"
    }
   ],
   "source": [
    "unique_customers = df['customer_id'].nunique()\n",
    "unique_customers"
   ]
  },
  {
   "cell_type": "markdown",
   "id": "f7276ea9",
   "metadata": {},
   "source": [
    "## Total de vendas "
   ]
  },
  {
   "cell_type": "code",
   "execution_count": 63,
   "id": "145b3977",
   "metadata": {
    "ExecuteTime": {
     "end_time": "2023-05-22T20:33:05.144522Z",
     "start_time": "2023-05-22T20:33:05.127532Z"
    },
    "scrolled": true
   },
   "outputs": [
    {
     "data": {
      "text/plain": [
       "29659120"
      ]
     },
     "execution_count": 63,
     "metadata": {},
     "output_type": "execute_result"
    }
   ],
   "source": [
    "sales_amount = df['gross_revenue'].sum()\n",
    "sales_amount"
   ]
  },
  {
   "cell_type": "markdown",
   "id": "824b7955",
   "metadata": {},
   "source": [
    "## Lucro total"
   ]
  },
  {
   "cell_type": "code",
   "execution_count": 64,
   "id": "87c7ab8e",
   "metadata": {
    "ExecuteTime": {
     "end_time": "2023-05-22T20:33:07.379143Z",
     "start_time": "2023-05-22T20:33:07.370149Z"
    }
   },
   "outputs": [
    {
     "data": {
      "text/plain": [
       "26068901"
      ]
     },
     "execution_count": 64,
     "metadata": {},
     "output_type": "execute_result"
    }
   ],
   "source": [
    "total_profit = df['net_revenue'].sum()\n",
    "total_profit"
   ]
  },
  {
   "cell_type": "markdown",
   "id": "e41b9c32",
   "metadata": {},
   "source": [
    "## Total de descontos"
   ]
  },
  {
   "cell_type": "code",
   "execution_count": 65,
   "id": "ede59b1d",
   "metadata": {
    "ExecuteTime": {
     "end_time": "2023-05-22T20:33:08.659354Z",
     "start_time": "2023-05-22T20:33:08.649360Z"
    }
   },
   "outputs": [
    {
     "data": {
      "text/plain": [
       "3590219"
      ]
     },
     "execution_count": 65,
     "metadata": {},
     "output_type": "execute_result"
    }
   ],
   "source": [
    "discounts = sales_amount - total_profit\n",
    "discounts"
   ]
  },
  {
   "cell_type": "markdown",
   "id": "ac975668",
   "metadata": {},
   "source": [
    "## Organizando dataframe"
   ]
  },
  {
   "cell_type": "code",
   "execution_count": 66,
   "id": "9c06ffb6",
   "metadata": {
    "ExecuteTime": {
     "end_time": "2023-05-22T20:33:28.540094Z",
     "start_time": "2023-05-22T20:33:28.528102Z"
    },
    "scrolled": true
   },
   "outputs": [
    {
     "data": {
      "text/html": [
       "<div>\n",
       "<style scoped>\n",
       "    .dataframe tbody tr th:only-of-type {\n",
       "        vertical-align: middle;\n",
       "    }\n",
       "\n",
       "    .dataframe tbody tr th {\n",
       "        vertical-align: top;\n",
       "    }\n",
       "\n",
       "    .dataframe thead th {\n",
       "        text-align: right;\n",
       "    }\n",
       "</style>\n",
       "<table border=\"1\" class=\"dataframe\">\n",
       "  <thead>\n",
       "    <tr style=\"text-align: right;\">\n",
       "      <th></th>\n",
       "      <th>0</th>\n",
       "    </tr>\n",
       "    <tr>\n",
       "      <th>customer_id</th>\n",
       "      <th></th>\n",
       "    </tr>\n",
       "  </thead>\n",
       "  <tbody>\n",
       "    <tr>\n",
       "      <th>69490</th>\n",
       "      <td>152</td>\n",
       "    </tr>\n",
       "  </tbody>\n",
       "</table>\n",
       "</div>"
      ],
      "text/plain": [
       "               0\n",
       "customer_id     \n",
       "69490        152"
      ]
     },
     "execution_count": 66,
     "metadata": {},
     "output_type": "execute_result"
    }
   ],
   "source": [
    "biggest_buyers.head(1)"
   ]
  },
  {
   "cell_type": "code",
   "execution_count": 67,
   "id": "08dba7ee",
   "metadata": {
    "ExecuteTime": {
     "end_time": "2023-05-22T20:33:28.952840Z",
     "start_time": "2023-05-22T20:33:28.934856Z"
    }
   },
   "outputs": [],
   "source": [
    "new_df = biggest_buyers.head(1)"
   ]
  },
  {
   "cell_type": "code",
   "execution_count": 68,
   "id": "f7186633",
   "metadata": {
    "ExecuteTime": {
     "end_time": "2023-05-22T20:33:29.378577Z",
     "start_time": "2023-05-22T20:33:29.366584Z"
    }
   },
   "outputs": [],
   "source": [
    "new_df['amount_of_sales'] = amount_of_sales"
   ]
  },
  {
   "cell_type": "code",
   "execution_count": 69,
   "id": "f48f3ba5",
   "metadata": {
    "ExecuteTime": {
     "end_time": "2023-05-22T20:33:29.674395Z",
     "start_time": "2023-05-22T20:33:29.669397Z"
    }
   },
   "outputs": [],
   "source": [
    "new_df['unique_customers'] = unique_customers"
   ]
  },
  {
   "cell_type": "code",
   "execution_count": 70,
   "id": "1dae0d13",
   "metadata": {
    "ExecuteTime": {
     "end_time": "2023-05-22T20:33:29.972211Z",
     "start_time": "2023-05-22T20:33:29.968213Z"
    }
   },
   "outputs": [],
   "source": [
    "new_df['sales_amount'] = sales_amount"
   ]
  },
  {
   "cell_type": "code",
   "execution_count": 71,
   "id": "895a720b",
   "metadata": {
    "ExecuteTime": {
     "end_time": "2023-05-22T20:33:30.268029Z",
     "start_time": "2023-05-22T20:33:30.254037Z"
    }
   },
   "outputs": [],
   "source": [
    "new_df['total_profit'] = total_profit"
   ]
  },
  {
   "cell_type": "code",
   "execution_count": 72,
   "id": "23ff2869",
   "metadata": {
    "ExecuteTime": {
     "end_time": "2023-05-22T20:33:30.580836Z",
     "start_time": "2023-05-22T20:33:30.563848Z"
    }
   },
   "outputs": [],
   "source": [
    "new_df['discounts'] = discounts"
   ]
  },
  {
   "cell_type": "code",
   "execution_count": 73,
   "id": "a813028b",
   "metadata": {
    "ExecuteTime": {
     "end_time": "2023-05-22T20:33:31.002576Z",
     "start_time": "2023-05-22T20:33:30.997579Z"
    }
   },
   "outputs": [],
   "source": [
    "new_df = pd.DataFrame(new_df)"
   ]
  },
  {
   "cell_type": "code",
   "execution_count": 74,
   "id": "4baa26a5",
   "metadata": {
    "ExecuteTime": {
     "end_time": "2023-05-22T20:33:31.455296Z",
     "start_time": "2023-05-22T20:33:31.443303Z"
    }
   },
   "outputs": [
    {
     "data": {
      "text/html": [
       "<div>\n",
       "<style scoped>\n",
       "    .dataframe tbody tr th:only-of-type {\n",
       "        vertical-align: middle;\n",
       "    }\n",
       "\n",
       "    .dataframe tbody tr th {\n",
       "        vertical-align: top;\n",
       "    }\n",
       "\n",
       "    .dataframe thead th {\n",
       "        text-align: right;\n",
       "    }\n",
       "</style>\n",
       "<table border=\"1\" class=\"dataframe\">\n",
       "  <thead>\n",
       "    <tr style=\"text-align: right;\">\n",
       "      <th>customer_id</th>\n",
       "      <th>69490</th>\n",
       "    </tr>\n",
       "  </thead>\n",
       "  <tbody>\n",
       "    <tr>\n",
       "      <th>0</th>\n",
       "      <td>152</td>\n",
       "    </tr>\n",
       "    <tr>\n",
       "      <th>amount_of_sales</th>\n",
       "      <td>715875</td>\n",
       "    </tr>\n",
       "    <tr>\n",
       "      <th>unique_customers</th>\n",
       "      <td>118903</td>\n",
       "    </tr>\n",
       "    <tr>\n",
       "      <th>sales_amount</th>\n",
       "      <td>29659120</td>\n",
       "    </tr>\n",
       "    <tr>\n",
       "      <th>total_profit</th>\n",
       "      <td>26068901</td>\n",
       "    </tr>\n",
       "    <tr>\n",
       "      <th>discounts</th>\n",
       "      <td>3590219</td>\n",
       "    </tr>\n",
       "  </tbody>\n",
       "</table>\n",
       "</div>"
      ],
      "text/plain": [
       "customer_id          69490\n",
       "0                      152\n",
       "amount_of_sales     715875\n",
       "unique_customers    118903\n",
       "sales_amount      29659120\n",
       "total_profit      26068901\n",
       "discounts          3590219"
      ]
     },
     "execution_count": 74,
     "metadata": {},
     "output_type": "execute_result"
    }
   ],
   "source": [
    "new_df.T"
   ]
  },
  {
   "cell_type": "code",
   "execution_count": 75,
   "id": "ba5e2c4b",
   "metadata": {
    "ExecuteTime": {
     "end_time": "2023-05-22T20:33:35.066070Z",
     "start_time": "2023-05-22T20:33:35.048087Z"
    },
    "scrolled": false
   },
   "outputs": [
    {
     "data": {
      "text/html": [
       "<div>\n",
       "<style scoped>\n",
       "    .dataframe tbody tr th:only-of-type {\n",
       "        vertical-align: middle;\n",
       "    }\n",
       "\n",
       "    .dataframe tbody tr th {\n",
       "        vertical-align: top;\n",
       "    }\n",
       "\n",
       "    .dataframe thead th {\n",
       "        text-align: right;\n",
       "    }\n",
       "</style>\n",
       "<table border=\"1\" class=\"dataframe\">\n",
       "  <thead>\n",
       "    <tr style=\"text-align: right;\">\n",
       "      <th>Totals</th>\n",
       "      <th>0</th>\n",
       "    </tr>\n",
       "  </thead>\n",
       "  <tbody>\n",
       "    <tr>\n",
       "      <th>amount_of_sales</th>\n",
       "      <td>715875</td>\n",
       "    </tr>\n",
       "    <tr>\n",
       "      <th>unique_customers</th>\n",
       "      <td>118903</td>\n",
       "    </tr>\n",
       "    <tr>\n",
       "      <th>sales_amount</th>\n",
       "      <td>R$29,659,120.00</td>\n",
       "    </tr>\n",
       "    <tr>\n",
       "      <th>total_profit</th>\n",
       "      <td>R$26,068,901.00</td>\n",
       "    </tr>\n",
       "    <tr>\n",
       "      <th>discounts</th>\n",
       "      <td>R$3,590,219.00</td>\n",
       "    </tr>\n",
       "  </tbody>\n",
       "</table>\n",
       "</div>"
      ],
      "text/plain": [
       "Totals                          0\n",
       "amount_of_sales            715875\n",
       "unique_customers           118903\n",
       "sales_amount      R$29,659,120.00\n",
       "total_profit      R$26,068,901.00\n",
       "discounts          R$3,590,219.00"
      ]
     },
     "execution_count": 75,
     "metadata": {},
     "output_type": "execute_result"
    }
   ],
   "source": [
    "# Criando o DataFrame\n",
    "data = {\n",
    "    'amount_of_sales': [715875],\n",
    "    'unique_customers': [118903],\n",
    "    'sales_amount': [29659120],\n",
    "    'total_profit': [26068901],\n",
    "    'discounts': [3590219]\n",
    "}\n",
    "\n",
    "table = pd.DataFrame(data)\n",
    "\n",
    "# Adicionando cabeçalho para a primeira coluna\n",
    "table.index.name = 'Totals'\n",
    "\n",
    "# Formatando os valores das colunas\n",
    "table['sales_amount'] = table['sales_amount'].apply(lambda x: 'R${:,.2f}'.format(x))\n",
    "table['total_profit'] = table['total_profit'].apply(lambda x: 'R${:,.2f}'.format(x))\n",
    "table['discounts'] = table['discounts'].apply(lambda x: 'R${:,.2f}'.format(x))\n",
    "\n",
    "# Exibir DataFrame\n",
    "table.T"
   ]
  },
  {
   "cell_type": "markdown",
   "id": "f35b2f63",
   "metadata": {},
   "source": [
    "# Linear Regression"
   ]
  },
  {
   "cell_type": "code",
   "execution_count": 140,
   "id": "d656bac9",
   "metadata": {
    "ExecuteTime": {
     "end_time": "2023-05-22T21:02:01.034650Z",
     "start_time": "2023-05-22T21:02:01.019659Z"
    },
    "scrolled": false
   },
   "outputs": [],
   "source": [
    "# Importando as bibliotecas utilizadas no projeto\n",
    "\n",
    "from sklearn.linear_model import LinearRegression\n",
    "from sklearn.metrics import mean_absolute_error\n",
    "from sklearn.model_selection import cross_validate\n",
    "from sklearn.model_selection import cross_val_score\n",
    "from datetime import datetime\n",
    "from tensorflow.keras.layers import LSTM\n",
    "from tensorflow.keras.models import Sequential\n",
    "from tensorflow.keras import layers\n",
    "from tensorflow.keras import callbacks\n",
    "from sklearn.ensemble import RandomForestRegressor\n",
    "from xgboost import XGBRegressor\n",
    "from prophet import Prophet\n",
    "from prophet.diagnostics import cross_validation\n",
    "from prophet.diagnostics import performance_metrics\n",
    "from prophet.plot import plot_cross_validation_metric\n",
    "from prophet.plot import plot_plotly, plot_components_plotly\n",
    "from sklearn.metrics import mean_squared_error, mean_absolute_error, r2_score, max_error, mean_absolute_percentage_error\n",
    "from statsmodels.graphics.tsaplots import plot_acf\n",
    "from statsmodels.graphics.tsaplots import plot_predict\n",
    "import plotnine\n",
    "from pmdarima.arima.utils import ndiffs\n",
    "from sklearn.preprocessing import StandardScaler\n",
    "import pmdarima as pm\n",
    "import tensorflow as tf\n",
    "import math\n",
    "from matplotlib import rcParams"
   ]
  },
  {
   "cell_type": "code",
   "execution_count": 77,
   "id": "7bd098fd",
   "metadata": {
    "ExecuteTime": {
     "end_time": "2023-05-22T20:34:10.517208Z",
     "start_time": "2023-05-22T20:34:10.504216Z"
    },
    "scrolled": false
   },
   "outputs": [
    {
     "data": {
      "text/html": [
       "<div>\n",
       "<style scoped>\n",
       "    .dataframe tbody tr th:only-of-type {\n",
       "        vertical-align: middle;\n",
       "    }\n",
       "\n",
       "    .dataframe tbody tr th {\n",
       "        vertical-align: top;\n",
       "    }\n",
       "\n",
       "    .dataframe thead th {\n",
       "        text-align: right;\n",
       "    }\n",
       "</style>\n",
       "<table border=\"1\" class=\"dataframe\">\n",
       "  <thead>\n",
       "    <tr style=\"text-align: right;\">\n",
       "      <th></th>\n",
       "      <th>date</th>\n",
       "      <th>net_revenue</th>\n",
       "      <th>gross_revenue</th>\n",
       "    </tr>\n",
       "  </thead>\n",
       "  <tbody>\n",
       "    <tr>\n",
       "      <th>0</th>\n",
       "      <td>2013-01-14</td>\n",
       "      <td>7.745003</td>\n",
       "      <td>8.305731</td>\n",
       "    </tr>\n",
       "    <tr>\n",
       "      <th>1</th>\n",
       "      <td>2013-01-21</td>\n",
       "      <td>9.420763</td>\n",
       "      <td>9.918179</td>\n",
       "    </tr>\n",
       "    <tr>\n",
       "      <th>2</th>\n",
       "      <td>2013-01-28</td>\n",
       "      <td>10.158401</td>\n",
       "      <td>10.470306</td>\n",
       "    </tr>\n",
       "    <tr>\n",
       "      <th>3</th>\n",
       "      <td>2013-02-04</td>\n",
       "      <td>10.483270</td>\n",
       "      <td>10.706408</td>\n",
       "    </tr>\n",
       "    <tr>\n",
       "      <th>4</th>\n",
       "      <td>2013-02-11</td>\n",
       "      <td>10.642993</td>\n",
       "      <td>10.865421</td>\n",
       "    </tr>\n",
       "  </tbody>\n",
       "</table>\n",
       "</div>"
      ],
      "text/plain": [
       "        date  net_revenue  gross_revenue\n",
       "0 2013-01-14     7.745003       8.305731\n",
       "1 2013-01-21     9.420763       9.918179\n",
       "2 2013-01-28    10.158401      10.470306\n",
       "3 2013-02-04    10.483270      10.706408\n",
       "4 2013-02-11    10.642993      10.865421"
      ]
     },
     "execution_count": 77,
     "metadata": {},
     "output_type": "execute_result"
    }
   ],
   "source": [
    "df_dashboard.head()"
   ]
  },
  {
   "cell_type": "code",
   "execution_count": 78,
   "id": "18524ed0",
   "metadata": {
    "ExecuteTime": {
     "end_time": "2023-05-22T20:34:10.533199Z",
     "start_time": "2023-05-22T20:34:10.519208Z"
    }
   },
   "outputs": [
    {
     "data": {
      "text/html": [
       "<div>\n",
       "<style scoped>\n",
       "    .dataframe tbody tr th:only-of-type {\n",
       "        vertical-align: middle;\n",
       "    }\n",
       "\n",
       "    .dataframe tbody tr th {\n",
       "        vertical-align: top;\n",
       "    }\n",
       "\n",
       "    .dataframe thead th {\n",
       "        text-align: right;\n",
       "    }\n",
       "</style>\n",
       "<table border=\"1\" class=\"dataframe\">\n",
       "  <thead>\n",
       "    <tr style=\"text-align: right;\">\n",
       "      <th></th>\n",
       "      <th>date</th>\n",
       "      <th>net_revenue</th>\n",
       "      <th>gross_revenue</th>\n",
       "    </tr>\n",
       "  </thead>\n",
       "  <tbody>\n",
       "    <tr>\n",
       "      <th>0</th>\n",
       "      <td>2013-01-14</td>\n",
       "      <td>7.745003</td>\n",
       "      <td>8.305731</td>\n",
       "    </tr>\n",
       "    <tr>\n",
       "      <th>1</th>\n",
       "      <td>2013-01-21</td>\n",
       "      <td>9.420763</td>\n",
       "      <td>9.918179</td>\n",
       "    </tr>\n",
       "    <tr>\n",
       "      <th>2</th>\n",
       "      <td>2013-01-28</td>\n",
       "      <td>10.158401</td>\n",
       "      <td>10.470306</td>\n",
       "    </tr>\n",
       "    <tr>\n",
       "      <th>3</th>\n",
       "      <td>2013-02-04</td>\n",
       "      <td>10.483270</td>\n",
       "      <td>10.706408</td>\n",
       "    </tr>\n",
       "    <tr>\n",
       "      <th>4</th>\n",
       "      <td>2013-02-11</td>\n",
       "      <td>10.642993</td>\n",
       "      <td>10.865421</td>\n",
       "    </tr>\n",
       "  </tbody>\n",
       "</table>\n",
       "</div>"
      ],
      "text/plain": [
       "        date  net_revenue  gross_revenue\n",
       "0 2013-01-14     7.745003       8.305731\n",
       "1 2013-01-21     9.420763       9.918179\n",
       "2 2013-01-28    10.158401      10.470306\n",
       "3 2013-02-04    10.483270      10.706408\n",
       "4 2013-02-11    10.642993      10.865421"
      ]
     },
     "execution_count": 78,
     "metadata": {},
     "output_type": "execute_result"
    }
   ],
   "source": [
    "# Verificando o período que o dataset está apresentando\n",
    "\n",
    "df_dashboard.head()"
   ]
  },
  {
   "cell_type": "code",
   "execution_count": 79,
   "id": "1da36205",
   "metadata": {
    "ExecuteTime": {
     "end_time": "2023-05-22T20:34:10.548190Z",
     "start_time": "2023-05-22T20:34:10.536197Z"
    },
    "scrolled": true
   },
   "outputs": [],
   "source": [
    "# Agrupando e somando por semana\n",
    "\n",
    "df_grouped = df_dashboard.groupby(pd.Grouper(key='date', freq='W')).sum()"
   ]
  },
  {
   "cell_type": "code",
   "execution_count": 80,
   "id": "1f7d5407",
   "metadata": {
    "ExecuteTime": {
     "end_time": "2023-05-22T20:34:10.580169Z",
     "start_time": "2023-05-22T20:34:10.550188Z"
    }
   },
   "outputs": [
    {
     "data": {
      "text/html": [
       "<div>\n",
       "<style scoped>\n",
       "    .dataframe tbody tr th:only-of-type {\n",
       "        vertical-align: middle;\n",
       "    }\n",
       "\n",
       "    .dataframe tbody tr th {\n",
       "        vertical-align: top;\n",
       "    }\n",
       "\n",
       "    .dataframe thead th {\n",
       "        text-align: right;\n",
       "    }\n",
       "</style>\n",
       "<table border=\"1\" class=\"dataframe\">\n",
       "  <thead>\n",
       "    <tr style=\"text-align: right;\">\n",
       "      <th></th>\n",
       "      <th>net_revenue</th>\n",
       "      <th>gross_revenue</th>\n",
       "    </tr>\n",
       "    <tr>\n",
       "      <th>date</th>\n",
       "      <th></th>\n",
       "      <th></th>\n",
       "    </tr>\n",
       "  </thead>\n",
       "  <tbody>\n",
       "    <tr>\n",
       "      <th>2013-01-20</th>\n",
       "      <td>7.745003</td>\n",
       "      <td>8.305731</td>\n",
       "    </tr>\n",
       "    <tr>\n",
       "      <th>2013-01-27</th>\n",
       "      <td>9.420763</td>\n",
       "      <td>9.918179</td>\n",
       "    </tr>\n",
       "    <tr>\n",
       "      <th>2013-02-03</th>\n",
       "      <td>10.158401</td>\n",
       "      <td>10.470306</td>\n",
       "    </tr>\n",
       "    <tr>\n",
       "      <th>2013-02-10</th>\n",
       "      <td>10.483270</td>\n",
       "      <td>10.706408</td>\n",
       "    </tr>\n",
       "    <tr>\n",
       "      <th>2013-02-17</th>\n",
       "      <td>10.642993</td>\n",
       "      <td>10.865421</td>\n",
       "    </tr>\n",
       "    <tr>\n",
       "      <th>...</th>\n",
       "      <td>...</td>\n",
       "      <td>...</td>\n",
       "    </tr>\n",
       "    <tr>\n",
       "      <th>2015-12-06</th>\n",
       "      <td>12.412094</td>\n",
       "      <td>12.564775</td>\n",
       "    </tr>\n",
       "    <tr>\n",
       "      <th>2015-12-13</th>\n",
       "      <td>12.490488</td>\n",
       "      <td>12.646139</td>\n",
       "    </tr>\n",
       "    <tr>\n",
       "      <th>2015-12-20</th>\n",
       "      <td>12.473222</td>\n",
       "      <td>12.597429</td>\n",
       "    </tr>\n",
       "    <tr>\n",
       "      <th>2015-12-27</th>\n",
       "      <td>12.285761</td>\n",
       "      <td>12.389335</td>\n",
       "    </tr>\n",
       "    <tr>\n",
       "      <th>2016-01-03</th>\n",
       "      <td>11.904265</td>\n",
       "      <td>12.017584</td>\n",
       "    </tr>\n",
       "  </tbody>\n",
       "</table>\n",
       "<p>155 rows × 2 columns</p>\n",
       "</div>"
      ],
      "text/plain": [
       "            net_revenue  gross_revenue\n",
       "date                                  \n",
       "2013-01-20     7.745003       8.305731\n",
       "2013-01-27     9.420763       9.918179\n",
       "2013-02-03    10.158401      10.470306\n",
       "2013-02-10    10.483270      10.706408\n",
       "2013-02-17    10.642993      10.865421\n",
       "...                 ...            ...\n",
       "2015-12-06    12.412094      12.564775\n",
       "2015-12-13    12.490488      12.646139\n",
       "2015-12-20    12.473222      12.597429\n",
       "2015-12-27    12.285761      12.389335\n",
       "2016-01-03    11.904265      12.017584\n",
       "\n",
       "[155 rows x 2 columns]"
      ]
     },
     "execution_count": 80,
     "metadata": {},
     "output_type": "execute_result"
    }
   ],
   "source": [
    "# Conferindo se foram agrupados por semana e se está apresentando o valor total para cada semana\n",
    "\n",
    "df_grouped"
   ]
  },
  {
   "cell_type": "code",
   "execution_count": 81,
   "id": "dc8037ed",
   "metadata": {
    "ExecuteTime": {
     "end_time": "2023-05-22T20:34:10.892977Z",
     "start_time": "2023-05-22T20:34:10.582168Z"
    },
    "scrolled": false
   },
   "outputs": [
    {
     "data": {
      "image/png": "[encoded data removed]",
      "text/plain": [
       "<Figure size 640x480 with 1 Axes>"
      ]
     },
     "metadata": {},
     "output_type": "display_data"
    }
   ],
   "source": [
    "# Plotando gráfico de dispersão para avaliar a relação entre as features \"gross_revenue\" e \"net_revenue\"\n",
    "\n",
    "plotnine.qplot(x='net_revenue', y='gross_revenue', data=df_grouped, color='net_revenue').draw();"
   ]
  },
  {
   "cell_type": "code",
   "execution_count": 82,
   "id": "c81ba172",
   "metadata": {
    "ExecuteTime": {
     "end_time": "2023-05-22T20:34:11.315716Z",
     "start_time": "2023-05-22T20:34:10.894976Z"
    },
    "scrolled": false
   },
   "outputs": [
    {
     "data": {
      "image/png": "[encoded data removed]",
      "text/plain": [
       "<Figure size 640x480 with 1 Axes>"
      ]
     },
     "metadata": {},
     "output_type": "display_data"
    },
    {
     "data": {
      "text/plain": [
       "<ggplot: (48200985)>"
      ]
     },
     "execution_count": 82,
     "metadata": {},
     "output_type": "execute_result"
    }
   ],
   "source": [
    "(ggplot(data=df_grouped,\n",
    "           mapping=aes(x='net_revenue',\n",
    "                          y='gross_revenue',\n",
    "                          color='net_revenue'))\n",
    "    + geom_line()\n",
    ")"
   ]
  },
  {
   "cell_type": "code",
   "execution_count": 101,
   "id": "52298fc3",
   "metadata": {
    "ExecuteTime": {
     "end_time": "2023-05-22T20:39:25.972198Z",
     "start_time": "2023-05-22T20:39:25.677381Z"
    }
   },
   "outputs": [
    {
     "data": {
      "image/png": "[encoded data removed]",
      "text/plain": [
       "<Figure size 640x480 with 1 Axes>"
      ]
     },
     "metadata": {},
     "output_type": "display_data"
    }
   ],
   "source": [
    "sns.regplot(df_grouped['gross_revenue'], df_grouped['net_revenue']);"
   ]
  },
  {
   "cell_type": "code",
   "execution_count": 83,
   "id": "bc51618b",
   "metadata": {
    "ExecuteTime": {
     "end_time": "2023-05-22T20:34:11.330707Z",
     "start_time": "2023-05-22T20:34:11.317714Z"
    }
   },
   "outputs": [],
   "source": [
    "# Acrescenta uma linha vazia ao dataset para previsão de receita futura com base na passada. \n",
    "\n",
    "df_shift = df_grouped.shift(1)\n",
    "df_shift.drop(columns='gross_revenue', inplace=True)"
   ]
  },
  {
   "cell_type": "code",
   "execution_count": 84,
   "id": "3551ff71",
   "metadata": {
    "ExecuteTime": {
     "end_time": "2023-05-22T20:34:11.346698Z",
     "start_time": "2023-05-22T20:34:11.332705Z"
    }
   },
   "outputs": [
    {
     "data": {
      "text/html": [
       "<div>\n",
       "<style scoped>\n",
       "    .dataframe tbody tr th:only-of-type {\n",
       "        vertical-align: middle;\n",
       "    }\n",
       "\n",
       "    .dataframe tbody tr th {\n",
       "        vertical-align: top;\n",
       "    }\n",
       "\n",
       "    .dataframe thead th {\n",
       "        text-align: right;\n",
       "    }\n",
       "</style>\n",
       "<table border=\"1\" class=\"dataframe\">\n",
       "  <thead>\n",
       "    <tr style=\"text-align: right;\">\n",
       "      <th></th>\n",
       "      <th>net_revenue</th>\n",
       "    </tr>\n",
       "    <tr>\n",
       "      <th>date</th>\n",
       "      <th></th>\n",
       "    </tr>\n",
       "  </thead>\n",
       "  <tbody>\n",
       "    <tr>\n",
       "      <th>2013-01-20</th>\n",
       "      <td>NaN</td>\n",
       "    </tr>\n",
       "    <tr>\n",
       "      <th>2013-01-27</th>\n",
       "      <td>7.745003</td>\n",
       "    </tr>\n",
       "    <tr>\n",
       "      <th>2013-02-03</th>\n",
       "      <td>9.420763</td>\n",
       "    </tr>\n",
       "    <tr>\n",
       "      <th>2013-02-10</th>\n",
       "      <td>10.158401</td>\n",
       "    </tr>\n",
       "    <tr>\n",
       "      <th>2013-02-17</th>\n",
       "      <td>10.483270</td>\n",
       "    </tr>\n",
       "    <tr>\n",
       "      <th>...</th>\n",
       "      <td>...</td>\n",
       "    </tr>\n",
       "    <tr>\n",
       "      <th>2015-12-06</th>\n",
       "      <td>12.313365</td>\n",
       "    </tr>\n",
       "    <tr>\n",
       "      <th>2015-12-13</th>\n",
       "      <td>12.412094</td>\n",
       "    </tr>\n",
       "    <tr>\n",
       "      <th>2015-12-20</th>\n",
       "      <td>12.490488</td>\n",
       "    </tr>\n",
       "    <tr>\n",
       "      <th>2015-12-27</th>\n",
       "      <td>12.473222</td>\n",
       "    </tr>\n",
       "    <tr>\n",
       "      <th>2016-01-03</th>\n",
       "      <td>12.285761</td>\n",
       "    </tr>\n",
       "  </tbody>\n",
       "</table>\n",
       "<p>155 rows × 1 columns</p>\n",
       "</div>"
      ],
      "text/plain": [
       "            net_revenue\n",
       "date                   \n",
       "2013-01-20          NaN\n",
       "2013-01-27     7.745003\n",
       "2013-02-03     9.420763\n",
       "2013-02-10    10.158401\n",
       "2013-02-17    10.483270\n",
       "...                 ...\n",
       "2015-12-06    12.313365\n",
       "2015-12-13    12.412094\n",
       "2015-12-20    12.490488\n",
       "2015-12-27    12.473222\n",
       "2016-01-03    12.285761\n",
       "\n",
       "[155 rows x 1 columns]"
      ]
     },
     "execution_count": 84,
     "metadata": {},
     "output_type": "execute_result"
    }
   ],
   "source": [
    "df_shift"
   ]
  },
  {
   "cell_type": "code",
   "execution_count": 85,
   "id": "79d085d2",
   "metadata": {
    "ExecuteTime": {
     "end_time": "2023-05-22T20:34:11.361688Z",
     "start_time": "2023-05-22T20:34:11.350695Z"
    }
   },
   "outputs": [],
   "source": [
    "df_shift.dropna(inplace=True)"
   ]
  },
  {
   "cell_type": "code",
   "execution_count": 86,
   "id": "be332fef",
   "metadata": {
    "ExecuteTime": {
     "end_time": "2023-05-22T20:34:11.377678Z",
     "start_time": "2023-05-22T20:34:11.363688Z"
    }
   },
   "outputs": [
    {
     "data": {
      "text/html": [
       "<div>\n",
       "<style scoped>\n",
       "    .dataframe tbody tr th:only-of-type {\n",
       "        vertical-align: middle;\n",
       "    }\n",
       "\n",
       "    .dataframe tbody tr th {\n",
       "        vertical-align: top;\n",
       "    }\n",
       "\n",
       "    .dataframe thead th {\n",
       "        text-align: right;\n",
       "    }\n",
       "</style>\n",
       "<table border=\"1\" class=\"dataframe\">\n",
       "  <thead>\n",
       "    <tr style=\"text-align: right;\">\n",
       "      <th></th>\n",
       "      <th>net_revenue</th>\n",
       "    </tr>\n",
       "    <tr>\n",
       "      <th>date</th>\n",
       "      <th></th>\n",
       "    </tr>\n",
       "  </thead>\n",
       "  <tbody>\n",
       "    <tr>\n",
       "      <th>2013-01-27</th>\n",
       "      <td>7.745003</td>\n",
       "    </tr>\n",
       "    <tr>\n",
       "      <th>2013-02-03</th>\n",
       "      <td>9.420763</td>\n",
       "    </tr>\n",
       "    <tr>\n",
       "      <th>2013-02-10</th>\n",
       "      <td>10.158401</td>\n",
       "    </tr>\n",
       "    <tr>\n",
       "      <th>2013-02-17</th>\n",
       "      <td>10.483270</td>\n",
       "    </tr>\n",
       "    <tr>\n",
       "      <th>2013-02-24</th>\n",
       "      <td>10.642993</td>\n",
       "    </tr>\n",
       "    <tr>\n",
       "      <th>...</th>\n",
       "      <td>...</td>\n",
       "    </tr>\n",
       "    <tr>\n",
       "      <th>2015-12-06</th>\n",
       "      <td>12.313365</td>\n",
       "    </tr>\n",
       "    <tr>\n",
       "      <th>2015-12-13</th>\n",
       "      <td>12.412094</td>\n",
       "    </tr>\n",
       "    <tr>\n",
       "      <th>2015-12-20</th>\n",
       "      <td>12.490488</td>\n",
       "    </tr>\n",
       "    <tr>\n",
       "      <th>2015-12-27</th>\n",
       "      <td>12.473222</td>\n",
       "    </tr>\n",
       "    <tr>\n",
       "      <th>2016-01-03</th>\n",
       "      <td>12.285761</td>\n",
       "    </tr>\n",
       "  </tbody>\n",
       "</table>\n",
       "<p>154 rows × 1 columns</p>\n",
       "</div>"
      ],
      "text/plain": [
       "            net_revenue\n",
       "date                   \n",
       "2013-01-27     7.745003\n",
       "2013-02-03     9.420763\n",
       "2013-02-10    10.158401\n",
       "2013-02-17    10.483270\n",
       "2013-02-24    10.642993\n",
       "...                 ...\n",
       "2015-12-06    12.313365\n",
       "2015-12-13    12.412094\n",
       "2015-12-20    12.490488\n",
       "2015-12-27    12.473222\n",
       "2016-01-03    12.285761\n",
       "\n",
       "[154 rows x 1 columns]"
      ]
     },
     "execution_count": 86,
     "metadata": {},
     "output_type": "execute_result"
    }
   ],
   "source": [
    "df_shift"
   ]
  },
  {
   "cell_type": "code",
   "execution_count": 87,
   "id": "f65cedad",
   "metadata": {
    "ExecuteTime": {
     "end_time": "2023-05-22T20:34:11.626525Z",
     "start_time": "2023-05-22T20:34:11.619530Z"
    }
   },
   "outputs": [],
   "source": [
    "# Vamos manter os últimos 30% do dataset para teste\n",
    "\n",
    "train_size = 0.7\n",
    "index = round(train_size*df_shift.shape[0])\n",
    "df_train = df_shift.iloc[:index]\n",
    "df_test = df_shift.iloc[index:]"
   ]
  },
  {
   "cell_type": "code",
   "execution_count": 88,
   "id": "990be65b",
   "metadata": {
    "ExecuteTime": {
     "end_time": "2023-05-22T20:34:12.331091Z",
     "start_time": "2023-05-22T20:34:12.298111Z"
    }
   },
   "outputs": [
    {
     "data": {
      "text/html": [
       "<div>\n",
       "<style scoped>\n",
       "    .dataframe tbody tr th:only-of-type {\n",
       "        vertical-align: middle;\n",
       "    }\n",
       "\n",
       "    .dataframe tbody tr th {\n",
       "        vertical-align: top;\n",
       "    }\n",
       "\n",
       "    .dataframe thead th {\n",
       "        text-align: right;\n",
       "    }\n",
       "</style>\n",
       "<table border=\"1\" class=\"dataframe\">\n",
       "  <thead>\n",
       "    <tr style=\"text-align: right;\">\n",
       "      <th></th>\n",
       "      <th>net_revenue</th>\n",
       "      <th>t - 1</th>\n",
       "      <th>t - 2</th>\n",
       "      <th>t - 3</th>\n",
       "      <th>t - 4</th>\n",
       "      <th>t - 5</th>\n",
       "      <th>t - 6</th>\n",
       "    </tr>\n",
       "    <tr>\n",
       "      <th>date</th>\n",
       "      <th></th>\n",
       "      <th></th>\n",
       "      <th></th>\n",
       "      <th></th>\n",
       "      <th></th>\n",
       "      <th></th>\n",
       "      <th></th>\n",
       "    </tr>\n",
       "  </thead>\n",
       "  <tbody>\n",
       "    <tr>\n",
       "      <th>2013-03-10</th>\n",
       "      <td>10.812915</td>\n",
       "      <td>10.697249</td>\n",
       "      <td>10.642993</td>\n",
       "      <td>10.483270</td>\n",
       "      <td>10.158401</td>\n",
       "      <td>9.420763</td>\n",
       "      <td>7.745003</td>\n",
       "    </tr>\n",
       "    <tr>\n",
       "      <th>2013-03-17</th>\n",
       "      <td>10.899144</td>\n",
       "      <td>10.812915</td>\n",
       "      <td>10.697249</td>\n",
       "      <td>10.642993</td>\n",
       "      <td>10.483270</td>\n",
       "      <td>10.158401</td>\n",
       "      <td>9.420763</td>\n",
       "    </tr>\n",
       "    <tr>\n",
       "      <th>2013-03-24</th>\n",
       "      <td>10.991511</td>\n",
       "      <td>10.899144</td>\n",
       "      <td>10.812915</td>\n",
       "      <td>10.697249</td>\n",
       "      <td>10.642993</td>\n",
       "      <td>10.483270</td>\n",
       "      <td>10.158401</td>\n",
       "    </tr>\n",
       "    <tr>\n",
       "      <th>2013-03-31</th>\n",
       "      <td>10.967681</td>\n",
       "      <td>10.991511</td>\n",
       "      <td>10.899144</td>\n",
       "      <td>10.812915</td>\n",
       "      <td>10.697249</td>\n",
       "      <td>10.642993</td>\n",
       "      <td>10.483270</td>\n",
       "    </tr>\n",
       "    <tr>\n",
       "      <th>2013-04-07</th>\n",
       "      <td>11.061516</td>\n",
       "      <td>10.967681</td>\n",
       "      <td>10.991511</td>\n",
       "      <td>10.899144</td>\n",
       "      <td>10.812915</td>\n",
       "      <td>10.697249</td>\n",
       "      <td>10.642993</td>\n",
       "    </tr>\n",
       "  </tbody>\n",
       "</table>\n",
       "</div>"
      ],
      "text/plain": [
       "            net_revenue      t - 1      t - 2      t - 3      t - 4  \\\n",
       "date                                                                  \n",
       "2013-03-10    10.812915  10.697249  10.642993  10.483270  10.158401   \n",
       "2013-03-17    10.899144  10.812915  10.697249  10.642993  10.483270   \n",
       "2013-03-24    10.991511  10.899144  10.812915  10.697249  10.642993   \n",
       "2013-03-31    10.967681  10.991511  10.899144  10.812915  10.697249   \n",
       "2013-04-07    11.061516  10.967681  10.991511  10.899144  10.812915   \n",
       "\n",
       "                t - 5      t - 6  \n",
       "date                              \n",
       "2013-03-10   9.420763   7.745003  \n",
       "2013-03-17  10.158401   9.420763  \n",
       "2013-03-24  10.483270  10.158401  \n",
       "2013-03-31  10.642993  10.483270  \n",
       "2013-04-07  10.697249  10.642993  "
      ]
     },
     "execution_count": 88,
     "metadata": {},
     "output_type": "execute_result"
    }
   ],
   "source": [
    "df2 = df_shift.copy()\n",
    "df2_train = df_train.copy()\n",
    "df2_test = df_test.copy()\n",
    "\n",
    "# Itera sobre o range de 1 a 6 (pois o último número é ignorado)\n",
    "# da coluna \"net_revenue\", deslocando os dados para o futuro\n",
    "# e armazenando em novas colunas, separando em treino e teste\n",
    "\n",
    "# Construindo 6 features autoregressivas \n",
    "\n",
    "for i in range(1, 7):\n",
    "    df2_train[f't - {i}'] = df_train.shift(i)\n",
    "    df2_test[f't - {i}'] = df_test.shift(i)\n",
    "\n",
    "df2_train.dropna(inplace=True)\n",
    "df2_test.dropna(inplace=True)\n",
    "\n",
    "df2_train.head()"
   ]
  },
  {
   "cell_type": "code",
   "execution_count": 89,
   "id": "9d46feb2",
   "metadata": {
    "ExecuteTime": {
     "end_time": "2023-05-22T20:34:12.814792Z",
     "start_time": "2023-05-22T20:34:12.792805Z"
    }
   },
   "outputs": [
    {
     "name": "stdout",
     "output_type": "stream",
     "text": [
      "(102, 6) (102,) (40, 6) (40,)\n"
     ]
    }
   ],
   "source": [
    "# Separando o conjunto de dados em treino e teste\n",
    "\n",
    "X_train = df2_train.drop(columns=['net_revenue'])\n",
    "y_train = df2_train['net_revenue']\n",
    "X_test = df2_test.drop(columns=['net_revenue'])\n",
    "y_test = df2_test['net_revenue']\n",
    "\n",
    "print(X_train.shape,y_train.shape, X_test.shape,y_test.shape)"
   ]
  },
  {
   "cell_type": "code",
   "execution_count": 90,
   "id": "d992f8c7",
   "metadata": {
    "ExecuteTime": {
     "end_time": "2023-05-22T20:34:13.315483Z",
     "start_time": "2023-05-22T20:34:13.305489Z"
    }
   },
   "outputs": [],
   "source": [
    "# Padronizando os dados pela variação\n",
    "\n",
    "standard = StandardScaler()\n",
    "X_train_standard_fit = standard.fit(X_train)\n",
    "X_train_standard = standard.transform(X_train)\n",
    "X_test_standard = standard.transform(X_test)"
   ]
  },
  {
   "cell_type": "code",
   "execution_count": 91,
   "id": "087134e6",
   "metadata": {
    "ExecuteTime": {
     "end_time": "2023-05-22T20:34:13.737223Z",
     "start_time": "2023-05-22T20:34:13.720234Z"
    }
   },
   "outputs": [],
   "source": [
    "y_train = pd.DataFrame(y_train)"
   ]
  },
  {
   "cell_type": "code",
   "execution_count": 92,
   "id": "90610461",
   "metadata": {
    "ExecuteTime": {
     "end_time": "2023-05-22T20:34:14.143973Z",
     "start_time": "2023-05-22T20:34:14.133979Z"
    }
   },
   "outputs": [],
   "source": [
    "y_test = pd.DataFrame(y_test)"
   ]
  },
  {
   "cell_type": "code",
   "execution_count": 93,
   "id": "fbf03ddd",
   "metadata": {
    "ExecuteTime": {
     "end_time": "2023-05-22T20:34:14.503751Z",
     "start_time": "2023-05-22T20:34:14.484763Z"
    }
   },
   "outputs": [],
   "source": [
    "X_train_standard = pd.DataFrame(X_train_standard, columns=X_train.columns)"
   ]
  },
  {
   "cell_type": "code",
   "execution_count": 94,
   "id": "6056f030",
   "metadata": {
    "ExecuteTime": {
     "end_time": "2023-05-22T20:34:14.861529Z",
     "start_time": "2023-05-22T20:34:14.849537Z"
    }
   },
   "outputs": [],
   "source": [
    "X_test_standard = pd.DataFrame(X_test_standard, columns=X_test.columns)"
   ]
  },
  {
   "cell_type": "code",
   "execution_count": 95,
   "id": "9dbea882",
   "metadata": {
    "ExecuteTime": {
     "end_time": "2023-05-22T20:34:15.268278Z",
     "start_time": "2023-05-22T20:34:15.250290Z"
    },
    "scrolled": true
   },
   "outputs": [
    {
     "data": {
      "text/plain": [
       "LinearRegression()"
      ]
     },
     "execution_count": 95,
     "metadata": {},
     "output_type": "execute_result"
    }
   ],
   "source": [
    "# Cria o modelo de regressão linear\n",
    "regressor = LinearRegression()\n",
    "\n",
    "# Treina o modelo\n",
    "regressor.fit(X_train_standard, y_train)"
   ]
  },
  {
   "cell_type": "code",
   "execution_count": 96,
   "id": "1a04301b",
   "metadata": {
    "ExecuteTime": {
     "end_time": "2023-05-22T20:34:16.362608Z",
     "start_time": "2023-05-22T20:34:16.343615Z"
    }
   },
   "outputs": [
    {
     "data": {
      "text/plain": [
       "0.36525232762051885"
      ]
     },
     "execution_count": 96,
     "metadata": {},
     "output_type": "execute_result"
    }
   ],
   "source": [
    "# Pontuação do modelo com base no seu coeficiente de determinação r2\n",
    "# Mostra o quanto as features conseguem explicar o target.\n",
    "# Também demonstra o quanto o modelo consegue captar a variância dos dados.\n",
    "\n",
    "regressor.score(X_test_standard, y_test)"
   ]
  },
  {
   "cell_type": "code",
   "execution_count": 97,
   "id": "3c41d36e",
   "metadata": {
    "ExecuteTime": {
     "end_time": "2023-05-22T20:34:16.924258Z",
     "start_time": "2023-05-22T20:34:16.912266Z"
    }
   },
   "outputs": [],
   "source": [
    "# Prevendo o receita\n",
    "\n",
    "linreg_pred = regressor.predict(X_test_standard)"
   ]
  },
  {
   "cell_type": "code",
   "execution_count": 98,
   "id": "c9602240",
   "metadata": {
    "ExecuteTime": {
     "end_time": "2023-05-22T20:34:17.627823Z",
     "start_time": "2023-05-22T20:34:17.617830Z"
    }
   },
   "outputs": [],
   "source": [
    "linreg_mape = mean_absolute_percentage_error(y_test, linreg_pred)"
   ]
  },
  {
   "cell_type": "code",
   "execution_count": 99,
   "id": "89396aaf",
   "metadata": {
    "ExecuteTime": {
     "end_time": "2023-05-22T20:34:19.534648Z",
     "start_time": "2023-05-22T20:34:19.523655Z"
    }
   },
   "outputs": [
    {
     "data": {
      "text/plain": [
       "0.006064802333523808"
      ]
     },
     "execution_count": 99,
     "metadata": {},
     "output_type": "execute_result"
    }
   ],
   "source": [
    "linreg_mape"
   ]
  },
  {
   "cell_type": "code",
   "execution_count": 102,
   "id": "0640f365",
   "metadata": {
    "ExecuteTime": {
     "end_time": "2023-05-22T20:49:11.845951Z",
     "start_time": "2023-05-22T20:49:11.832959Z"
    }
   },
   "outputs": [],
   "source": [
    "last_months = X_test_standard.iloc[-24:] # Separando os últimos seis meses para previsão dos seis meses futuros\n",
    "\n",
    "forecast_months = regressor.predict(last_months) # Prevendo os próximos seis meses"
   ]
  },
  {
   "cell_type": "code",
   "execution_count": 103,
   "id": "1bb65399",
   "metadata": {
    "ExecuteTime": {
     "end_time": "2023-05-22T20:49:12.690430Z",
     "start_time": "2023-05-22T20:49:12.675439Z"
    }
   },
   "outputs": [
    {
     "name": "stdout",
     "output_type": "stream",
     "text": [
      "MAPE = 0.01\n"
     ]
    }
   ],
   "source": [
    "# Verificando a porcentagem de erro do nosso modelo\n",
    "\n",
    "linreg_mape = mean_absolute_percentage_error(y_test[-24:], forecast_months)\n",
    "\n",
    "print('MAPE =', round(linreg_mape, 2))"
   ]
  },
  {
   "cell_type": "code",
   "execution_count": 104,
   "id": "123bc594",
   "metadata": {
    "ExecuteTime": {
     "end_time": "2023-05-22T20:49:15.033984Z",
     "start_time": "2023-05-22T20:49:15.016995Z"
    }
   },
   "outputs": [
    {
     "name": "stdout",
     "output_type": "stream",
     "text": [
      "Previsão de receita a cada semana para os próximos seis meses:\n",
      "Week 1: [12.1853815]\n",
      "Week 2: [12.18118606]\n",
      "Week 3: [12.16133442]\n",
      "Week 4: [12.13868114]\n",
      "Week 5: [12.13290273]\n",
      "Week 6: [12.11212]\n",
      "Week 7: [12.10301345]\n",
      "Week 8: [12.12418121]\n",
      "Week 9: [12.12153126]\n",
      "Week 10: [12.13685271]\n",
      "Week 11: [12.20081976]\n",
      "Week 12: [12.24120645]\n",
      "Week 13: [12.24264711]\n",
      "Week 14: [12.25924328]\n",
      "Week 15: [12.27894581]\n",
      "Week 16: [12.2801961]\n",
      "Week 17: [12.27327787]\n",
      "Week 18: [12.25996888]\n",
      "Week 19: [12.28319102]\n",
      "Week 20: [12.28679818]\n",
      "Week 21: [12.29478109]\n",
      "Week 22: [12.35868372]\n",
      "Week 23: [12.40258672]\n",
      "Week 24: [12.38778671]\n"
     ]
    }
   ],
   "source": [
    "last_months = X_test_standard.iloc[-24:]\n",
    "forecast_months = regressor.predict(last_months)\n",
    "\n",
    "# Printa a receita prevista\n",
    "print(\"Previsão de receita a cada semana para os próximos seis meses:\")\n",
    "for i in range(len(forecast_months)):\n",
    "    print(f\"Week {i+1}: {forecast_months[i]}\")"
   ]
  },
  {
   "cell_type": "markdown",
   "id": "f7f3df31",
   "metadata": {},
   "source": [
    "# ARIMA"
   ]
  },
  {
   "cell_type": "code",
   "execution_count": 105,
   "id": "219e18d2",
   "metadata": {
    "ExecuteTime": {
     "end_time": "2023-05-22T20:50:33.158808Z",
     "start_time": "2023-05-22T20:50:33.014897Z"
    },
    "scrolled": false
   },
   "outputs": [
    {
     "data": {
      "image/png": "[encoded data removed]",
      "text/plain": [
       "<Figure size 640x480 with 1 Axes>"
      ]
     },
     "metadata": {},
     "output_type": "display_data"
    }
   ],
   "source": [
    "# Não há picos na correlação, indicando que não há sazonalidade\n",
    "\n",
    "plot_acf(y_train, lags=50);"
   ]
  },
  {
   "cell_type": "code",
   "execution_count": 106,
   "id": "1ec9127d",
   "metadata": {
    "ExecuteTime": {
     "end_time": "2023-05-22T20:50:34.364065Z",
     "start_time": "2023-05-22T20:50:34.351076Z"
    }
   },
   "outputs": [
    {
     "data": {
      "text/plain": [
       "1"
      ]
     },
     "execution_count": 106,
     "metadata": {},
     "output_type": "execute_result"
    }
   ],
   "source": [
    "# Número de diferenças necessárias para que as séries temporais se tornem estacionárias\n",
    "\n",
    "ndiffs(y_train)"
   ]
  },
  {
   "cell_type": "code",
   "execution_count": 111,
   "id": "d547b07e",
   "metadata": {
    "ExecuteTime": {
     "end_time": "2023-05-22T20:51:46.096832Z",
     "start_time": "2023-05-22T20:51:45.645110Z"
    },
    "scrolled": false
   },
   "outputs": [
    {
     "data": {
      "text/plain": [
       "''"
      ]
     },
     "execution_count": 111,
     "metadata": {},
     "output_type": "execute_result"
    },
    {
     "data": {
      "image/png": "[encoded data removed]",
      "text/plain": [
       "<Figure size 2300x400 with 3 Axes>"
      ]
     },
     "metadata": {},
     "output_type": "display_data"
    }
   ],
   "source": [
    "# Comparando e plotando a diferença entre os dados\n",
    "# para verificar a estacionaridade\n",
    "\n",
    "zero_diff = X_train\n",
    "first_order_diff = X_train.diff(1)\n",
    "second_order_diff = X_train.diff(1).diff(1)\n",
    "\n",
    "\n",
    "fig, (ax1, ax2, ax3) = plt.subplots(1, 3, figsize=(23,4))\n",
    "ax1.plot(zero_diff); ax1.set_title('Original Series')\n",
    "ax2.plot(first_order_diff); ax2.set_title('1st Order Differencing')\n",
    "ax3.plot(second_order_diff); ax3.set_title('2nd Order Differencing')\n",
    ";"
   ]
  },
  {
   "cell_type": "code",
   "execution_count": 112,
   "id": "3d95f9c2",
   "metadata": {
    "ExecuteTime": {
     "end_time": "2023-05-22T20:52:39.768733Z",
     "start_time": "2023-05-22T20:52:36.753594Z"
    }
   },
   "outputs": [
    {
     "name": "stdout",
     "output_type": "stream",
     "text": [
      "Performing stepwise search to minimize aic\n",
      " ARIMA(0,1,0)(0,0,0)[0] intercept   : AIC=-74.212, Time=0.06 sec\n",
      " ARIMA(1,1,0)(0,0,0)[0] intercept   : AIC=-100.628, Time=0.07 sec\n",
      " ARIMA(0,1,1)(0,0,0)[0] intercept   : AIC=-104.518, Time=0.12 sec\n",
      " ARIMA(0,1,0)(0,0,0)[0]             : AIC=-74.212, Time=0.05 sec\n",
      " ARIMA(1,1,1)(0,0,0)[0] intercept   : AIC=-106.131, Time=0.18 sec\n",
      " ARIMA(2,1,1)(0,0,0)[0] intercept   : AIC=-103.051, Time=0.16 sec\n",
      " ARIMA(1,1,2)(0,0,0)[0] intercept   : AIC=-108.843, Time=0.26 sec\n",
      " ARIMA(0,1,2)(0,0,0)[0] intercept   : AIC=-107.107, Time=0.09 sec\n",
      " ARIMA(2,1,2)(0,0,0)[0] intercept   : AIC=-109.990, Time=0.38 sec\n",
      " ARIMA(3,1,2)(0,0,0)[0] intercept   : AIC=-100.422, Time=0.11 sec\n",
      " ARIMA(2,1,3)(0,0,0)[0] intercept   : AIC=-104.641, Time=0.32 sec\n",
      " ARIMA(1,1,3)(0,0,0)[0] intercept   : AIC=-102.938, Time=0.11 sec\n",
      " ARIMA(3,1,1)(0,0,0)[0] intercept   : AIC=-104.034, Time=0.12 sec\n",
      " ARIMA(3,1,3)(0,0,0)[0] intercept   : AIC=-100.659, Time=0.58 sec\n",
      " ARIMA(2,1,2)(0,0,0)[0]             : AIC=-109.990, Time=0.37 sec\n",
      "\n",
      "Best model:  ARIMA(2,1,2)(0,0,0)[0]          \n",
      "Total fit time: 3.001 seconds\n"
     ]
    }
   ],
   "source": [
    "arima = pm.auto_arima(y_train, scoring='mae',\n",
    "                       start_p=0, max_p=5,\n",
    "                       start_q=0, max_q=5,\n",
    "                       trend='t',\n",
    "                       seasonal=False,\n",
    "                       trace=True)"
   ]
  },
  {
   "cell_type": "code",
   "execution_count": 113,
   "id": "dc2ee173",
   "metadata": {
    "ExecuteTime": {
     "end_time": "2023-05-22T20:53:12.643461Z",
     "start_time": "2023-05-22T20:53:12.629470Z"
    },
    "scrolled": true
   },
   "outputs": [
    {
     "name": "stdout",
     "output_type": "stream",
     "text": [
      "                               SARIMAX Results                                \n",
      "==============================================================================\n",
      "Dep. Variable:                      y   No. Observations:                  102\n",
      "Model:               SARIMAX(2, 1, 2)   Log Likelihood                  60.995\n",
      "Date:                Mon, 22 May 2023   AIC                           -109.990\n",
      "Time:                        17:53:12   BIC                            -94.299\n",
      "Sample:                    03-10-2013   HQIC                          -103.638\n",
      "                         - 02-15-2015                                         \n",
      "Covariance Type:                  opg                                         \n",
      "==============================================================================\n",
      "                 coef    std err          z      P>|z|      [0.025      0.975]\n",
      "------------------------------------------------------------------------------\n",
      "drift       8.316e-06   3.29e-05      0.253      0.800   -5.61e-05    7.28e-05\n",
      "ar.L1          0.8553      0.167      5.110      0.000       0.527       1.183\n",
      "ar.L2          0.0501      0.186      0.270      0.787      -0.314       0.414\n",
      "ma.L1         -1.5493      0.147    -10.553      0.000      -1.837      -1.262\n",
      "ma.L2          0.6275      0.156      4.026      0.000       0.322       0.933\n",
      "sigma2         0.0176      0.002     10.926      0.000       0.014       0.021\n",
      "===================================================================================\n",
      "Ljung-Box (L1) (Q):                   0.23   Jarque-Bera (JB):               878.70\n",
      "Prob(Q):                              0.63   Prob(JB):                         0.00\n",
      "Heteroskedasticity (H):               1.75   Skew:                             0.02\n",
      "Prob(H) (two-sided):                  0.11   Kurtosis:                        17.45\n",
      "===================================================================================\n",
      "\n",
      "Warnings:\n",
      "[1] Covariance matrix calculated using the outer product of gradients (complex-step).\n"
     ]
    }
   ],
   "source": [
    "print(arima.summary())"
   ]
  },
  {
   "cell_type": "code",
   "execution_count": 114,
   "id": "fe2a315a",
   "metadata": {
    "ExecuteTime": {
     "end_time": "2023-05-22T20:54:23.986468Z",
     "start_time": "2023-05-22T20:54:23.962483Z"
    }
   },
   "outputs": [],
   "source": [
    "# Salvando a previsão na variável 'arima_predict' para comparação do score dos modelos\n",
    "\n",
    "arima_predict = arima.predict(n_periods=27)"
   ]
  },
  {
   "cell_type": "code",
   "execution_count": 115,
   "id": "79b76e32",
   "metadata": {
    "ExecuteTime": {
     "end_time": "2023-05-22T20:54:25.062803Z",
     "start_time": "2023-05-22T20:54:25.051811Z"
    }
   },
   "outputs": [
    {
     "name": "stdout",
     "output_type": "stream",
     "text": [
      "MAPE = 0.01\n"
     ]
    }
   ],
   "source": [
    "# Verificando a porcentagem de erro do nosso modelo\n",
    "\n",
    "arima_mape = mean_absolute_percentage_error(y_test[-27:], arima_predict)\n",
    "\n",
    "print('MAPE =', round(arima_mape, 2))"
   ]
  },
  {
   "cell_type": "code",
   "execution_count": 116,
   "id": "086c2413",
   "metadata": {
    "ExecuteTime": {
     "end_time": "2023-05-22T20:54:26.143136Z",
     "start_time": "2023-05-22T20:54:26.113157Z"
    }
   },
   "outputs": [
    {
     "data": {
      "text/plain": [
       "2015-02-22    12.191218\n",
       "2015-03-01    12.211915\n",
       "2015-03-08    12.227789\n",
       "2015-03-15    12.243278\n",
       "2015-03-22    12.258203\n",
       "2015-03-29    12.272634\n",
       "2015-04-05    12.286625\n",
       "2015-04-12    12.300220\n",
       "2015-04-19    12.313465\n",
       "2015-04-26    12.326398\n",
       "2015-05-03    12.339056\n",
       "2015-05-10    12.351470\n",
       "2015-05-17    12.363670\n",
       "2015-05-24    12.375684\n",
       "2015-05-31    12.387536\n",
       "2015-06-07    12.399248\n",
       "2015-06-14    12.410841\n",
       "2015-06-21    12.422334\n",
       "2015-06-28    12.433743\n",
       "2015-07-05    12.445084\n",
       "2015-07-12    12.456370\n",
       "2015-07-19    12.467614\n",
       "2015-07-26    12.478829\n",
       "2015-08-02    12.490024\n",
       "2015-08-09    12.501210\n",
       "2015-08-16    12.512394\n",
       "2015-08-23    12.523586\n",
       "Freq: W-SUN, dtype: float64"
      ]
     },
     "execution_count": 116,
     "metadata": {},
     "output_type": "execute_result"
    }
   ],
   "source": [
    "#Prevendo os 6 meses futuros baseado nos últimos seis meses\n",
    "\n",
    "arima.predict(n_periods=27)"
   ]
  },
  {
   "cell_type": "markdown",
   "id": "a6a69c7f",
   "metadata": {},
   "source": [
    "# Deep Learning"
   ]
  },
  {
   "cell_type": "code",
   "execution_count": 117,
   "id": "64890eba",
   "metadata": {
    "ExecuteTime": {
     "end_time": "2023-05-22T20:54:42.175765Z",
     "start_time": "2023-05-22T20:54:30.851747Z"
    },
    "scrolled": true
   },
   "outputs": [
    {
     "name": "stdout",
     "output_type": "stream",
     "text": [
      "Epoch 1/1000\n",
      "7/7 [==============================] - 1s 29ms/step - loss: 11.8500 - val_loss: 12.1310\n",
      "Epoch 2/1000\n",
      "7/7 [==============================] - 0s 6ms/step - loss: 11.8090 - val_loss: 12.0669\n",
      "Epoch 3/1000\n",
      "7/7 [==============================] - 0s 6ms/step - loss: 11.7690 - val_loss: 12.0011\n",
      "Epoch 4/1000\n",
      "7/7 [==============================] - 0s 6ms/step - loss: 11.7283 - val_loss: 11.9349\n",
      "Epoch 5/1000\n",
      "7/7 [==============================] - 0s 6ms/step - loss: 11.6873 - val_loss: 11.8698\n",
      "Epoch 6/1000\n",
      "7/7 [==============================] - 0s 6ms/step - loss: 11.6470 - val_loss: 11.8047\n",
      "Epoch 7/1000\n",
      "7/7 [==============================] - 0s 6ms/step - loss: 11.6048 - val_loss: 11.7402\n",
      "Epoch 8/1000\n",
      "7/7 [==============================] - 0s 6ms/step - loss: 11.5639 - val_loss: 11.6769\n",
      "Epoch 9/1000\n",
      "7/7 [==============================] - 0s 6ms/step - loss: 11.5216 - val_loss: 11.6137\n",
      "Epoch 10/1000\n",
      "7/7 [==============================] - 0s 6ms/step - loss: 11.4794 - val_loss: 11.5486\n",
      "Epoch 11/1000\n",
      "7/7 [==============================] - 0s 6ms/step - loss: 11.4359 - val_loss: 11.4856\n",
      "Epoch 12/1000\n",
      "7/7 [==============================] - 0s 6ms/step - loss: 11.3909 - val_loss: 11.4230\n",
      "Epoch 13/1000\n",
      "7/7 [==============================] - 0s 6ms/step - loss: 11.3470 - val_loss: 11.3609\n",
      "Epoch 14/1000\n",
      "7/7 [==============================] - 0s 6ms/step - loss: 11.3002 - val_loss: 11.2994\n",
      "Epoch 15/1000\n",
      "7/7 [==============================] - 0s 6ms/step - loss: 11.2528 - val_loss: 11.2377\n",
      "Epoch 16/1000\n",
      "7/7 [==============================] - 0s 6ms/step - loss: 11.2053 - val_loss: 11.1762\n",
      "Epoch 17/1000\n",
      "7/7 [==============================] - 0s 5ms/step - loss: 11.1573 - val_loss: 11.1136\n",
      "Epoch 18/1000\n",
      "7/7 [==============================] - 0s 6ms/step - loss: 11.1065 - val_loss: 11.0513\n",
      "Epoch 19/1000\n",
      "7/7 [==============================] - 0s 6ms/step - loss: 11.0549 - val_loss: 10.9869\n",
      "Epoch 20/1000\n",
      "7/7 [==============================] - 0s 6ms/step - loss: 11.0020 - val_loss: 10.9221\n",
      "Epoch 21/1000\n",
      "7/7 [==============================] - 0s 6ms/step - loss: 10.9479 - val_loss: 10.8574\n",
      "Epoch 22/1000\n",
      "7/7 [==============================] - 0s 6ms/step - loss: 10.8913 - val_loss: 10.7879\n",
      "Epoch 23/1000\n",
      "7/7 [==============================] - 0s 6ms/step - loss: 10.8342 - val_loss: 10.7191\n",
      "Epoch 24/1000\n",
      "7/7 [==============================] - 0s 6ms/step - loss: 10.7746 - val_loss: 10.6493\n",
      "Epoch 25/1000\n",
      "7/7 [==============================] - 0s 6ms/step - loss: 10.7141 - val_loss: 10.5786\n",
      "Epoch 26/1000\n",
      "7/7 [==============================] - 0s 6ms/step - loss: 10.6527 - val_loss: 10.5068\n",
      "Epoch 27/1000\n",
      "7/7 [==============================] - 0s 6ms/step - loss: 10.5912 - val_loss: 10.4326\n",
      "Epoch 28/1000\n",
      "7/7 [==============================] - 0s 6ms/step - loss: 10.5267 - val_loss: 10.3588\n",
      "Epoch 29/1000\n",
      "7/7 [==============================] - 0s 6ms/step - loss: 10.4617 - val_loss: 10.2850\n",
      "Epoch 30/1000\n",
      "7/7 [==============================] - 0s 6ms/step - loss: 10.3963 - val_loss: 10.2132\n",
      "Epoch 31/1000\n",
      "7/7 [==============================] - 0s 6ms/step - loss: 10.3308 - val_loss: 10.1390\n",
      "Epoch 32/1000\n",
      "7/7 [==============================] - 0s 6ms/step - loss: 10.2635 - val_loss: 10.0617\n",
      "Epoch 33/1000\n",
      "7/7 [==============================] - 0s 6ms/step - loss: 10.1953 - val_loss: 9.9872\n",
      "Epoch 34/1000\n",
      "7/7 [==============================] - 0s 6ms/step - loss: 10.1264 - val_loss: 9.9093\n",
      "Epoch 35/1000\n",
      "7/7 [==============================] - 0s 6ms/step - loss: 10.0566 - val_loss: 9.8294\n",
      "Epoch 36/1000\n",
      "7/7 [==============================] - 0s 6ms/step - loss: 9.9852 - val_loss: 9.7513\n",
      "Epoch 37/1000\n",
      "7/7 [==============================] - 0s 6ms/step - loss: 9.9138 - val_loss: 9.6728\n",
      "Epoch 38/1000\n",
      "7/7 [==============================] - 0s 6ms/step - loss: 9.8427 - val_loss: 9.5922\n",
      "Epoch 39/1000\n",
      "7/7 [==============================] - 0s 6ms/step - loss: 9.7705 - val_loss: 9.5127\n",
      "Epoch 40/1000\n",
      "7/7 [==============================] - 0s 6ms/step - loss: 9.6970 - val_loss: 9.4300\n",
      "Epoch 41/1000\n",
      "7/7 [==============================] - 0s 6ms/step - loss: 9.6227 - val_loss: 9.3498\n",
      "Epoch 42/1000\n",
      "7/7 [==============================] - 0s 6ms/step - loss: 9.5473 - val_loss: 9.2668\n",
      "Epoch 43/1000\n",
      "7/7 [==============================] - 0s 6ms/step - loss: 9.4725 - val_loss: 9.1835\n",
      "Epoch 44/1000\n",
      "7/7 [==============================] - 0s 6ms/step - loss: 9.3966 - val_loss: 9.1016\n",
      "Epoch 45/1000\n",
      "7/7 [==============================] - 0s 6ms/step - loss: 9.3186 - val_loss: 9.0191\n",
      "Epoch 46/1000\n",
      "7/7 [==============================] - 0s 6ms/step - loss: 9.2406 - val_loss: 8.9336\n",
      "Epoch 47/1000\n",
      "7/7 [==============================] - 0s 6ms/step - loss: 9.1594 - val_loss: 8.8484\n",
      "Epoch 48/1000\n",
      "7/7 [==============================] - 0s 5ms/step - loss: 9.0809 - val_loss: 8.7622\n",
      "Epoch 49/1000\n",
      "7/7 [==============================] - 0s 6ms/step - loss: 8.9987 - val_loss: 8.6772\n",
      "Epoch 50/1000\n",
      "7/7 [==============================] - 0s 5ms/step - loss: 8.9165 - val_loss: 8.5862\n",
      "Epoch 51/1000\n",
      "7/7 [==============================] - 0s 6ms/step - loss: 8.8307 - val_loss: 8.4975\n",
      "Epoch 52/1000\n",
      "7/7 [==============================] - 0s 6ms/step - loss: 8.7458 - val_loss: 8.4073\n",
      "Epoch 53/1000\n",
      "7/7 [==============================] - 0s 6ms/step - loss: 8.6587 - val_loss: 8.3187\n",
      "Epoch 54/1000\n",
      "7/7 [==============================] - 0s 6ms/step - loss: 8.5723 - val_loss: 8.2294\n",
      "Epoch 55/1000\n",
      "7/7 [==============================] - 0s 6ms/step - loss: 8.4820 - val_loss: 8.1368\n",
      "Epoch 56/1000\n",
      "7/7 [==============================] - 0s 6ms/step - loss: 8.4008 - val_loss: 8.0421\n",
      "Epoch 57/1000\n",
      "7/7 [==============================] - 0s 5ms/step - loss: 8.3209 - val_loss: 7.9463\n",
      "Epoch 58/1000\n",
      "7/7 [==============================] - 0s 6ms/step - loss: 8.2396 - val_loss: 7.8517\n",
      "Epoch 59/1000\n",
      "7/7 [==============================] - 0s 6ms/step - loss: 8.1572 - val_loss: 7.7541\n",
      "Epoch 60/1000\n",
      "7/7 [==============================] - 0s 6ms/step - loss: 8.0766 - val_loss: 7.6559\n",
      "Epoch 61/1000\n",
      "7/7 [==============================] - 0s 6ms/step - loss: 7.9926 - val_loss: 7.5559\n",
      "Epoch 62/1000\n",
      "7/7 [==============================] - 0s 6ms/step - loss: 7.9081 - val_loss: 7.4557\n",
      "Epoch 63/1000\n",
      "7/7 [==============================] - 0s 6ms/step - loss: 7.8224 - val_loss: 7.3556\n",
      "Epoch 64/1000\n",
      "7/7 [==============================] - 0s 6ms/step - loss: 7.7371 - val_loss: 7.2525\n",
      "Epoch 65/1000\n",
      "7/7 [==============================] - 0s 6ms/step - loss: 7.6473 - val_loss: 7.1458\n",
      "Epoch 66/1000\n",
      "7/7 [==============================] - 0s 5ms/step - loss: 7.5577 - val_loss: 7.0404\n",
      "Epoch 67/1000\n",
      "7/7 [==============================] - 0s 6ms/step - loss: 7.4684 - val_loss: 6.9326\n",
      "Epoch 68/1000\n",
      "7/7 [==============================] - 0s 6ms/step - loss: 7.3770 - val_loss: 6.8266\n",
      "Epoch 69/1000\n",
      "7/7 [==============================] - 0s 6ms/step - loss: 7.2868 - val_loss: 6.7191\n",
      "Epoch 70/1000\n",
      "7/7 [==============================] - 0s 6ms/step - loss: 7.2007 - val_loss: 6.6121\n",
      "Epoch 71/1000\n",
      "7/7 [==============================] - 0s 8ms/step - loss: 7.1156 - val_loss: 6.4999\n",
      "Epoch 72/1000\n",
      "7/7 [==============================] - 0s 6ms/step - loss: 7.0297 - val_loss: 6.3858\n",
      "Epoch 73/1000\n",
      "7/7 [==============================] - 0s 6ms/step - loss: 6.9422 - val_loss: 6.2748\n",
      "Epoch 74/1000\n",
      "7/7 [==============================] - 0s 6ms/step - loss: 6.8528 - val_loss: 6.1663\n",
      "Epoch 75/1000\n",
      "7/7 [==============================] - 0s 6ms/step - loss: 6.7652 - val_loss: 6.0551\n",
      "Epoch 76/1000\n",
      "7/7 [==============================] - 0s 6ms/step - loss: 6.6761 - val_loss: 5.9415\n",
      "Epoch 77/1000\n",
      "7/7 [==============================] - 0s 6ms/step - loss: 6.5850 - val_loss: 5.8231\n",
      "Epoch 78/1000\n",
      "7/7 [==============================] - 0s 6ms/step - loss: 6.4948 - val_loss: 5.6983\n",
      "Epoch 79/1000\n",
      "7/7 [==============================] - 0s 5ms/step - loss: 6.4047 - val_loss: 5.5750\n",
      "Epoch 80/1000\n",
      "7/7 [==============================] - 0s 6ms/step - loss: 6.3189 - val_loss: 5.4535\n",
      "Epoch 81/1000\n",
      "7/7 [==============================] - 0s 6ms/step - loss: 6.2332 - val_loss: 5.3320\n",
      "Epoch 82/1000\n",
      "7/7 [==============================] - 0s 6ms/step - loss: 6.1478 - val_loss: 5.2105\n",
      "Epoch 83/1000\n",
      "7/7 [==============================] - 0s 6ms/step - loss: 6.0593 - val_loss: 5.0915\n",
      "Epoch 84/1000\n",
      "7/7 [==============================] - 0s 6ms/step - loss: 5.9733 - val_loss: 4.9679\n",
      "Epoch 85/1000\n",
      "7/7 [==============================] - 0s 6ms/step - loss: 5.8836 - val_loss: 4.8415\n",
      "Epoch 86/1000\n",
      "7/7 [==============================] - 0s 6ms/step - loss: 5.7974 - val_loss: 4.7147\n",
      "Epoch 87/1000\n",
      "7/7 [==============================] - 0s 6ms/step - loss: 5.7073 - val_loss: 4.5840\n",
      "Epoch 88/1000\n",
      "7/7 [==============================] - 0s 6ms/step - loss: 5.6200 - val_loss: 4.4525\n",
      "Epoch 89/1000\n",
      "7/7 [==============================] - 0s 6ms/step - loss: 5.5319 - val_loss: 4.3200\n",
      "Epoch 90/1000\n",
      "7/7 [==============================] - 0s 6ms/step - loss: 5.4468 - val_loss: 4.1909\n",
      "Epoch 91/1000\n",
      "7/7 [==============================] - 0s 6ms/step - loss: 5.3620 - val_loss: 4.0592\n",
      "Epoch 92/1000\n",
      "7/7 [==============================] - 0s 6ms/step - loss: 5.2757 - val_loss: 3.9225\n",
      "Epoch 93/1000\n",
      "7/7 [==============================] - 0s 6ms/step - loss: 5.1914 - val_loss: 3.7869\n",
      "Epoch 94/1000\n",
      "7/7 [==============================] - 0s 6ms/step - loss: 5.1039 - val_loss: 3.6560\n",
      "Epoch 95/1000\n",
      "7/7 [==============================] - 0s 6ms/step - loss: 5.0198 - val_loss: 3.5299\n",
      "Epoch 96/1000\n",
      "7/7 [==============================] - 0s 6ms/step - loss: 4.9323 - val_loss: 3.4017\n",
      "Epoch 97/1000\n",
      "7/7 [==============================] - 0s 6ms/step - loss: 4.8451 - val_loss: 3.2708\n",
      "Epoch 98/1000\n",
      "7/7 [==============================] - 0s 6ms/step - loss: 4.7570 - val_loss: 3.1381\n",
      "Epoch 99/1000\n",
      "7/7 [==============================] - 0s 6ms/step - loss: 4.6696 - val_loss: 3.0075\n",
      "Epoch 100/1000\n",
      "7/7 [==============================] - 0s 6ms/step - loss: 4.5878 - val_loss: 2.8801\n",
      "Epoch 101/1000\n",
      "7/7 [==============================] - 0s 6ms/step - loss: 4.5079 - val_loss: 2.7480\n",
      "Epoch 102/1000\n",
      "7/7 [==============================] - 0s 6ms/step - loss: 4.4256 - val_loss: 2.6149\n",
      "Epoch 103/1000\n",
      "7/7 [==============================] - 0s 6ms/step - loss: 4.3421 - val_loss: 2.4841\n",
      "Epoch 104/1000\n",
      "7/7 [==============================] - 0s 6ms/step - loss: 4.2663 - val_loss: 2.3609\n",
      "Epoch 105/1000\n",
      "7/7 [==============================] - 0s 6ms/step - loss: 4.1916 - val_loss: 2.2456\n",
      "Epoch 106/1000\n",
      "7/7 [==============================] - 0s 6ms/step - loss: 4.1285 - val_loss: 2.1462\n",
      "Epoch 107/1000\n",
      "7/7 [==============================] - 0s 6ms/step - loss: 4.0772 - val_loss: 2.0650\n",
      "Epoch 108/1000\n",
      "7/7 [==============================] - 0s 5ms/step - loss: 4.0406 - val_loss: 1.9949\n",
      "Epoch 109/1000\n",
      "7/7 [==============================] - 0s 6ms/step - loss: 4.0088 - val_loss: 1.9324\n",
      "Epoch 110/1000\n",
      "7/7 [==============================] - 0s 6ms/step - loss: 3.9843 - val_loss: 1.8809\n",
      "Epoch 111/1000\n",
      "7/7 [==============================] - 0s 6ms/step - loss: 3.9638 - val_loss: 1.8439\n",
      "Epoch 112/1000\n",
      "7/7 [==============================] - 0s 6ms/step - loss: 3.9486 - val_loss: 1.8083\n",
      "Epoch 113/1000\n",
      "7/7 [==============================] - 0s 6ms/step - loss: 3.9341 - val_loss: 1.7758\n",
      "Epoch 114/1000\n",
      "7/7 [==============================] - 0s 6ms/step - loss: 3.9191 - val_loss: 1.7485\n",
      "Epoch 115/1000\n",
      "7/7 [==============================] - 0s 6ms/step - loss: 3.9068 - val_loss: 1.7183\n",
      "Epoch 116/1000\n",
      "7/7 [==============================] - 0s 6ms/step - loss: 3.8922 - val_loss: 1.6918\n",
      "Epoch 117/1000\n",
      "7/7 [==============================] - 0s 6ms/step - loss: 3.8797 - val_loss: 1.6632\n",
      "Epoch 118/1000\n",
      "7/7 [==============================] - 0s 6ms/step - loss: 3.8654 - val_loss: 1.6356\n",
      "Epoch 119/1000\n",
      "7/7 [==============================] - 0s 6ms/step - loss: 3.8522 - val_loss: 1.6070\n",
      "Epoch 120/1000\n",
      "7/7 [==============================] - 0s 6ms/step - loss: 3.8355 - val_loss: 1.5799\n",
      "Epoch 121/1000\n",
      "7/7 [==============================] - 0s 6ms/step - loss: 3.8219 - val_loss: 1.5501\n",
      "Epoch 122/1000\n",
      "7/7 [==============================] - 0s 6ms/step - loss: 3.8072 - val_loss: 1.5254\n",
      "Epoch 123/1000\n",
      "7/7 [==============================] - 0s 6ms/step - loss: 3.7911 - val_loss: 1.5077\n",
      "Epoch 124/1000\n",
      "7/7 [==============================] - 0s 6ms/step - loss: 3.7780 - val_loss: 1.4867\n",
      "Epoch 125/1000\n",
      "7/7 [==============================] - 0s 6ms/step - loss: 3.7626 - val_loss: 1.4692\n",
      "Epoch 126/1000\n",
      "7/7 [==============================] - 0s 5ms/step - loss: 3.7492 - val_loss: 1.4564\n",
      "Epoch 127/1000\n",
      "7/7 [==============================] - 0s 6ms/step - loss: 3.7342 - val_loss: 1.4480\n",
      "Epoch 128/1000\n",
      "7/7 [==============================] - 0s 6ms/step - loss: 3.7203 - val_loss: 1.4407\n",
      "Epoch 129/1000\n",
      "7/7 [==============================] - 0s 6ms/step - loss: 3.7069 - val_loss: 1.4335\n",
      "Epoch 130/1000\n",
      "7/7 [==============================] - 0s 6ms/step - loss: 3.6955 - val_loss: 1.4269\n",
      "Epoch 131/1000\n",
      "7/7 [==============================] - 0s 6ms/step - loss: 3.6831 - val_loss: 1.4211\n",
      "Epoch 132/1000\n",
      "7/7 [==============================] - 0s 6ms/step - loss: 3.6730 - val_loss: 1.4153\n",
      "Epoch 133/1000\n",
      "7/7 [==============================] - 0s 6ms/step - loss: 3.6629 - val_loss: 1.4091\n",
      "Epoch 134/1000\n",
      "7/7 [==============================] - 0s 6ms/step - loss: 3.6516 - val_loss: 1.4018\n",
      "Epoch 135/1000\n",
      "7/7 [==============================] - 0s 6ms/step - loss: 3.6409 - val_loss: 1.3964\n",
      "Epoch 136/1000\n",
      "7/7 [==============================] - 0s 6ms/step - loss: 3.6309 - val_loss: 1.3910\n",
      "Epoch 137/1000\n",
      "7/7 [==============================] - 0s 5ms/step - loss: 3.6182 - val_loss: 1.3859\n",
      "Epoch 138/1000\n",
      "7/7 [==============================] - 0s 5ms/step - loss: 3.6057 - val_loss: 1.3836\n",
      "Epoch 139/1000\n",
      "7/7 [==============================] - 0s 6ms/step - loss: 3.5957 - val_loss: 1.3814\n",
      "Epoch 140/1000\n",
      "7/7 [==============================] - 0s 6ms/step - loss: 3.5870 - val_loss: 1.3791\n",
      "Epoch 141/1000\n",
      "7/7 [==============================] - 0s 6ms/step - loss: 3.5777 - val_loss: 1.3766\n",
      "Epoch 142/1000\n",
      "7/7 [==============================] - 0s 6ms/step - loss: 3.5683 - val_loss: 1.3744\n",
      "Epoch 143/1000\n",
      "7/7 [==============================] - 0s 6ms/step - loss: 3.5597 - val_loss: 1.3723\n",
      "Epoch 144/1000\n",
      "7/7 [==============================] - 0s 6ms/step - loss: 3.5519 - val_loss: 1.3702\n",
      "Epoch 145/1000\n",
      "7/7 [==============================] - 0s 6ms/step - loss: 3.5447 - val_loss: 1.3681\n",
      "Epoch 146/1000\n",
      "7/7 [==============================] - 0s 6ms/step - loss: 3.5354 - val_loss: 1.3673\n",
      "Epoch 147/1000\n",
      "7/7 [==============================] - 0s 6ms/step - loss: 3.5279 - val_loss: 1.3669\n",
      "Epoch 148/1000\n",
      "7/7 [==============================] - 0s 6ms/step - loss: 3.5210 - val_loss: 1.3665\n",
      "Epoch 149/1000\n",
      "7/7 [==============================] - 0s 6ms/step - loss: 3.5155 - val_loss: 1.3660\n",
      "Epoch 150/1000\n",
      "7/7 [==============================] - 0s 6ms/step - loss: 3.5076 - val_loss: 1.3660\n",
      "Epoch 151/1000\n",
      "7/7 [==============================] - 0s 5ms/step - loss: 3.5020 - val_loss: 1.3664\n",
      "Epoch 152/1000\n",
      "7/7 [==============================] - 0s 5ms/step - loss: 3.4966 - val_loss: 1.3664\n",
      "Epoch 153/1000\n",
      "7/7 [==============================] - 0s 5ms/step - loss: 3.4924 - val_loss: 1.3671\n",
      "Epoch 154/1000\n",
      "7/7 [==============================] - 0s 6ms/step - loss: 3.4883 - val_loss: 1.3661\n",
      "Epoch 155/1000\n",
      "7/7 [==============================] - 0s 6ms/step - loss: 3.4832 - val_loss: 1.3640\n",
      "Epoch 156/1000\n",
      "7/7 [==============================] - 0s 6ms/step - loss: 3.4780 - val_loss: 1.3619\n",
      "Epoch 157/1000\n",
      "7/7 [==============================] - 0s 6ms/step - loss: 3.4741 - val_loss: 1.3605\n",
      "Epoch 158/1000\n",
      "7/7 [==============================] - 0s 5ms/step - loss: 3.4694 - val_loss: 1.3574\n",
      "Epoch 159/1000\n",
      "7/7 [==============================] - 0s 6ms/step - loss: 3.4635 - val_loss: 1.3553\n",
      "Epoch 160/1000\n",
      "7/7 [==============================] - 0s 6ms/step - loss: 3.4582 - val_loss: 1.3545\n",
      "Epoch 161/1000\n",
      "7/7 [==============================] - 0s 6ms/step - loss: 3.4527 - val_loss: 1.3530\n",
      "Epoch 162/1000\n",
      "7/7 [==============================] - 0s 6ms/step - loss: 3.4477 - val_loss: 1.3520\n",
      "Epoch 163/1000\n",
      "7/7 [==============================] - 0s 6ms/step - loss: 3.4420 - val_loss: 1.3517\n",
      "Epoch 164/1000\n",
      "7/7 [==============================] - 0s 6ms/step - loss: 3.4378 - val_loss: 1.3509\n",
      "Epoch 165/1000\n"
     ]
    },
    {
     "name": "stdout",
     "output_type": "stream",
     "text": [
      "7/7 [==============================] - 0s 6ms/step - loss: 3.4322 - val_loss: 1.3490\n",
      "Epoch 166/1000\n",
      "7/7 [==============================] - 0s 6ms/step - loss: 3.4262 - val_loss: 1.3468\n",
      "Epoch 167/1000\n",
      "7/7 [==============================] - 0s 5ms/step - loss: 3.4213 - val_loss: 1.3453\n",
      "Epoch 168/1000\n",
      "7/7 [==============================] - 0s 6ms/step - loss: 3.4157 - val_loss: 1.3448\n",
      "Epoch 169/1000\n",
      "7/7 [==============================] - 0s 6ms/step - loss: 3.4104 - val_loss: 1.3432\n",
      "Epoch 170/1000\n",
      "7/7 [==============================] - 0s 5ms/step - loss: 3.4046 - val_loss: 1.3412\n",
      "Epoch 171/1000\n",
      "7/7 [==============================] - 0s 6ms/step - loss: 3.3996 - val_loss: 1.3397\n",
      "Epoch 172/1000\n",
      "7/7 [==============================] - 0s 6ms/step - loss: 3.3936 - val_loss: 1.3380\n",
      "Epoch 173/1000\n",
      "7/7 [==============================] - 0s 6ms/step - loss: 3.3888 - val_loss: 1.3358\n",
      "Epoch 174/1000\n",
      "7/7 [==============================] - 0s 6ms/step - loss: 3.3827 - val_loss: 1.3348\n",
      "Epoch 175/1000\n",
      "7/7 [==============================] - 0s 6ms/step - loss: 3.3769 - val_loss: 1.3339\n",
      "Epoch 176/1000\n",
      "7/7 [==============================] - 0s 6ms/step - loss: 3.3708 - val_loss: 1.3321\n",
      "Epoch 177/1000\n",
      "7/7 [==============================] - 0s 6ms/step - loss: 3.3652 - val_loss: 1.3298\n",
      "Epoch 178/1000\n",
      "7/7 [==============================] - 0s 5ms/step - loss: 3.3596 - val_loss: 1.3286\n",
      "Epoch 179/1000\n",
      "7/7 [==============================] - 0s 5ms/step - loss: 3.3534 - val_loss: 1.3270\n",
      "Epoch 180/1000\n",
      "7/7 [==============================] - 0s 6ms/step - loss: 3.3480 - val_loss: 1.3262\n",
      "Epoch 181/1000\n",
      "7/7 [==============================] - 0s 6ms/step - loss: 3.3413 - val_loss: 1.3248\n",
      "Epoch 182/1000\n",
      "7/7 [==============================] - 0s 6ms/step - loss: 3.3357 - val_loss: 1.3234\n",
      "Epoch 183/1000\n",
      "7/7 [==============================] - 0s 6ms/step - loss: 3.3301 - val_loss: 1.3208\n",
      "Epoch 184/1000\n",
      "7/7 [==============================] - 0s 6ms/step - loss: 3.3237 - val_loss: 1.3197\n",
      "Epoch 185/1000\n",
      "7/7 [==============================] - 0s 6ms/step - loss: 3.3175 - val_loss: 1.3185\n",
      "Epoch 186/1000\n",
      "7/7 [==============================] - 0s 6ms/step - loss: 3.3116 - val_loss: 1.3171\n",
      "Epoch 187/1000\n",
      "7/7 [==============================] - 0s 6ms/step - loss: 3.3057 - val_loss: 1.3152\n",
      "Epoch 188/1000\n",
      "7/7 [==============================] - 0s 6ms/step - loss: 3.3003 - val_loss: 1.3135\n",
      "Epoch 189/1000\n",
      "7/7 [==============================] - 0s 5ms/step - loss: 3.2936 - val_loss: 1.3123\n",
      "Epoch 190/1000\n",
      "7/7 [==============================] - 0s 6ms/step - loss: 3.2870 - val_loss: 1.3106\n",
      "Epoch 191/1000\n",
      "7/7 [==============================] - 0s 9ms/step - loss: 3.2815 - val_loss: 1.3091\n",
      "Epoch 192/1000\n",
      "7/7 [==============================] - 0s 6ms/step - loss: 3.2769 - val_loss: 1.3083\n",
      "Epoch 193/1000\n",
      "7/7 [==============================] - 0s 6ms/step - loss: 3.2704 - val_loss: 1.3063\n",
      "Epoch 194/1000\n",
      "7/7 [==============================] - 0s 6ms/step - loss: 3.2643 - val_loss: 1.3047\n",
      "Epoch 195/1000\n",
      "7/7 [==============================] - 0s 6ms/step - loss: 3.2590 - val_loss: 1.3026\n",
      "Epoch 196/1000\n",
      "7/7 [==============================] - 0s 5ms/step - loss: 3.2529 - val_loss: 1.3012\n",
      "Epoch 197/1000\n",
      "7/7 [==============================] - 0s 5ms/step - loss: 3.2469 - val_loss: 1.2996\n",
      "Epoch 198/1000\n",
      "7/7 [==============================] - 0s 6ms/step - loss: 3.2404 - val_loss: 1.2982\n",
      "Epoch 199/1000\n",
      "7/7 [==============================] - 0s 6ms/step - loss: 3.2355 - val_loss: 1.2958\n",
      "Epoch 200/1000\n",
      "7/7 [==============================] - 0s 6ms/step - loss: 3.2289 - val_loss: 1.2945\n",
      "Epoch 201/1000\n",
      "7/7 [==============================] - 0s 5ms/step - loss: 3.2224 - val_loss: 1.2928\n",
      "Epoch 202/1000\n",
      "7/7 [==============================] - 0s 6ms/step - loss: 3.2161 - val_loss: 1.2911\n",
      "Epoch 203/1000\n",
      "7/7 [==============================] - 0s 6ms/step - loss: 3.2111 - val_loss: 1.2897\n",
      "Epoch 204/1000\n",
      "7/7 [==============================] - 0s 6ms/step - loss: 3.2038 - val_loss: 1.2888\n",
      "Epoch 205/1000\n",
      "7/7 [==============================] - 0s 6ms/step - loss: 3.1975 - val_loss: 1.2874\n",
      "Epoch 206/1000\n",
      "7/7 [==============================] - 0s 5ms/step - loss: 3.1913 - val_loss: 1.2860\n",
      "Epoch 207/1000\n",
      "7/7 [==============================] - 0s 5ms/step - loss: 3.1846 - val_loss: 1.2840\n",
      "Epoch 208/1000\n",
      "7/7 [==============================] - 0s 5ms/step - loss: 3.1786 - val_loss: 1.2824\n",
      "Epoch 209/1000\n",
      "7/7 [==============================] - 0s 6ms/step - loss: 3.1719 - val_loss: 1.2820\n",
      "Epoch 210/1000\n",
      "7/7 [==============================] - 0s 6ms/step - loss: 3.1639 - val_loss: 1.2806\n",
      "Epoch 211/1000\n",
      "7/7 [==============================] - 0s 5ms/step - loss: 3.1575 - val_loss: 1.2792\n",
      "Epoch 212/1000\n",
      "7/7 [==============================] - 0s 6ms/step - loss: 3.1500 - val_loss: 1.2777\n",
      "Epoch 213/1000\n",
      "7/7 [==============================] - 0s 6ms/step - loss: 3.1422 - val_loss: 1.2765\n",
      "Epoch 214/1000\n",
      "7/7 [==============================] - 0s 6ms/step - loss: 3.1354 - val_loss: 1.2734\n",
      "Epoch 215/1000\n",
      "7/7 [==============================] - 0s 6ms/step - loss: 3.1294 - val_loss: 1.2715\n",
      "Epoch 216/1000\n",
      "7/7 [==============================] - 0s 6ms/step - loss: 3.1198 - val_loss: 1.2696\n",
      "Epoch 217/1000\n",
      "7/7 [==============================] - 0s 6ms/step - loss: 3.1128 - val_loss: 1.2680\n",
      "Epoch 218/1000\n",
      "7/7 [==============================] - 0s 6ms/step - loss: 3.1053 - val_loss: 1.2666\n",
      "Epoch 219/1000\n",
      "7/7 [==============================] - 0s 6ms/step - loss: 3.0975 - val_loss: 1.2643\n",
      "Epoch 220/1000\n",
      "7/7 [==============================] - 0s 6ms/step - loss: 3.0881 - val_loss: 1.2623\n",
      "Epoch 221/1000\n",
      "7/7 [==============================] - 0s 6ms/step - loss: 3.0812 - val_loss: 1.2602\n",
      "Epoch 222/1000\n",
      "7/7 [==============================] - 0s 5ms/step - loss: 3.0729 - val_loss: 1.2578\n",
      "Epoch 223/1000\n",
      "7/7 [==============================] - 0s 6ms/step - loss: 3.0645 - val_loss: 1.2557\n",
      "Epoch 224/1000\n",
      "7/7 [==============================] - 0s 6ms/step - loss: 3.0563 - val_loss: 1.2531\n",
      "Epoch 225/1000\n",
      "7/7 [==============================] - 0s 6ms/step - loss: 3.0496 - val_loss: 1.2512\n",
      "Epoch 226/1000\n",
      "7/7 [==============================] - 0s 6ms/step - loss: 3.0401 - val_loss: 1.2504\n",
      "Epoch 227/1000\n",
      "7/7 [==============================] - 0s 6ms/step - loss: 3.0324 - val_loss: 1.2503\n",
      "Epoch 228/1000\n",
      "7/7 [==============================] - 0s 5ms/step - loss: 3.0227 - val_loss: 1.2492\n",
      "Epoch 229/1000\n",
      "7/7 [==============================] - 0s 5ms/step - loss: 3.0132 - val_loss: 1.2478\n",
      "Epoch 230/1000\n",
      "7/7 [==============================] - 0s 6ms/step - loss: 3.0026 - val_loss: 1.2460\n",
      "Epoch 231/1000\n",
      "7/7 [==============================] - 0s 6ms/step - loss: 2.9922 - val_loss: 1.2442\n",
      "Epoch 232/1000\n",
      "7/7 [==============================] - 0s 6ms/step - loss: 2.9812 - val_loss: 1.2422\n",
      "Epoch 233/1000\n",
      "7/7 [==============================] - 0s 6ms/step - loss: 2.9709 - val_loss: 1.2410\n",
      "Epoch 234/1000\n",
      "7/7 [==============================] - 0s 6ms/step - loss: 2.9568 - val_loss: 1.2395\n",
      "Epoch 235/1000\n",
      "7/7 [==============================] - 0s 6ms/step - loss: 2.9445 - val_loss: 1.2365\n",
      "Epoch 236/1000\n",
      "7/7 [==============================] - 0s 6ms/step - loss: 2.9314 - val_loss: 1.2332\n",
      "Epoch 237/1000\n",
      "7/7 [==============================] - 0s 6ms/step - loss: 2.9183 - val_loss: 1.2296\n",
      "Epoch 238/1000\n",
      "7/7 [==============================] - 0s 5ms/step - loss: 2.9060 - val_loss: 1.2259\n",
      "Epoch 239/1000\n",
      "7/7 [==============================] - 0s 6ms/step - loss: 2.8928 - val_loss: 1.2231\n",
      "Epoch 240/1000\n",
      "7/7 [==============================] - 0s 6ms/step - loss: 2.8788 - val_loss: 1.2195\n",
      "Epoch 241/1000\n",
      "7/7 [==============================] - 0s 6ms/step - loss: 2.8645 - val_loss: 1.2158\n",
      "Epoch 242/1000\n",
      "7/7 [==============================] - 0s 6ms/step - loss: 2.8504 - val_loss: 1.2115\n",
      "Epoch 243/1000\n",
      "7/7 [==============================] - 0s 6ms/step - loss: 2.8340 - val_loss: 1.2067\n",
      "Epoch 244/1000\n",
      "7/7 [==============================] - 0s 6ms/step - loss: 2.8179 - val_loss: 1.2022\n",
      "Epoch 245/1000\n",
      "7/7 [==============================] - 0s 6ms/step - loss: 2.8014 - val_loss: 1.1980\n",
      "Epoch 246/1000\n",
      "7/7 [==============================] - 0s 5ms/step - loss: 2.7824 - val_loss: 1.1935\n",
      "Epoch 247/1000\n"
     ]
    },
    {
     "name": "stdout",
     "output_type": "stream",
     "text": [
      "7/7 [==============================] - 0s 5ms/step - loss: 2.7629 - val_loss: 1.1885\n",
      "Epoch 248/1000\n",
      "7/7 [==============================] - 0s 6ms/step - loss: 2.7428 - val_loss: 1.1851\n",
      "Epoch 249/1000\n",
      "7/7 [==============================] - 0s 6ms/step - loss: 2.7214 - val_loss: 1.1811\n",
      "Epoch 250/1000\n",
      "7/7 [==============================] - 0s 6ms/step - loss: 2.6980 - val_loss: 1.1746\n",
      "Epoch 251/1000\n",
      "7/7 [==============================] - 0s 6ms/step - loss: 2.6740 - val_loss: 1.1675\n",
      "Epoch 252/1000\n",
      "7/7 [==============================] - 0s 6ms/step - loss: 2.6529 - val_loss: 1.1598\n",
      "Epoch 253/1000\n",
      "7/7 [==============================] - 0s 6ms/step - loss: 2.6307 - val_loss: 1.1510\n",
      "Epoch 254/1000\n",
      "7/7 [==============================] - 0s 6ms/step - loss: 2.6098 - val_loss: 1.1407\n",
      "Epoch 255/1000\n",
      "7/7 [==============================] - 0s 6ms/step - loss: 2.5886 - val_loss: 1.1286\n",
      "Epoch 256/1000\n",
      "7/7 [==============================] - 0s 6ms/step - loss: 2.5678 - val_loss: 1.1174\n",
      "Epoch 257/1000\n",
      "7/7 [==============================] - 0s 6ms/step - loss: 2.5473 - val_loss: 1.1072\n",
      "Epoch 258/1000\n",
      "7/7 [==============================] - 0s 6ms/step - loss: 2.5263 - val_loss: 1.0996\n",
      "Epoch 259/1000\n",
      "7/7 [==============================] - 0s 6ms/step - loss: 2.5054 - val_loss: 1.0901\n",
      "Epoch 260/1000\n",
      "7/7 [==============================] - 0s 6ms/step - loss: 2.4855 - val_loss: 1.0800\n",
      "Epoch 261/1000\n",
      "7/7 [==============================] - 0s 6ms/step - loss: 2.4672 - val_loss: 1.0668\n",
      "Epoch 262/1000\n",
      "7/7 [==============================] - 0s 6ms/step - loss: 2.4481 - val_loss: 1.0545\n",
      "Epoch 263/1000\n",
      "7/7 [==============================] - 0s 6ms/step - loss: 2.4297 - val_loss: 1.0435\n",
      "Epoch 264/1000\n",
      "7/7 [==============================] - 0s 6ms/step - loss: 2.4108 - val_loss: 1.0325\n",
      "Epoch 265/1000\n",
      "7/7 [==============================] - 0s 6ms/step - loss: 2.3927 - val_loss: 1.0230\n",
      "Epoch 266/1000\n",
      "7/7 [==============================] - 0s 6ms/step - loss: 2.3735 - val_loss: 1.0160\n",
      "Epoch 267/1000\n",
      "7/7 [==============================] - 0s 6ms/step - loss: 2.3567 - val_loss: 1.0189\n",
      "Epoch 268/1000\n",
      "7/7 [==============================] - 0s 6ms/step - loss: 2.3375 - val_loss: 1.0239\n",
      "Epoch 269/1000\n",
      "7/7 [==============================] - 0s 5ms/step - loss: 2.3193 - val_loss: 1.0243\n",
      "Epoch 270/1000\n",
      "7/7 [==============================] - 0s 6ms/step - loss: 2.3021 - val_loss: 1.0270\n",
      "Epoch 271/1000\n",
      "7/7 [==============================] - 0s 6ms/step - loss: 2.2837 - val_loss: 1.0229\n",
      "Epoch 272/1000\n",
      "7/7 [==============================] - 0s 6ms/step - loss: 2.2663 - val_loss: 1.0195\n",
      "Epoch 273/1000\n",
      "7/7 [==============================] - 0s 6ms/step - loss: 2.2491 - val_loss: 1.0241\n",
      "Epoch 274/1000\n",
      "7/7 [==============================] - 0s 6ms/step - loss: 2.2317 - val_loss: 1.0301\n",
      "Epoch 275/1000\n",
      "7/7 [==============================] - 0s 5ms/step - loss: 2.2155 - val_loss: 1.0361\n",
      "Epoch 276/1000\n",
      "7/7 [==============================] - 0s 6ms/step - loss: 2.1979 - val_loss: 1.0458\n"
     ]
    },
    {
     "data": {
      "text/plain": [
       "<keras.callbacks.History at 0x300c7220>"
      ]
     },
     "execution_count": 117,
     "metadata": {},
     "output_type": "execute_result"
    }
   ],
   "source": [
    "#Deep learning simples com duas camadas, ativação linear e função de perda 'mean absolute error'\n",
    "\n",
    "simpledeep = Sequential()\n",
    "\n",
    "simpledeep.add(layers.Dense(3, activation=\"relu\"))\n",
    "simpledeep.add(layers.Dense(1, activation=\"linear\"))\n",
    "\n",
    "simpledeep.compile(loss='mae', optimizer='adam')\n",
    "\n",
    "#Parada antecipada quando o mean absolute error parar de melhorar por 30 períodos de teste.\n",
    "#Armazena o melhor valor encontrado\n",
    "es = callbacks.EarlyStopping(patience=10, restore_best_weights=True)\n",
    "\n",
    "simpledeep.fit(X_train_standard, y_train,\n",
    "          batch_size=16,\n",
    "          epochs=1000,\n",
    "          validation_split=0.3,\n",
    "          callbacks=[es],\n",
    "          verbose=1,\n",
    "          validation_data=(X_test_standard, y_test))"
   ]
  },
  {
   "cell_type": "code",
   "execution_count": 118,
   "id": "200eea0f",
   "metadata": {
    "ExecuteTime": {
     "end_time": "2023-05-22T20:54:42.252727Z",
     "start_time": "2023-05-22T20:54:42.178763Z"
    }
   },
   "outputs": [],
   "source": [
    "#Pontuação mean absolute error do modelo\n",
    "\n",
    "simpledeepmae = simpledeep.evaluate(X_test_standard, y_test, verbose=0)"
   ]
  },
  {
   "cell_type": "code",
   "execution_count": 119,
   "id": "fb1e85a5",
   "metadata": {
    "ExecuteTime": {
     "end_time": "2023-05-22T20:54:42.268707Z",
     "start_time": "2023-05-22T20:54:42.253715Z"
    }
   },
   "outputs": [
    {
     "data": {
      "text/plain": [
       "1.0159672498703003"
      ]
     },
     "execution_count": 119,
     "metadata": {},
     "output_type": "execute_result"
    }
   ],
   "source": [
    "simpledeepmae"
   ]
  },
  {
   "cell_type": "code",
   "execution_count": 120,
   "id": "0964916f",
   "metadata": {
    "ExecuteTime": {
     "end_time": "2023-05-22T20:54:42.410619Z",
     "start_time": "2023-05-22T20:54:42.271705Z"
    },
    "scrolled": true
   },
   "outputs": [
    {
     "name": "stdout",
     "output_type": "stream",
     "text": [
      "1/1 [==============================] - 0s 87ms/step\n"
     ]
    }
   ],
   "source": [
    "# Prevendo os próximos seis meses e armazendando na variável 'deepseqpred'\n",
    "\n",
    "simpledeeppred = simpledeep.predict(X_test_standard[-28:])"
   ]
  },
  {
   "cell_type": "code",
   "execution_count": 121,
   "id": "ce0b065e",
   "metadata": {
    "ExecuteTime": {
     "end_time": "2023-05-22T20:54:42.426610Z",
     "start_time": "2023-05-22T20:54:42.412618Z"
    },
    "scrolled": true
   },
   "outputs": [
    {
     "data": {
      "text/plain": [
       "array([[11.974456 ],\n",
       "       [12.635427 ],\n",
       "       [11.956424 ],\n",
       "       [11.658309 ],\n",
       "       [12.053908 ],\n",
       "       [12.234739 ],\n",
       "       [12.187063 ],\n",
       "       [11.598602 ],\n",
       "       [11.143854 ],\n",
       "       [11.701351 ],\n",
       "       [11.409086 ],\n",
       "       [10.38337  ],\n",
       "       [11.0745535],\n",
       "       [11.197938 ],\n",
       "       [10.904135 ],\n",
       "       [12.1404915],\n",
       "       [13.132814 ],\n",
       "       [12.829351 ],\n",
       "       [13.468111 ],\n",
       "       [14.05814  ],\n",
       "       [14.260155 ],\n",
       "       [13.449329 ],\n",
       "       [13.804627 ],\n",
       "       [14.244466 ],\n",
       "       [14.831105 ],\n",
       "       [14.675204 ],\n",
       "       [15.257061 ],\n",
       "       [17.081415 ]], dtype=float32)"
      ]
     },
     "execution_count": 121,
     "metadata": {},
     "output_type": "execute_result"
    }
   ],
   "source": [
    "# Resultado da previsão dos próximos seis meses\n",
    "\n",
    "simpledeeppred"
   ]
  },
  {
   "cell_type": "code",
   "execution_count": 122,
   "id": "55888ee8",
   "metadata": {
    "ExecuteTime": {
     "end_time": "2023-05-22T20:56:14.252984Z",
     "start_time": "2023-05-22T20:56:06.863540Z"
    },
    "scrolled": true
   },
   "outputs": [
    {
     "name": "stdout",
     "output_type": "stream",
     "text": [
      "Epoch 1/1000\n",
      "7/7 [==============================] - 2s 41ms/step - loss: 11.9394 - val_loss: 12.1913\n",
      "Epoch 2/1000\n",
      "7/7 [==============================] - 0s 7ms/step - loss: 11.9215 - val_loss: 12.1809\n",
      "Epoch 3/1000\n",
      "7/7 [==============================] - 0s 8ms/step - loss: 11.9035 - val_loss: 12.1702\n",
      "Epoch 4/1000\n",
      "7/7 [==============================] - 0s 8ms/step - loss: 11.8866 - val_loss: 12.1592\n",
      "Epoch 5/1000\n",
      "7/7 [==============================] - 0s 8ms/step - loss: 11.8696 - val_loss: 12.1476\n",
      "Epoch 6/1000\n",
      "7/7 [==============================] - 0s 8ms/step - loss: 11.8523 - val_loss: 12.1355\n",
      "Epoch 7/1000\n",
      "7/7 [==============================] - 0s 8ms/step - loss: 11.8370 - val_loss: 12.1230\n",
      "Epoch 8/1000\n",
      "7/7 [==============================] - 0s 8ms/step - loss: 11.8214 - val_loss: 12.1098\n",
      "Epoch 9/1000\n",
      "7/7 [==============================] - 0s 8ms/step - loss: 11.8064 - val_loss: 12.0959\n",
      "Epoch 10/1000\n",
      "7/7 [==============================] - 0s 8ms/step - loss: 11.7910 - val_loss: 12.0811\n",
      "Epoch 11/1000\n",
      "7/7 [==============================] - 0s 8ms/step - loss: 11.7759 - val_loss: 12.0654\n",
      "Epoch 12/1000\n",
      "7/7 [==============================] - 0s 7ms/step - loss: 11.7602 - val_loss: 12.0485\n",
      "Epoch 13/1000\n",
      "7/7 [==============================] - 0s 7ms/step - loss: 11.7439 - val_loss: 12.0303\n",
      "Epoch 14/1000\n",
      "7/7 [==============================] - 0s 7ms/step - loss: 11.7268 - val_loss: 12.0106\n",
      "Epoch 15/1000\n",
      "7/7 [==============================] - 0s 7ms/step - loss: 11.7089 - val_loss: 11.9892\n",
      "Epoch 16/1000\n",
      "7/7 [==============================] - 0s 7ms/step - loss: 11.6895 - val_loss: 11.9657\n",
      "Epoch 17/1000\n",
      "7/7 [==============================] - 0s 7ms/step - loss: 11.6685 - val_loss: 11.9404\n",
      "Epoch 18/1000\n",
      "7/7 [==============================] - 0s 7ms/step - loss: 11.6461 - val_loss: 11.9117\n",
      "Epoch 19/1000\n",
      "7/7 [==============================] - 0s 7ms/step - loss: 11.6208 - val_loss: 11.8804\n",
      "Epoch 20/1000\n",
      "7/7 [==============================] - 0s 7ms/step - loss: 11.5929 - val_loss: 11.8453\n",
      "Epoch 21/1000\n",
      "7/7 [==============================] - 0s 7ms/step - loss: 11.5613 - val_loss: 11.8061\n",
      "Epoch 22/1000\n",
      "7/7 [==============================] - 0s 7ms/step - loss: 11.5263 - val_loss: 11.7612\n",
      "Epoch 23/1000\n",
      "7/7 [==============================] - 0s 8ms/step - loss: 11.4859 - val_loss: 11.7102\n",
      "Epoch 24/1000\n",
      "7/7 [==============================] - 0s 7ms/step - loss: 11.4379 - val_loss: 11.6527\n",
      "Epoch 25/1000\n",
      "7/7 [==============================] - 0s 7ms/step - loss: 11.3821 - val_loss: 11.5844\n",
      "Epoch 26/1000\n",
      "7/7 [==============================] - 0s 7ms/step - loss: 11.3143 - val_loss: 11.5050\n",
      "Epoch 27/1000\n",
      "7/7 [==============================] - 0s 7ms/step - loss: 11.2334 - val_loss: 11.4032\n",
      "Epoch 28/1000\n",
      "7/7 [==============================] - 0s 7ms/step - loss: 11.1337 - val_loss: 11.2794\n",
      "Epoch 29/1000\n",
      "7/7 [==============================] - 0s 7ms/step - loss: 11.0092 - val_loss: 11.1191\n",
      "Epoch 30/1000\n",
      "7/7 [==============================] - 0s 7ms/step - loss: 10.8507 - val_loss: 10.9187\n",
      "Epoch 31/1000\n",
      "7/7 [==============================] - 0s 7ms/step - loss: 10.6399 - val_loss: 10.6569\n",
      "Epoch 32/1000\n",
      "7/7 [==============================] - 0s 8ms/step - loss: 10.3649 - val_loss: 10.3090\n",
      "Epoch 33/1000\n",
      "7/7 [==============================] - 0s 7ms/step - loss: 9.9987 - val_loss: 9.8424\n",
      "Epoch 34/1000\n",
      "7/7 [==============================] - 0s 7ms/step - loss: 9.4889 - val_loss: 9.2280\n",
      "Epoch 35/1000\n",
      "7/7 [==============================] - 0s 8ms/step - loss: 8.8013 - val_loss: 8.3914\n",
      "Epoch 36/1000\n",
      "7/7 [==============================] - 0s 7ms/step - loss: 7.8499 - val_loss: 7.2672\n",
      "Epoch 37/1000\n",
      "7/7 [==============================] - 0s 7ms/step - loss: 6.5213 - val_loss: 5.7484\n",
      "Epoch 38/1000\n",
      "7/7 [==============================] - 0s 11ms/step - loss: 5.0480 - val_loss: 3.7266\n",
      "Epoch 39/1000\n",
      "7/7 [==============================] - 0s 8ms/step - loss: 3.5991 - val_loss: 1.6405\n",
      "Epoch 40/1000\n",
      "7/7 [==============================] - 0s 8ms/step - loss: 2.3960 - val_loss: 1.5696\n",
      "Epoch 41/1000\n",
      "7/7 [==============================] - 0s 7ms/step - loss: 2.1745 - val_loss: 2.4849\n",
      "Epoch 42/1000\n",
      "7/7 [==============================] - 0s 7ms/step - loss: 2.1180 - val_loss: 2.1131\n",
      "Epoch 43/1000\n",
      "7/7 [==============================] - 0s 7ms/step - loss: 1.9544 - val_loss: 1.4547\n",
      "Epoch 44/1000\n",
      "7/7 [==============================] - 0s 7ms/step - loss: 1.8523 - val_loss: 1.1530\n",
      "Epoch 45/1000\n",
      "7/7 [==============================] - 0s 7ms/step - loss: 1.7573 - val_loss: 1.1043\n",
      "Epoch 46/1000\n",
      "7/7 [==============================] - 0s 7ms/step - loss: 1.6521 - val_loss: 1.1330\n",
      "Epoch 47/1000\n",
      "7/7 [==============================] - 0s 8ms/step - loss: 1.5536 - val_loss: 1.2541\n",
      "Epoch 48/1000\n",
      "7/7 [==============================] - 0s 7ms/step - loss: 1.4413 - val_loss: 1.2157\n",
      "Epoch 49/1000\n",
      "7/7 [==============================] - 0s 7ms/step - loss: 1.3444 - val_loss: 1.1724\n",
      "Epoch 50/1000\n",
      "7/7 [==============================] - 0s 8ms/step - loss: 1.2707 - val_loss: 1.0781\n",
      "Epoch 51/1000\n",
      "7/7 [==============================] - 0s 7ms/step - loss: 1.1932 - val_loss: 0.9300\n",
      "Epoch 52/1000\n",
      "7/7 [==============================] - 0s 7ms/step - loss: 1.1287 - val_loss: 0.8763\n",
      "Epoch 53/1000\n",
      "7/7 [==============================] - 0s 7ms/step - loss: 1.0620 - val_loss: 0.7239\n",
      "Epoch 54/1000\n",
      "7/7 [==============================] - 0s 7ms/step - loss: 1.0090 - val_loss: 0.6430\n",
      "Epoch 55/1000\n",
      "7/7 [==============================] - 0s 8ms/step - loss: 0.9460 - val_loss: 0.5975\n",
      "Epoch 56/1000\n",
      "7/7 [==============================] - 0s 7ms/step - loss: 0.8890 - val_loss: 0.6450\n",
      "Epoch 57/1000\n",
      "7/7 [==============================] - 0s 7ms/step - loss: 0.8601 - val_loss: 0.7095\n",
      "Epoch 58/1000\n",
      "7/7 [==============================] - 0s 7ms/step - loss: 0.8044 - val_loss: 0.5114\n",
      "Epoch 59/1000\n",
      "7/7 [==============================] - 0s 7ms/step - loss: 0.7730 - val_loss: 0.4497\n",
      "Epoch 60/1000\n",
      "7/7 [==============================] - 0s 7ms/step - loss: 0.7281 - val_loss: 0.4695\n",
      "Epoch 61/1000\n",
      "7/7 [==============================] - 0s 7ms/step - loss: 0.6859 - val_loss: 0.5253\n",
      "Epoch 62/1000\n",
      "7/7 [==============================] - 0s 7ms/step - loss: 0.6393 - val_loss: 0.3893\n",
      "Epoch 63/1000\n",
      "7/7 [==============================] - 0s 7ms/step - loss: 0.6106 - val_loss: 0.3093\n",
      "Epoch 64/1000\n",
      "7/7 [==============================] - 0s 8ms/step - loss: 0.5659 - val_loss: 0.3401\n",
      "Epoch 65/1000\n",
      "7/7 [==============================] - 0s 7ms/step - loss: 0.5348 - val_loss: 0.2545\n",
      "Epoch 66/1000\n",
      "7/7 [==============================] - 0s 7ms/step - loss: 0.5001 - val_loss: 0.3188\n",
      "Epoch 67/1000\n",
      "7/7 [==============================] - 0s 8ms/step - loss: 0.4857 - val_loss: 0.2037\n",
      "Epoch 68/1000\n",
      "7/7 [==============================] - 0s 7ms/step - loss: 0.4772 - val_loss: 0.1775\n",
      "Epoch 69/1000\n",
      "7/7 [==============================] - 0s 7ms/step - loss: 0.4496 - val_loss: 0.2062\n",
      "Epoch 70/1000\n",
      "7/7 [==============================] - 0s 8ms/step - loss: 0.4235 - val_loss: 0.1723\n",
      "Epoch 71/1000\n",
      "7/7 [==============================] - 0s 7ms/step - loss: 0.4210 - val_loss: 0.2270\n",
      "Epoch 72/1000\n",
      "7/7 [==============================] - 0s 7ms/step - loss: 0.4135 - val_loss: 0.1398\n",
      "Epoch 73/1000\n",
      "7/7 [==============================] - 0s 7ms/step - loss: 0.3911 - val_loss: 0.1304\n",
      "Epoch 74/1000\n",
      "7/7 [==============================] - 0s 7ms/step - loss: 0.3882 - val_loss: 0.1287\n",
      "Epoch 75/1000\n",
      "7/7 [==============================] - 0s 7ms/step - loss: 0.3763 - val_loss: 0.1228\n",
      "Epoch 76/1000\n",
      "7/7 [==============================] - 0s 7ms/step - loss: 0.3673 - val_loss: 0.1188\n",
      "Epoch 77/1000\n",
      "7/7 [==============================] - 0s 8ms/step - loss: 0.3741 - val_loss: 0.1280\n",
      "Epoch 78/1000\n",
      "7/7 [==============================] - 0s 7ms/step - loss: 0.3841 - val_loss: 0.1526\n",
      "Epoch 79/1000\n",
      "7/7 [==============================] - 0s 7ms/step - loss: 0.4003 - val_loss: 0.1238\n",
      "Epoch 80/1000\n",
      "7/7 [==============================] - 0s 8ms/step - loss: 0.4187 - val_loss: 0.1240\n",
      "Epoch 81/1000\n",
      "7/7 [==============================] - 0s 7ms/step - loss: 0.3844 - val_loss: 0.1360\n",
      "Epoch 82/1000\n",
      "7/7 [==============================] - 0s 8ms/step - loss: 0.3709 - val_loss: 0.1158\n",
      "Epoch 83/1000\n",
      "7/7 [==============================] - 0s 7ms/step - loss: 0.3509 - val_loss: 0.1313\n",
      "Epoch 84/1000\n",
      "7/7 [==============================] - 0s 9ms/step - loss: 0.3647 - val_loss: 0.1288\n",
      "Epoch 85/1000\n",
      "7/7 [==============================] - 0s 7ms/step - loss: 0.3540 - val_loss: 0.1194\n",
      "Epoch 86/1000\n",
      "7/7 [==============================] - 0s 7ms/step - loss: 0.3341 - val_loss: 0.1102\n",
      "Epoch 87/1000\n",
      "7/7 [==============================] - 0s 7ms/step - loss: 0.3328 - val_loss: 0.1089\n",
      "Epoch 88/1000\n",
      "7/7 [==============================] - 0s 7ms/step - loss: 0.3300 - val_loss: 0.1084\n",
      "Epoch 89/1000\n",
      "7/7 [==============================] - 0s 7ms/step - loss: 0.3290 - val_loss: 0.1123\n",
      "Epoch 90/1000\n",
      "7/7 [==============================] - 0s 7ms/step - loss: 0.3308 - val_loss: 0.1256\n",
      "Epoch 91/1000\n",
      "7/7 [==============================] - 0s 7ms/step - loss: 0.3325 - val_loss: 0.1372\n",
      "Epoch 92/1000\n",
      "7/7 [==============================] - 0s 7ms/step - loss: 0.3283 - val_loss: 0.1218\n",
      "Epoch 93/1000\n",
      "7/7 [==============================] - 0s 7ms/step - loss: 0.3347 - val_loss: 0.1029\n",
      "Epoch 94/1000\n",
      "7/7 [==============================] - 0s 7ms/step - loss: 0.3188 - val_loss: 0.1074\n",
      "Epoch 95/1000\n",
      "7/7 [==============================] - 0s 7ms/step - loss: 0.3246 - val_loss: 0.1087\n",
      "Epoch 96/1000\n",
      "7/7 [==============================] - 0s 7ms/step - loss: 0.3207 - val_loss: 0.1179\n",
      "Epoch 97/1000\n",
      "7/7 [==============================] - 0s 7ms/step - loss: 0.3147 - val_loss: 0.1006\n",
      "Epoch 98/1000\n",
      "7/7 [==============================] - 0s 8ms/step - loss: 0.3042 - val_loss: 0.1008\n",
      "Epoch 99/1000\n",
      "7/7 [==============================] - 0s 7ms/step - loss: 0.3047 - val_loss: 0.1011\n",
      "Epoch 100/1000\n",
      "7/7 [==============================] - 0s 7ms/step - loss: 0.3057 - val_loss: 0.1094\n",
      "Epoch 101/1000\n",
      "7/7 [==============================] - 0s 7ms/step - loss: 0.3030 - val_loss: 0.1008\n",
      "Epoch 102/1000\n",
      "7/7 [==============================] - 0s 7ms/step - loss: 0.2946 - val_loss: 0.1003\n",
      "Epoch 103/1000\n",
      "7/7 [==============================] - 0s 7ms/step - loss: 0.3105 - val_loss: 0.1023\n",
      "Epoch 104/1000\n",
      "7/7 [==============================] - 0s 7ms/step - loss: 0.3003 - val_loss: 0.1061\n",
      "Epoch 105/1000\n",
      "7/7 [==============================] - 0s 7ms/step - loss: 0.2923 - val_loss: 0.0997\n",
      "Epoch 106/1000\n",
      "7/7 [==============================] - 0s 7ms/step - loss: 0.2916 - val_loss: 0.1044\n",
      "Epoch 107/1000\n",
      "7/7 [==============================] - 0s 7ms/step - loss: 0.2913 - val_loss: 0.1199\n",
      "Epoch 108/1000\n",
      "7/7 [==============================] - 0s 7ms/step - loss: 0.2983 - val_loss: 0.1033\n",
      "Epoch 109/1000\n",
      "7/7 [==============================] - 0s 8ms/step - loss: 0.2883 - val_loss: 0.1036\n",
      "Epoch 110/1000\n",
      "7/7 [==============================] - 0s 7ms/step - loss: 0.2899 - val_loss: 0.1062\n",
      "Epoch 111/1000\n",
      "7/7 [==============================] - 0s 7ms/step - loss: 0.2836 - val_loss: 0.1120\n",
      "Epoch 112/1000\n",
      "7/7 [==============================] - 0s 7ms/step - loss: 0.2803 - val_loss: 0.1136\n",
      "Epoch 113/1000\n",
      "7/7 [==============================] - 0s 7ms/step - loss: 0.2859 - val_loss: 0.1039\n",
      "Epoch 114/1000\n",
      "7/7 [==============================] - 0s 7ms/step - loss: 0.2900 - val_loss: 0.1051\n",
      "Epoch 115/1000\n",
      "7/7 [==============================] - 0s 8ms/step - loss: 0.2890 - val_loss: 0.1248\n"
     ]
    },
    {
     "data": {
      "text/plain": [
       "<keras.callbacks.History at 0x364e5040>"
      ]
     },
     "execution_count": 122,
     "metadata": {},
     "output_type": "execute_result"
    }
   ],
   "source": [
    "# Deep learning LSTM(Long Short Term Memory).\n",
    "# Tradeoff: Perde em desempenho por ser mais robusto,\n",
    "# ganha em qualidade por maior acertividade.\n",
    "# Evita o (\"vanishing gradient\").\n",
    "# batch_size=16 pega 16 amostras por teste.\n",
    "# epochs=1000 quantidade de vezes que será treinado.\n",
    "# Validation_split=0.3 separa 30% dos dados para o conjunto de validação.\n",
    "\n",
    "deepLSTM = Sequential()\n",
    "deepLSTM.add(LSTM(units=3, activation='relu', input_shape=(6,1)))\n",
    "deepLSTM.add(layers.Dense(1, activation=\"linear\"))\n",
    "\n",
    "deepLSTM.compile(loss='mae', optimizer='adam')\n",
    "\n",
    "es = callbacks.EarlyStopping(patience=10, restore_best_weights=True)\n",
    "\n",
    "deepLSTM.fit(X_train_standard, y_train,\n",
    "          batch_size=16,\n",
    "          epochs=1000,\n",
    "          validation_split=0.3,\n",
    "          callbacks=[es],\n",
    "          verbose=1,\n",
    "          validation_data=(X_test_standard, y_test))"
   ]
  },
  {
   "cell_type": "code",
   "execution_count": 123,
   "id": "1f714095",
   "metadata": {
    "ExecuteTime": {
     "end_time": "2023-05-22T20:56:46.424147Z",
     "start_time": "2023-05-22T20:56:46.337199Z"
    }
   },
   "outputs": [],
   "source": [
    "# Pontuação mean absolute error do modelo\n",
    "\n",
    "LSTMmae = deepLSTM.evaluate(X_test_standard, y_test, verbose=0)"
   ]
  },
  {
   "cell_type": "code",
   "execution_count": 124,
   "id": "9210ef19",
   "metadata": {
    "ExecuteTime": {
     "end_time": "2023-05-22T20:56:48.175065Z",
     "start_time": "2023-05-22T20:56:48.165071Z"
    }
   },
   "outputs": [
    {
     "data": {
      "text/plain": [
       "0.09965221583843231"
      ]
     },
     "execution_count": 124,
     "metadata": {},
     "output_type": "execute_result"
    }
   ],
   "source": [
    "LSTMmae"
   ]
  },
  {
   "cell_type": "code",
   "execution_count": 125,
   "id": "190822b7",
   "metadata": {
    "ExecuteTime": {
     "end_time": "2023-05-22T20:56:52.769238Z",
     "start_time": "2023-05-22T20:56:52.556364Z"
    }
   },
   "outputs": [
    {
     "name": "stdout",
     "output_type": "stream",
     "text": [
      "1/1 [==============================] - 0s 159ms/step\n"
     ]
    }
   ],
   "source": [
    "# Prevendo os próximos seis meses e armazendando na variável 'deepLSTMpred'\n",
    "\n",
    "deepLSTMpred = deepLSTM.predict((X_test_standard[-28:]))"
   ]
  },
  {
   "cell_type": "code",
   "execution_count": 126,
   "id": "71f4ed15",
   "metadata": {
    "ExecuteTime": {
     "end_time": "2023-05-22T20:56:58.096948Z",
     "start_time": "2023-05-22T20:56:58.077960Z"
    },
    "scrolled": false
   },
   "outputs": [
    {
     "data": {
      "text/plain": [
       "array([[12.206302 ],\n",
       "       [12.190825 ],\n",
       "       [12.167733 ],\n",
       "       [12.108247 ],\n",
       "       [12.199829 ],\n",
       "       [12.1109915],\n",
       "       [12.120226 ],\n",
       "       [12.145307 ],\n",
       "       [12.196955 ],\n",
       "       [12.124969 ],\n",
       "       [12.092606 ],\n",
       "       [12.148463 ],\n",
       "       [12.088811 ],\n",
       "       [12.206464 ],\n",
       "       [12.156252 ],\n",
       "       [12.136012 ],\n",
       "       [12.073907 ],\n",
       "       [12.167922 ],\n",
       "       [12.358665 ],\n",
       "       [12.248828 ],\n",
       "       [12.164212 ],\n",
       "       [12.096782 ],\n",
       "       [12.586078 ],\n",
       "       [12.499324 ],\n",
       "       [12.248719 ],\n",
       "       [12.211209 ],\n",
       "       [12.406522 ],\n",
       "       [12.607877 ]], dtype=float32)"
      ]
     },
     "execution_count": 126,
     "metadata": {},
     "output_type": "execute_result"
    }
   ],
   "source": [
    "# Previsão dos seis meses futuros\n",
    "\n",
    "deepLSTMpred"
   ]
  },
  {
   "cell_type": "code",
   "execution_count": 127,
   "id": "60e842ca",
   "metadata": {
    "ExecuteTime": {
     "end_time": "2023-05-22T20:57:04.564957Z",
     "start_time": "2023-05-22T20:57:04.554964Z"
    },
    "scrolled": false
   },
   "outputs": [
    {
     "name": "stdout",
     "output_type": "stream",
     "text": [
      "MAPE = 0.1\n"
     ]
    }
   ],
   "source": [
    "simpledeep_mape = mean_absolute_percentage_error(y_test[-28:], simpledeeppred)\n",
    "\n",
    "print('MAPE =', round(simpledeep_mape, 2))"
   ]
  },
  {
   "cell_type": "code",
   "execution_count": 128,
   "id": "6bb65941",
   "metadata": {
    "ExecuteTime": {
     "end_time": "2023-05-22T20:57:05.862158Z",
     "start_time": "2023-05-22T20:57:05.855162Z"
    }
   },
   "outputs": [
    {
     "name": "stdout",
     "output_type": "stream",
     "text": [
      "MAPE = 0.01\n"
     ]
    }
   ],
   "source": [
    "deepLSTM_mape = mean_absolute_percentage_error(y_test[-28:], deepLSTMpred)\n",
    "\n",
    "print('MAPE =', round(deepLSTM_mape, 2))"
   ]
  },
  {
   "cell_type": "markdown",
   "id": "dfdbeef1",
   "metadata": {},
   "source": [
    "# Random Forest"
   ]
  },
  {
   "cell_type": "code",
   "execution_count": 129,
   "id": "b5f41005",
   "metadata": {
    "ExecuteTime": {
     "end_time": "2023-05-22T20:57:20.064400Z",
     "start_time": "2023-05-22T20:57:19.856528Z"
    }
   },
   "outputs": [
    {
     "data": {
      "text/plain": [
       "RandomForestRegressor(criterion='absolute_error')"
      ]
     },
     "execution_count": 129,
     "metadata": {},
     "output_type": "execute_result"
    }
   ],
   "source": [
    "# Treinando Random Forest com 100 árvores\n",
    "\n",
    "forest = RandomForestRegressor(n_estimators=100, criterion='absolute_error')\n",
    "forest.fit(X_train_standard, y_train)"
   ]
  },
  {
   "cell_type": "code",
   "execution_count": 150,
   "id": "fe605171",
   "metadata": {
    "ExecuteTime": {
     "end_time": "2023-05-22T21:03:54.127913Z",
     "start_time": "2023-05-22T21:03:53.271438Z"
    }
   },
   "outputs": [
    {
     "data": {
      "text/plain": [
       "-0.8319817248738781"
      ]
     },
     "execution_count": 150,
     "metadata": {},
     "output_type": "execute_result"
    }
   ],
   "source": [
    "cv_results = cross_val_score(forest, X_train_standard, y_train).mean()\n",
    "\n",
    "cv_results"
   ]
  },
  {
   "cell_type": "code",
   "execution_count": 151,
   "id": "88390d88",
   "metadata": {
    "ExecuteTime": {
     "end_time": "2023-05-22T21:04:07.862441Z",
     "start_time": "2023-05-22T21:04:07.830461Z"
    }
   },
   "outputs": [
    {
     "data": {
      "text/plain": [
       "0.08669847557941912"
      ]
     },
     "execution_count": 151,
     "metadata": {},
     "output_type": "execute_result"
    }
   ],
   "source": [
    "#Pontuação do R²\n",
    "\n",
    "forest.score(X_test_standard, y_test)"
   ]
  },
  {
   "cell_type": "code",
   "execution_count": 134,
   "id": "db12f7c3",
   "metadata": {
    "ExecuteTime": {
     "end_time": "2023-05-22T20:57:44.862110Z",
     "start_time": "2023-05-22T20:57:44.834126Z"
    }
   },
   "outputs": [],
   "source": [
    "forest_pred = forest.predict(X_test_standard)"
   ]
  },
  {
   "cell_type": "code",
   "execution_count": 135,
   "id": "856508b1",
   "metadata": {
    "ExecuteTime": {
     "end_time": "2023-05-22T20:57:45.204898Z",
     "start_time": "2023-05-22T20:57:45.199900Z"
    },
    "scrolled": true
   },
   "outputs": [],
   "source": [
    "forest_mape = mean_absolute_percentage_error(y_test[-28:], forest_pred[-28:])"
   ]
  },
  {
   "cell_type": "code",
   "execution_count": 136,
   "id": "c60b32ea",
   "metadata": {
    "ExecuteTime": {
     "end_time": "2023-05-22T20:57:45.471733Z",
     "start_time": "2023-05-22T20:57:45.458742Z"
    }
   },
   "outputs": [
    {
     "data": {
      "text/plain": [
       "0.007200391760188628"
      ]
     },
     "execution_count": 136,
     "metadata": {},
     "output_type": "execute_result"
    }
   ],
   "source": [
    "forest_mape"
   ]
  },
  {
   "cell_type": "code",
   "execution_count": 137,
   "id": "82ee4fe0",
   "metadata": {
    "ExecuteTime": {
     "end_time": "2023-05-22T20:57:46.007404Z",
     "start_time": "2023-05-22T20:57:45.990413Z"
    }
   },
   "outputs": [
    {
     "data": {
      "text/plain": [
       "array([12.28560785, 12.28786429, 12.27005352, 12.28179161, 12.12696242,\n",
       "       12.12672561, 12.12610611, 12.24478691, 12.27913249, 12.27490703,\n",
       "       12.13973429, 12.16718338, 12.10244777, 12.03057711, 12.15390649,\n",
       "       12.13577195, 12.25692522, 12.12454671, 12.11497598, 12.07009106,\n",
       "       12.07900262, 12.03874228, 12.05130866, 12.11450358, 12.05329115,\n",
       "       12.2560927 , 12.27458389, 12.27843188, 12.1620002 , 12.2813414 ,\n",
       "       12.29569182, 12.28660647, 12.21967197, 12.15012519, 12.30758716,\n",
       "       12.28561402, 12.2889827 , 12.29009269, 12.29471028, 12.29726161])"
      ]
     },
     "execution_count": 137,
     "metadata": {},
     "output_type": "execute_result"
    }
   ],
   "source": [
    "#Previsão para os seis meses futuros\n",
    "\n",
    "forest_pred"
   ]
  },
  {
   "cell_type": "code",
   "execution_count": 138,
   "id": "7693b54d",
   "metadata": {
    "ExecuteTime": {
     "end_time": "2023-05-22T20:57:46.736954Z",
     "start_time": "2023-05-22T20:57:46.724960Z"
    }
   },
   "outputs": [
    {
     "name": "stdout",
     "output_type": "stream",
     "text": [
      "MAPE = 0.01\n"
     ]
    }
   ],
   "source": [
    "forest_pred_mape = mean_absolute_percentage_error(y_test[-28:], forest_pred[-28:])\n",
    "\n",
    "print('MAPE =', round(forest_pred_mape, 2))"
   ]
  },
  {
   "cell_type": "markdown",
   "id": "4534459d",
   "metadata": {},
   "source": [
    "# Extras"
   ]
  },
  {
   "cell_type": "markdown",
   "id": "6d72bbfd",
   "metadata": {},
   "source": [
    "## XGBRegressor"
   ]
  },
  {
   "cell_type": "code",
   "execution_count": 152,
   "id": "4154b3a0",
   "metadata": {
    "ExecuteTime": {
     "end_time": "2023-05-22T21:04:45.846017Z",
     "start_time": "2023-05-22T21:04:45.453260Z"
    }
   },
   "outputs": [
    {
     "name": "stdout",
     "output_type": "stream",
     "text": [
      "[0]\tvalidation_0-mape:0.86297\tvalidation_1-mape:0.86670\n",
      "[1]\tvalidation_0-mape:0.77739\tvalidation_1-mape:0.78345\n",
      "[2]\tvalidation_0-mape:0.70029\tvalidation_1-mape:0.70845\n",
      "[3]\tvalidation_0-mape:0.63082\tvalidation_1-mape:0.64087\n",
      "[4]\tvalidation_0-mape:0.56823\tvalidation_1-mape:0.57998\n",
      "[5]\tvalidation_0-mape:0.51184\tvalidation_1-mape:0.52513\n",
      "[6]\tvalidation_0-mape:0.46103\tvalidation_1-mape:0.47570\n",
      "[7]\tvalidation_0-mape:0.41526\tvalidation_1-mape:0.43117\n",
      "[8]\tvalidation_0-mape:0.37401\tvalidation_1-mape:0.39105\n",
      "[9]\tvalidation_0-mape:0.33685\tvalidation_1-mape:0.35491\n",
      "[10]\tvalidation_0-mape:0.30338\tvalidation_1-mape:0.32234\n",
      "[11]\tvalidation_0-mape:0.27355\tvalidation_1-mape:0.29165\n",
      "[12]\tvalidation_0-mape:0.24664\tvalidation_1-mape:0.26422\n",
      "[13]\tvalidation_0-mape:0.22241\tvalidation_1-mape:0.23891\n",
      "[14]\tvalidation_0-mape:0.20052\tvalidation_1-mape:0.21663\n",
      "[15]\tvalidation_0-mape:0.18081\tvalidation_1-mape:0.19594\n",
      "[16]\tvalidation_0-mape:0.16304\tvalidation_1-mape:0.17731\n",
      "[17]\tvalidation_0-mape:0.14698\tvalidation_1-mape:0.16105\n",
      "[18]\tvalidation_0-mape:0.13253\tvalidation_1-mape:0.14580\n",
      "[19]\tvalidation_0-mape:0.11950\tvalidation_1-mape:0.13195\n",
      "[20]\tvalidation_0-mape:0.10770\tvalidation_1-mape:0.12007\n",
      "[21]\tvalidation_0-mape:0.09711\tvalidation_1-mape:0.10875\n",
      "[22]\tvalidation_0-mape:0.08755\tvalidation_1-mape:0.09869\n",
      "[23]\tvalidation_0-mape:0.07901\tvalidation_1-mape:0.08934\n",
      "[24]\tvalidation_0-mape:0.07125\tvalidation_1-mape:0.08116\n",
      "[25]\tvalidation_0-mape:0.06428\tvalidation_1-mape:0.07354\n",
      "[26]\tvalidation_0-mape:0.05798\tvalidation_1-mape:0.06671\n",
      "[27]\tvalidation_0-mape:0.05232\tvalidation_1-mape:0.06043\n",
      "[28]\tvalidation_0-mape:0.04721\tvalidation_1-mape:0.05472\n",
      "[29]\tvalidation_0-mape:0.04264\tvalidation_1-mape:0.04964\n",
      "[30]\tvalidation_0-mape:0.03858\tvalidation_1-mape:0.04497\n",
      "[31]\tvalidation_0-mape:0.03483\tvalidation_1-mape:0.04108\n",
      "[32]\tvalidation_0-mape:0.03150\tvalidation_1-mape:0.03733\n",
      "[33]\tvalidation_0-mape:0.02852\tvalidation_1-mape:0.03387\n",
      "[34]\tvalidation_0-mape:0.02577\tvalidation_1-mape:0.03065\n",
      "[35]\tvalidation_0-mape:0.02335\tvalidation_1-mape:0.02779\n",
      "[36]\tvalidation_0-mape:0.02116\tvalidation_1-mape:0.02528\n",
      "[37]\tvalidation_0-mape:0.01916\tvalidation_1-mape:0.02306\n",
      "[38]\tvalidation_0-mape:0.01737\tvalidation_1-mape:0.02100\n",
      "[39]\tvalidation_0-mape:0.01571\tvalidation_1-mape:0.01909\n",
      "[40]\tvalidation_0-mape:0.01431\tvalidation_1-mape:0.01748\n",
      "[41]\tvalidation_0-mape:0.01299\tvalidation_1-mape:0.01613\n",
      "[42]\tvalidation_0-mape:0.01179\tvalidation_1-mape:0.01501\n",
      "[43]\tvalidation_0-mape:0.01071\tvalidation_1-mape:0.01396\n",
      "[44]\tvalidation_0-mape:0.00975\tvalidation_1-mape:0.01319\n",
      "[45]\tvalidation_0-mape:0.00888\tvalidation_1-mape:0.01249\n",
      "[46]\tvalidation_0-mape:0.00809\tvalidation_1-mape:0.01184\n",
      "[47]\tvalidation_0-mape:0.00735\tvalidation_1-mape:0.01120\n",
      "[48]\tvalidation_0-mape:0.00670\tvalidation_1-mape:0.01071\n",
      "[49]\tvalidation_0-mape:0.00614\tvalidation_1-mape:0.01039\n",
      "[50]\tvalidation_0-mape:0.00563\tvalidation_1-mape:0.01015\n",
      "[51]\tvalidation_0-mape:0.00515\tvalidation_1-mape:0.00985\n",
      "[52]\tvalidation_0-mape:0.00472\tvalidation_1-mape:0.00961\n",
      "[53]\tvalidation_0-mape:0.00433\tvalidation_1-mape:0.00949\n",
      "[54]\tvalidation_0-mape:0.00400\tvalidation_1-mape:0.00938\n",
      "[55]\tvalidation_0-mape:0.00368\tvalidation_1-mape:0.00925\n",
      "[56]\tvalidation_0-mape:0.00340\tvalidation_1-mape:0.00922\n",
      "[57]\tvalidation_0-mape:0.00315\tvalidation_1-mape:0.00915\n",
      "[58]\tvalidation_0-mape:0.00291\tvalidation_1-mape:0.00912\n",
      "[59]\tvalidation_0-mape:0.00269\tvalidation_1-mape:0.00903\n",
      "[60]\tvalidation_0-mape:0.00249\tvalidation_1-mape:0.00898\n",
      "[61]\tvalidation_0-mape:0.00231\tvalidation_1-mape:0.00895\n",
      "[62]\tvalidation_0-mape:0.00214\tvalidation_1-mape:0.00890\n",
      "[63]\tvalidation_0-mape:0.00199\tvalidation_1-mape:0.00890\n",
      "[64]\tvalidation_0-mape:0.00185\tvalidation_1-mape:0.00885\n",
      "[65]\tvalidation_0-mape:0.00172\tvalidation_1-mape:0.00884\n",
      "[66]\tvalidation_0-mape:0.00160\tvalidation_1-mape:0.00885\n",
      "[67]\tvalidation_0-mape:0.00149\tvalidation_1-mape:0.00886\n",
      "[68]\tvalidation_0-mape:0.00138\tvalidation_1-mape:0.00886\n",
      "[69]\tvalidation_0-mape:0.00128\tvalidation_1-mape:0.00889\n",
      "[70]\tvalidation_0-mape:0.00120\tvalidation_1-mape:0.00888\n",
      "[71]\tvalidation_0-mape:0.00112\tvalidation_1-mape:0.00889\n",
      "[72]\tvalidation_0-mape:0.00104\tvalidation_1-mape:0.00888\n",
      "[73]\tvalidation_0-mape:0.00097\tvalidation_1-mape:0.00888\n",
      "[74]\tvalidation_0-mape:0.00091\tvalidation_1-mape:0.00888\n",
      "[75]\tvalidation_0-mape:0.00085\tvalidation_1-mape:0.00886\n",
      "[76]\tvalidation_0-mape:0.00080\tvalidation_1-mape:0.00887\n",
      "[77]\tvalidation_0-mape:0.00074\tvalidation_1-mape:0.00886\n",
      "[78]\tvalidation_0-mape:0.00069\tvalidation_1-mape:0.00885\n",
      "[79]\tvalidation_0-mape:0.00064\tvalidation_1-mape:0.00884\n",
      "[80]\tvalidation_0-mape:0.00060\tvalidation_1-mape:0.00884\n",
      "[81]\tvalidation_0-mape:0.00056\tvalidation_1-mape:0.00884\n",
      "[82]\tvalidation_0-mape:0.00052\tvalidation_1-mape:0.00884\n",
      "[83]\tvalidation_0-mape:0.00049\tvalidation_1-mape:0.00884\n",
      "[84]\tvalidation_0-mape:0.00046\tvalidation_1-mape:0.00884\n",
      "[85]\tvalidation_0-mape:0.00043\tvalidation_1-mape:0.00884\n",
      "[86]\tvalidation_0-mape:0.00040\tvalidation_1-mape:0.00884\n",
      "[87]\tvalidation_0-mape:0.00038\tvalidation_1-mape:0.00884\n",
      "[88]\tvalidation_0-mape:0.00035\tvalidation_1-mape:0.00884\n",
      "[89]\tvalidation_0-mape:0.00033\tvalidation_1-mape:0.00884\n",
      "[90]\tvalidation_0-mape:0.00031\tvalidation_1-mape:0.00884\n",
      "[91]\tvalidation_0-mape:0.00029\tvalidation_1-mape:0.00884\n",
      "[92]\tvalidation_0-mape:0.00027\tvalidation_1-mape:0.00884\n",
      "[93]\tvalidation_0-mape:0.00026\tvalidation_1-mape:0.00883\n",
      "[94]\tvalidation_0-mape:0.00024\tvalidation_1-mape:0.00883\n",
      "[95]\tvalidation_0-mape:0.00022\tvalidation_1-mape:0.00882\n",
      "[96]\tvalidation_0-mape:0.00021\tvalidation_1-mape:0.00882\n",
      "[97]\tvalidation_0-mape:0.00020\tvalidation_1-mape:0.00882\n",
      "[98]\tvalidation_0-mape:0.00019\tvalidation_1-mape:0.00882\n",
      "[99]\tvalidation_0-mape:0.00018\tvalidation_1-mape:0.00881\n",
      "[100]\tvalidation_0-mape:0.00017\tvalidation_1-mape:0.00881\n",
      "[101]\tvalidation_0-mape:0.00016\tvalidation_1-mape:0.00881\n",
      "[102]\tvalidation_0-mape:0.00015\tvalidation_1-mape:0.00881\n",
      "[103]\tvalidation_0-mape:0.00014\tvalidation_1-mape:0.00880\n",
      "[104]\tvalidation_0-mape:0.00013\tvalidation_1-mape:0.00880\n",
      "[105]\tvalidation_0-mape:0.00013\tvalidation_1-mape:0.00880\n",
      "[106]\tvalidation_0-mape:0.00012\tvalidation_1-mape:0.00880\n",
      "[107]\tvalidation_0-mape:0.00011\tvalidation_1-mape:0.00880\n",
      "[108]\tvalidation_0-mape:0.00011\tvalidation_1-mape:0.00880\n",
      "[109]\tvalidation_0-mape:0.00010\tvalidation_1-mape:0.00880\n",
      "[110]\tvalidation_0-mape:0.00010\tvalidation_1-mape:0.00879\n",
      "[111]\tvalidation_0-mape:0.00010\tvalidation_1-mape:0.00879\n",
      "[112]\tvalidation_0-mape:0.00009\tvalidation_1-mape:0.00879\n",
      "[113]\tvalidation_0-mape:0.00009\tvalidation_1-mape:0.00879\n",
      "[114]\tvalidation_0-mape:0.00008\tvalidation_1-mape:0.00879\n",
      "[115]\tvalidation_0-mape:0.00008\tvalidation_1-mape:0.00879\n",
      "[116]\tvalidation_0-mape:0.00008\tvalidation_1-mape:0.00879\n",
      "[117]\tvalidation_0-mape:0.00008\tvalidation_1-mape:0.00879\n",
      "[118]\tvalidation_0-mape:0.00007\tvalidation_1-mape:0.00879\n",
      "[119]\tvalidation_0-mape:0.00007\tvalidation_1-mape:0.00879\n",
      "[120]\tvalidation_0-mape:0.00007\tvalidation_1-mape:0.00879\n",
      "[121]\tvalidation_0-mape:0.00007\tvalidation_1-mape:0.00879\n",
      "[122]\tvalidation_0-mape:0.00007\tvalidation_1-mape:0.00879\n",
      "[123]\tvalidation_0-mape:0.00006\tvalidation_1-mape:0.00879\n",
      "[124]\tvalidation_0-mape:0.00006\tvalidation_1-mape:0.00879\n",
      "[125]\tvalidation_0-mape:0.00006\tvalidation_1-mape:0.00879\n",
      "[126]\tvalidation_0-mape:0.00006\tvalidation_1-mape:0.00879\n",
      "[127]\tvalidation_0-mape:0.00006\tvalidation_1-mape:0.00879\n",
      "[128]\tvalidation_0-mape:0.00006\tvalidation_1-mape:0.00879\n",
      "[129]\tvalidation_0-mape:0.00006\tvalidation_1-mape:0.00879\n",
      "[130]\tvalidation_0-mape:0.00006\tvalidation_1-mape:0.00879\n",
      "[131]\tvalidation_0-mape:0.00006\tvalidation_1-mape:0.00879\n",
      "[132]\tvalidation_0-mape:0.00006\tvalidation_1-mape:0.00879\n",
      "[133]\tvalidation_0-mape:0.00006\tvalidation_1-mape:0.00879\n",
      "[134]\tvalidation_0-mape:0.00006\tvalidation_1-mape:0.00879\n",
      "[135]\tvalidation_0-mape:0.00006\tvalidation_1-mape:0.00878\n",
      "[136]\tvalidation_0-mape:0.00005\tvalidation_1-mape:0.00878\n",
      "[137]\tvalidation_0-mape:0.00005\tvalidation_1-mape:0.00878\n",
      "[138]\tvalidation_0-mape:0.00005\tvalidation_1-mape:0.00878\n",
      "[139]\tvalidation_0-mape:0.00005\tvalidation_1-mape:0.00878\n",
      "[140]\tvalidation_0-mape:0.00005\tvalidation_1-mape:0.00878\n",
      "[141]\tvalidation_0-mape:0.00005\tvalidation_1-mape:0.00878\n",
      "[142]\tvalidation_0-mape:0.00005\tvalidation_1-mape:0.00878\n",
      "[143]\tvalidation_0-mape:0.00005\tvalidation_1-mape:0.00878\n"
     ]
    },
    {
     "name": "stdout",
     "output_type": "stream",
     "text": [
      "[144]\tvalidation_0-mape:0.00005\tvalidation_1-mape:0.00878\n",
      "[145]\tvalidation_0-mape:0.00005\tvalidation_1-mape:0.00878\n",
      "[146]\tvalidation_0-mape:0.00005\tvalidation_1-mape:0.00878\n",
      "[147]\tvalidation_0-mape:0.00005\tvalidation_1-mape:0.00878\n",
      "[148]\tvalidation_0-mape:0.00005\tvalidation_1-mape:0.00878\n",
      "[149]\tvalidation_0-mape:0.00005\tvalidation_1-mape:0.00878\n",
      "[150]\tvalidation_0-mape:0.00005\tvalidation_1-mape:0.00878\n",
      "[151]\tvalidation_0-mape:0.00005\tvalidation_1-mape:0.00878\n",
      "[152]\tvalidation_0-mape:0.00005\tvalidation_1-mape:0.00878\n",
      "[153]\tvalidation_0-mape:0.00005\tvalidation_1-mape:0.00878\n",
      "[154]\tvalidation_0-mape:0.00005\tvalidation_1-mape:0.00878\n",
      "[155]\tvalidation_0-mape:0.00005\tvalidation_1-mape:0.00878\n",
      "[156]\tvalidation_0-mape:0.00005\tvalidation_1-mape:0.00878\n",
      "[157]\tvalidation_0-mape:0.00005\tvalidation_1-mape:0.00878\n",
      "[158]\tvalidation_0-mape:0.00005\tvalidation_1-mape:0.00878\n",
      "[159]\tvalidation_0-mape:0.00005\tvalidation_1-mape:0.00878\n",
      "[160]\tvalidation_0-mape:0.00005\tvalidation_1-mape:0.00878\n",
      "[161]\tvalidation_0-mape:0.00005\tvalidation_1-mape:0.00878\n",
      "[162]\tvalidation_0-mape:0.00005\tvalidation_1-mape:0.00878\n",
      "[163]\tvalidation_0-mape:0.00005\tvalidation_1-mape:0.00878\n",
      "[164]\tvalidation_0-mape:0.00005\tvalidation_1-mape:0.00878\n",
      "[165]\tvalidation_0-mape:0.00005\tvalidation_1-mape:0.00878\n",
      "[166]\tvalidation_0-mape:0.00005\tvalidation_1-mape:0.00878\n",
      "[167]\tvalidation_0-mape:0.00005\tvalidation_1-mape:0.00878\n",
      "[168]\tvalidation_0-mape:0.00005\tvalidation_1-mape:0.00878\n",
      "[169]\tvalidation_0-mape:0.00005\tvalidation_1-mape:0.00878\n",
      "[170]\tvalidation_0-mape:0.00005\tvalidation_1-mape:0.00878\n",
      "[171]\tvalidation_0-mape:0.00005\tvalidation_1-mape:0.00878\n",
      "[172]\tvalidation_0-mape:0.00005\tvalidation_1-mape:0.00878\n",
      "[173]\tvalidation_0-mape:0.00005\tvalidation_1-mape:0.00878\n",
      "[174]\tvalidation_0-mape:0.00005\tvalidation_1-mape:0.00878\n",
      "[175]\tvalidation_0-mape:0.00005\tvalidation_1-mape:0.00878\n",
      "[176]\tvalidation_0-mape:0.00005\tvalidation_1-mape:0.00878\n",
      "[177]\tvalidation_0-mape:0.00005\tvalidation_1-mape:0.00878\n",
      "[178]\tvalidation_0-mape:0.00005\tvalidation_1-mape:0.00878\n",
      "[179]\tvalidation_0-mape:0.00005\tvalidation_1-mape:0.00878\n",
      "[180]\tvalidation_0-mape:0.00005\tvalidation_1-mape:0.00878\n",
      "[181]\tvalidation_0-mape:0.00005\tvalidation_1-mape:0.00878\n",
      "[182]\tvalidation_0-mape:0.00005\tvalidation_1-mape:0.00878\n",
      "[183]\tvalidation_0-mape:0.00005\tvalidation_1-mape:0.00878\n",
      "[184]\tvalidation_0-mape:0.00005\tvalidation_1-mape:0.00878\n",
      "[185]\tvalidation_0-mape:0.00005\tvalidation_1-mape:0.00878\n",
      "[186]\tvalidation_0-mape:0.00005\tvalidation_1-mape:0.00878\n",
      "[187]\tvalidation_0-mape:0.00005\tvalidation_1-mape:0.00878\n",
      "[188]\tvalidation_0-mape:0.00005\tvalidation_1-mape:0.00878\n",
      "[189]\tvalidation_0-mape:0.00005\tvalidation_1-mape:0.00878\n",
      "[190]\tvalidation_0-mape:0.00005\tvalidation_1-mape:0.00878\n",
      "[191]\tvalidation_0-mape:0.00005\tvalidation_1-mape:0.00878\n",
      "[192]\tvalidation_0-mape:0.00005\tvalidation_1-mape:0.00878\n",
      "[193]\tvalidation_0-mape:0.00005\tvalidation_1-mape:0.00878\n",
      "[194]\tvalidation_0-mape:0.00005\tvalidation_1-mape:0.00878\n",
      "[195]\tvalidation_0-mape:0.00005\tvalidation_1-mape:0.00878\n",
      "[196]\tvalidation_0-mape:0.00005\tvalidation_1-mape:0.00878\n",
      "[197]\tvalidation_0-mape:0.00005\tvalidation_1-mape:0.00878\n",
      "[198]\tvalidation_0-mape:0.00005\tvalidation_1-mape:0.00878\n",
      "[199]\tvalidation_0-mape:0.00005\tvalidation_1-mape:0.00878\n"
     ]
    },
    {
     "data": {
      "text/plain": [
       "XGBRegressor(base_score=None, booster=None, callbacks=None,\n",
       "             colsample_bylevel=None, colsample_bynode=None,\n",
       "             colsample_bytree=None, early_stopping_rounds=None,\n",
       "             enable_categorical=False, eval_metric=None, feature_types=None,\n",
       "             gamma=None, gpu_id=None, grow_policy=None, importance_type=None,\n",
       "             interaction_constraints=None, learning_rate=0.1, max_bin=None,\n",
       "             max_cat_threshold=None, max_cat_to_onehot=None,\n",
       "             max_delta_step=None, max_depth=100, max_leaves=None,\n",
       "             min_child_weight=None, missing=nan, monotone_constraints=None,\n",
       "             n_estimators=1000, n_jobs=None, num_parallel_tree=None,\n",
       "             predictor=None, random_state=None, ...)"
      ]
     },
     "execution_count": 152,
     "metadata": {},
     "output_type": "execute_result"
    }
   ],
   "source": [
    "xgb_reg = XGBRegressor(max_depth=100, n_estimators=1000, learning_rate=0.1)\n",
    "\n",
    "xgb_reg.fit(X_train_standard, y_train,\n",
    "            eval_metric='mape',\n",
    "            #Avalia a perda em cada iteração\n",
    "            eval_set=[(X_train_standard, y_train), (X_test_standard, y_test)],  \n",
    "            #Para de iterar quando a perda de avaliação aumenta 30 vezes seguidas\n",
    "            early_stopping_rounds=30\n",
    "            )"
   ]
  },
  {
   "cell_type": "code",
   "execution_count": 153,
   "id": "24a254e9",
   "metadata": {
    "ExecuteTime": {
     "end_time": "2023-05-22T21:04:53.064566Z",
     "start_time": "2023-05-22T21:04:53.046581Z"
    }
   },
   "outputs": [],
   "source": [
    "xgb_pred = xgb_reg.predict(X_test_standard)"
   ]
  },
  {
   "cell_type": "code",
   "execution_count": 154,
   "id": "8773164f",
   "metadata": {
    "ExecuteTime": {
     "end_time": "2023-05-22T21:04:53.596239Z",
     "start_time": "2023-05-22T21:04:53.585245Z"
    },
    "scrolled": true
   },
   "outputs": [],
   "source": [
    "# Porcentagem de erro do XGBOOST\n",
    "XGBRegressor_mape = mean_absolute_percentage_error(y_test, xgb_pred)"
   ]
  },
  {
   "cell_type": "code",
   "execution_count": 155,
   "id": "776e0ef3",
   "metadata": {
    "ExecuteTime": {
     "end_time": "2023-05-22T21:11:00.878751Z",
     "start_time": "2023-05-22T21:11:00.868757Z"
    }
   },
   "outputs": [
    {
     "data": {
      "text/plain": [
       "0.008782636972883274"
      ]
     },
     "execution_count": 155,
     "metadata": {},
     "output_type": "execute_result"
    }
   ],
   "source": [
    "# Porcentagem de erro do XGBOOST\n",
    "\n",
    "XGBRegressor_mape"
   ]
  },
  {
   "cell_type": "code",
   "execution_count": 156,
   "id": "d83f9d14",
   "metadata": {
    "ExecuteTime": {
     "end_time": "2023-05-22T21:11:02.283885Z",
     "start_time": "2023-05-22T21:11:02.272892Z"
    }
   },
   "outputs": [
    {
     "data": {
      "text/plain": [
       "array([12.117029 , 12.024082 , 12.160565 , 12.105463 , 12.278524 ,\n",
       "       12.096165 , 12.113112 , 11.956905 , 12.1204195, 12.069008 ,\n",
       "       11.851381 , 12.171043 , 12.03124  , 12.256507 , 12.336003 ,\n",
       "       12.362141 , 12.189341 , 12.323124 , 12.2651615, 12.258195 ,\n",
       "       12.220901 , 12.104428 , 12.314432 , 12.258584 , 12.250392 ,\n",
       "       12.309815 , 12.313184 , 12.29559  ], dtype=float32)"
      ]
     },
     "execution_count": 156,
     "metadata": {},
     "output_type": "execute_result"
    }
   ],
   "source": [
    "xgb_pred[-28:]"
   ]
  },
  {
   "cell_type": "code",
   "execution_count": 157,
   "id": "656b17b0",
   "metadata": {
    "ExecuteTime": {
     "end_time": "2023-05-22T21:11:04.377593Z",
     "start_time": "2023-05-22T21:11:04.369599Z"
    }
   },
   "outputs": [
    {
     "name": "stdout",
     "output_type": "stream",
     "text": [
      "MAPE = 0.01\n"
     ]
    }
   ],
   "source": [
    "# Porcentagem de erro do XGBOOST arredondado pra cima\n",
    "\n",
    "xgb_mape = mean_absolute_percentage_error(y_test[-28:], xgb_pred[-28:])\n",
    "\n",
    "print('MAPE =', round(xgb_mape, 2))"
   ]
  },
  {
   "cell_type": "markdown",
   "id": "d398ec4e",
   "metadata": {},
   "source": [
    "## Prophet"
   ]
  },
  {
   "cell_type": "code",
   "execution_count": 158,
   "id": "e840d2cf",
   "metadata": {
    "ExecuteTime": {
     "end_time": "2023-05-22T21:19:10.793465Z",
     "start_time": "2023-05-22T21:19:10.782472Z"
    },
    "scrolled": false
   },
   "outputs": [
    {
     "data": {
      "text/html": [
       "<div>\n",
       "<style scoped>\n",
       "    .dataframe tbody tr th:only-of-type {\n",
       "        vertical-align: middle;\n",
       "    }\n",
       "\n",
       "    .dataframe tbody tr th {\n",
       "        vertical-align: top;\n",
       "    }\n",
       "\n",
       "    .dataframe thead th {\n",
       "        text-align: right;\n",
       "    }\n",
       "</style>\n",
       "<table border=\"1\" class=\"dataframe\">\n",
       "  <thead>\n",
       "    <tr style=\"text-align: right;\">\n",
       "      <th></th>\n",
       "      <th>ds</th>\n",
       "      <th>y</th>\n",
       "      <th>gross_revenue</th>\n",
       "    </tr>\n",
       "  </thead>\n",
       "  <tbody>\n",
       "    <tr>\n",
       "      <th>0</th>\n",
       "      <td>2013-01-20</td>\n",
       "      <td>7.745003</td>\n",
       "      <td>8.305731</td>\n",
       "    </tr>\n",
       "    <tr>\n",
       "      <th>1</th>\n",
       "      <td>2013-01-27</td>\n",
       "      <td>9.420763</td>\n",
       "      <td>9.918179</td>\n",
       "    </tr>\n",
       "    <tr>\n",
       "      <th>2</th>\n",
       "      <td>2013-02-03</td>\n",
       "      <td>10.158401</td>\n",
       "      <td>10.470306</td>\n",
       "    </tr>\n",
       "    <tr>\n",
       "      <th>3</th>\n",
       "      <td>2013-02-10</td>\n",
       "      <td>10.483270</td>\n",
       "      <td>10.706408</td>\n",
       "    </tr>\n",
       "    <tr>\n",
       "      <th>4</th>\n",
       "      <td>2013-02-17</td>\n",
       "      <td>10.642993</td>\n",
       "      <td>10.865421</td>\n",
       "    </tr>\n",
       "  </tbody>\n",
       "</table>\n",
       "</div>"
      ],
      "text/plain": [
       "          ds          y  gross_revenue\n",
       "0 2013-01-20   7.745003       8.305731\n",
       "1 2013-01-27   9.420763       9.918179\n",
       "2 2013-02-03  10.158401      10.470306\n",
       "3 2013-02-10  10.483270      10.706408\n",
       "4 2013-02-17  10.642993      10.865421"
      ]
     },
     "execution_count": 158,
     "metadata": {},
     "output_type": "execute_result"
    }
   ],
   "source": [
    "#Formato específico requerido pelo prophet\n",
    "\n",
    "df_prophet = df_grouped.reset_index().rename(columns={'date': 'ds', 'net_revenue':'y'})\n",
    "df_prophet.head()"
   ]
  },
  {
   "cell_type": "code",
   "execution_count": 159,
   "id": "bec230ab",
   "metadata": {
    "ExecuteTime": {
     "end_time": "2023-05-22T21:19:17.411386Z",
     "start_time": "2023-05-22T21:19:16.575900Z"
    },
    "scrolled": true
   },
   "outputs": [
    {
     "name": "stderr",
     "output_type": "stream",
     "text": [
      "18:19:17 - cmdstanpy - INFO - Chain [1] start processing\n",
      "18:19:17 - cmdstanpy - INFO - Chain [1] done processing\n"
     ]
    },
    {
     "data": {
      "text/plain": [
       "<prophet.forecaster.Prophet at 0x2e27a760>"
      ]
     },
     "execution_count": 159,
     "metadata": {},
     "output_type": "execute_result"
    }
   ],
   "source": [
    "train = df_prophet.iloc[:110]\n",
    "test = df_prophet.iloc[110:]\n",
    "\n",
    "prophet = Prophet()\n",
    "\n",
    "prophet.add_country_holidays(country_name='BR')\n",
    "\n",
    "prophet.fit(train)"
   ]
  },
  {
   "cell_type": "code",
   "execution_count": 160,
   "id": "8577e0fa",
   "metadata": {
    "ExecuteTime": {
     "end_time": "2023-05-22T21:19:19.908843Z",
     "start_time": "2023-05-22T21:19:19.548066Z"
    },
    "scrolled": false
   },
   "outputs": [
    {
     "data": {
      "text/html": [
       "<div>\n",
       "<style scoped>\n",
       "    .dataframe tbody tr th:only-of-type {\n",
       "        vertical-align: middle;\n",
       "    }\n",
       "\n",
       "    .dataframe tbody tr th {\n",
       "        vertical-align: top;\n",
       "    }\n",
       "\n",
       "    .dataframe thead th {\n",
       "        text-align: right;\n",
       "    }\n",
       "</style>\n",
       "<table border=\"1\" class=\"dataframe\">\n",
       "  <thead>\n",
       "    <tr style=\"text-align: right;\">\n",
       "      <th></th>\n",
       "      <th>ds</th>\n",
       "      <th>trend</th>\n",
       "      <th>yhat_lower</th>\n",
       "      <th>yhat_upper</th>\n",
       "      <th>trend_lower</th>\n",
       "      <th>trend_upper</th>\n",
       "      <th>Ano novo</th>\n",
       "      <th>Ano novo_lower</th>\n",
       "      <th>Ano novo_upper</th>\n",
       "      <th>Carnaval</th>\n",
       "      <th>...</th>\n",
       "      <th>holidays</th>\n",
       "      <th>holidays_lower</th>\n",
       "      <th>holidays_upper</th>\n",
       "      <th>yearly</th>\n",
       "      <th>yearly_lower</th>\n",
       "      <th>yearly_upper</th>\n",
       "      <th>multiplicative_terms</th>\n",
       "      <th>multiplicative_terms_lower</th>\n",
       "      <th>multiplicative_terms_upper</th>\n",
       "      <th>yhat</th>\n",
       "    </tr>\n",
       "  </thead>\n",
       "  <tbody>\n",
       "    <tr>\n",
       "      <th>0</th>\n",
       "      <td>2015-03-01</td>\n",
       "      <td>12.192673</td>\n",
       "      <td>12.191681</td>\n",
       "      <td>12.744053</td>\n",
       "      <td>12.192555</td>\n",
       "      <td>12.192916</td>\n",
       "      <td>0.0</td>\n",
       "      <td>0.0</td>\n",
       "      <td>0.0</td>\n",
       "      <td>0.0</td>\n",
       "      <td>...</td>\n",
       "      <td>0.0</td>\n",
       "      <td>0.0</td>\n",
       "      <td>0.0</td>\n",
       "      <td>0.271469</td>\n",
       "      <td>0.271469</td>\n",
       "      <td>0.271469</td>\n",
       "      <td>0.0</td>\n",
       "      <td>0.0</td>\n",
       "      <td>0.0</td>\n",
       "      <td>12.464142</td>\n",
       "    </tr>\n",
       "    <tr>\n",
       "      <th>1</th>\n",
       "      <td>2015-03-08</td>\n",
       "      <td>12.193074</td>\n",
       "      <td>12.197598</td>\n",
       "      <td>12.761482</td>\n",
       "      <td>12.191430</td>\n",
       "      <td>12.195054</td>\n",
       "      <td>0.0</td>\n",
       "      <td>0.0</td>\n",
       "      <td>0.0</td>\n",
       "      <td>0.0</td>\n",
       "      <td>...</td>\n",
       "      <td>0.0</td>\n",
       "      <td>0.0</td>\n",
       "      <td>0.0</td>\n",
       "      <td>0.294674</td>\n",
       "      <td>0.294674</td>\n",
       "      <td>0.294674</td>\n",
       "      <td>0.0</td>\n",
       "      <td>0.0</td>\n",
       "      <td>0.0</td>\n",
       "      <td>12.487747</td>\n",
       "    </tr>\n",
       "    <tr>\n",
       "      <th>2</th>\n",
       "      <td>2015-03-15</td>\n",
       "      <td>12.193474</td>\n",
       "      <td>12.253146</td>\n",
       "      <td>12.795317</td>\n",
       "      <td>12.189169</td>\n",
       "      <td>12.198861</td>\n",
       "      <td>0.0</td>\n",
       "      <td>0.0</td>\n",
       "      <td>0.0</td>\n",
       "      <td>0.0</td>\n",
       "      <td>...</td>\n",
       "      <td>0.0</td>\n",
       "      <td>0.0</td>\n",
       "      <td>0.0</td>\n",
       "      <td>0.331377</td>\n",
       "      <td>0.331377</td>\n",
       "      <td>0.331377</td>\n",
       "      <td>0.0</td>\n",
       "      <td>0.0</td>\n",
       "      <td>0.0</td>\n",
       "      <td>12.524851</td>\n",
       "    </tr>\n",
       "    <tr>\n",
       "      <th>3</th>\n",
       "      <td>2015-03-22</td>\n",
       "      <td>12.193875</td>\n",
       "      <td>12.232692</td>\n",
       "      <td>12.799790</td>\n",
       "      <td>12.185990</td>\n",
       "      <td>12.203440</td>\n",
       "      <td>0.0</td>\n",
       "      <td>0.0</td>\n",
       "      <td>0.0</td>\n",
       "      <td>0.0</td>\n",
       "      <td>...</td>\n",
       "      <td>0.0</td>\n",
       "      <td>0.0</td>\n",
       "      <td>0.0</td>\n",
       "      <td>0.327492</td>\n",
       "      <td>0.327492</td>\n",
       "      <td>0.327492</td>\n",
       "      <td>0.0</td>\n",
       "      <td>0.0</td>\n",
       "      <td>0.0</td>\n",
       "      <td>12.521366</td>\n",
       "    </tr>\n",
       "    <tr>\n",
       "      <th>4</th>\n",
       "      <td>2015-03-29</td>\n",
       "      <td>12.194275</td>\n",
       "      <td>12.190230</td>\n",
       "      <td>12.734056</td>\n",
       "      <td>12.181867</td>\n",
       "      <td>12.209998</td>\n",
       "      <td>0.0</td>\n",
       "      <td>0.0</td>\n",
       "      <td>0.0</td>\n",
       "      <td>0.0</td>\n",
       "      <td>...</td>\n",
       "      <td>0.0</td>\n",
       "      <td>0.0</td>\n",
       "      <td>0.0</td>\n",
       "      <td>0.265634</td>\n",
       "      <td>0.265634</td>\n",
       "      <td>0.265634</td>\n",
       "      <td>0.0</td>\n",
       "      <td>0.0</td>\n",
       "      <td>0.0</td>\n",
       "      <td>12.459909</td>\n",
       "    </tr>\n",
       "  </tbody>\n",
       "</table>\n",
       "<p>5 rows × 58 columns</p>\n",
       "</div>"
      ],
      "text/plain": [
       "          ds      trend  yhat_lower  yhat_upper  trend_lower  trend_upper  \\\n",
       "0 2015-03-01  12.192673   12.191681   12.744053    12.192555    12.192916   \n",
       "1 2015-03-08  12.193074   12.197598   12.761482    12.191430    12.195054   \n",
       "2 2015-03-15  12.193474   12.253146   12.795317    12.189169    12.198861   \n",
       "3 2015-03-22  12.193875   12.232692   12.799790    12.185990    12.203440   \n",
       "4 2015-03-29  12.194275   12.190230   12.734056    12.181867    12.209998   \n",
       "\n",
       "   Ano novo  Ano novo_lower  Ano novo_upper  Carnaval  ...  holidays  \\\n",
       "0       0.0             0.0             0.0       0.0  ...       0.0   \n",
       "1       0.0             0.0             0.0       0.0  ...       0.0   \n",
       "2       0.0             0.0             0.0       0.0  ...       0.0   \n",
       "3       0.0             0.0             0.0       0.0  ...       0.0   \n",
       "4       0.0             0.0             0.0       0.0  ...       0.0   \n",
       "\n",
       "   holidays_lower  holidays_upper    yearly  yearly_lower  yearly_upper  \\\n",
       "0             0.0             0.0  0.271469      0.271469      0.271469   \n",
       "1             0.0             0.0  0.294674      0.294674      0.294674   \n",
       "2             0.0             0.0  0.331377      0.331377      0.331377   \n",
       "3             0.0             0.0  0.327492      0.327492      0.327492   \n",
       "4             0.0             0.0  0.265634      0.265634      0.265634   \n",
       "\n",
       "   multiplicative_terms  multiplicative_terms_lower  \\\n",
       "0                   0.0                         0.0   \n",
       "1                   0.0                         0.0   \n",
       "2                   0.0                         0.0   \n",
       "3                   0.0                         0.0   \n",
       "4                   0.0                         0.0   \n",
       "\n",
       "   multiplicative_terms_upper       yhat  \n",
       "0                         0.0  12.464142  \n",
       "1                         0.0  12.487747  \n",
       "2                         0.0  12.524851  \n",
       "3                         0.0  12.521366  \n",
       "4                         0.0  12.459909  \n",
       "\n",
       "[5 rows x 58 columns]"
      ]
     },
     "execution_count": 160,
     "metadata": {},
     "output_type": "execute_result"
    }
   ],
   "source": [
    "forecast_pred = prophet.predict(test)\n",
    "forecast_pred.head()"
   ]
  },
  {
   "cell_type": "code",
   "execution_count": 161,
   "id": "5d05d6c8",
   "metadata": {
    "ExecuteTime": {
     "end_time": "2023-05-22T21:19:22.098494Z",
     "start_time": "2023-05-22T21:19:22.086501Z"
    }
   },
   "outputs": [
    {
     "data": {
      "text/html": [
       "<div>\n",
       "<style scoped>\n",
       "    .dataframe tbody tr th:only-of-type {\n",
       "        vertical-align: middle;\n",
       "    }\n",
       "\n",
       "    .dataframe tbody tr th {\n",
       "        vertical-align: top;\n",
       "    }\n",
       "\n",
       "    .dataframe thead th {\n",
       "        text-align: right;\n",
       "    }\n",
       "</style>\n",
       "<table border=\"1\" class=\"dataframe\">\n",
       "  <thead>\n",
       "    <tr style=\"text-align: right;\">\n",
       "      <th></th>\n",
       "      <th>ds</th>\n",
       "      <th>y</th>\n",
       "      <th>gross_revenue</th>\n",
       "    </tr>\n",
       "  </thead>\n",
       "  <tbody>\n",
       "    <tr>\n",
       "      <th>110</th>\n",
       "      <td>2015-03-01</td>\n",
       "      <td>12.164573</td>\n",
       "      <td>12.282205</td>\n",
       "    </tr>\n",
       "    <tr>\n",
       "      <th>111</th>\n",
       "      <td>2015-03-08</td>\n",
       "      <td>12.240416</td>\n",
       "      <td>12.351843</td>\n",
       "    </tr>\n",
       "    <tr>\n",
       "      <th>112</th>\n",
       "      <td>2015-03-15</td>\n",
       "      <td>12.320035</td>\n",
       "      <td>12.429916</td>\n",
       "    </tr>\n",
       "    <tr>\n",
       "      <th>113</th>\n",
       "      <td>2015-03-22</td>\n",
       "      <td>12.253719</td>\n",
       "      <td>12.373687</td>\n",
       "    </tr>\n",
       "    <tr>\n",
       "      <th>114</th>\n",
       "      <td>2015-03-29</td>\n",
       "      <td>12.268521</td>\n",
       "      <td>12.385026</td>\n",
       "    </tr>\n",
       "  </tbody>\n",
       "</table>\n",
       "</div>"
      ],
      "text/plain": [
       "            ds          y  gross_revenue\n",
       "110 2015-03-01  12.164573      12.282205\n",
       "111 2015-03-08  12.240416      12.351843\n",
       "112 2015-03-15  12.320035      12.429916\n",
       "113 2015-03-22  12.253719      12.373687\n",
       "114 2015-03-29  12.268521      12.385026"
      ]
     },
     "execution_count": 161,
     "metadata": {},
     "output_type": "execute_result"
    }
   ],
   "source": [
    "test.head()"
   ]
  },
  {
   "cell_type": "code",
   "execution_count": 162,
   "id": "b02565b4",
   "metadata": {
    "ExecuteTime": {
     "end_time": "2023-05-22T21:19:29.221102Z",
     "start_time": "2023-05-22T21:19:29.011231Z"
    }
   },
   "outputs": [
    {
     "data": {
      "image/png": "[encoded data removed]",
      "text/plain": [
       "<Figure size 1000x600 with 1 Axes>"
      ]
     },
     "metadata": {},
     "output_type": "display_data"
    }
   ],
   "source": [
    "prophet.plot(forecast_pred);"
   ]
  },
  {
   "cell_type": "code",
   "execution_count": 189,
   "id": "e6abc1fb",
   "metadata": {
    "ExecuteTime": {
     "end_time": "2023-05-22T21:28:51.630274Z",
     "start_time": "2023-05-22T21:28:51.621280Z"
    }
   },
   "outputs": [],
   "source": [
    "future = prophet.make_future_dataframe(periods=71, freq='W', include_history=False)"
   ]
  },
  {
   "cell_type": "code",
   "execution_count": 190,
   "id": "d62c278e",
   "metadata": {
    "ExecuteTime": {
     "end_time": "2023-05-22T21:28:51.924092Z",
     "start_time": "2023-05-22T21:28:51.909102Z"
    }
   },
   "outputs": [
    {
     "data": {
      "text/html": [
       "<div>\n",
       "<style scoped>\n",
       "    .dataframe tbody tr th:only-of-type {\n",
       "        vertical-align: middle;\n",
       "    }\n",
       "\n",
       "    .dataframe tbody tr th {\n",
       "        vertical-align: top;\n",
       "    }\n",
       "\n",
       "    .dataframe thead th {\n",
       "        text-align: right;\n",
       "    }\n",
       "</style>\n",
       "<table border=\"1\" class=\"dataframe\">\n",
       "  <thead>\n",
       "    <tr style=\"text-align: right;\">\n",
       "      <th></th>\n",
       "      <th>ds</th>\n",
       "    </tr>\n",
       "  </thead>\n",
       "  <tbody>\n",
       "    <tr>\n",
       "      <th>0</th>\n",
       "      <td>2015-03-01</td>\n",
       "    </tr>\n",
       "    <tr>\n",
       "      <th>1</th>\n",
       "      <td>2015-03-08</td>\n",
       "    </tr>\n",
       "    <tr>\n",
       "      <th>2</th>\n",
       "      <td>2015-03-15</td>\n",
       "    </tr>\n",
       "    <tr>\n",
       "      <th>3</th>\n",
       "      <td>2015-03-22</td>\n",
       "    </tr>\n",
       "    <tr>\n",
       "      <th>4</th>\n",
       "      <td>2015-03-29</td>\n",
       "    </tr>\n",
       "    <tr>\n",
       "      <th>...</th>\n",
       "      <td>...</td>\n",
       "    </tr>\n",
       "    <tr>\n",
       "      <th>66</th>\n",
       "      <td>2016-06-05</td>\n",
       "    </tr>\n",
       "    <tr>\n",
       "      <th>67</th>\n",
       "      <td>2016-06-12</td>\n",
       "    </tr>\n",
       "    <tr>\n",
       "      <th>68</th>\n",
       "      <td>2016-06-19</td>\n",
       "    </tr>\n",
       "    <tr>\n",
       "      <th>69</th>\n",
       "      <td>2016-06-26</td>\n",
       "    </tr>\n",
       "    <tr>\n",
       "      <th>70</th>\n",
       "      <td>2016-07-03</td>\n",
       "    </tr>\n",
       "  </tbody>\n",
       "</table>\n",
       "<p>71 rows × 1 columns</p>\n",
       "</div>"
      ],
      "text/plain": [
       "           ds\n",
       "0  2015-03-01\n",
       "1  2015-03-08\n",
       "2  2015-03-15\n",
       "3  2015-03-22\n",
       "4  2015-03-29\n",
       "..        ...\n",
       "66 2016-06-05\n",
       "67 2016-06-12\n",
       "68 2016-06-19\n",
       "69 2016-06-26\n",
       "70 2016-07-03\n",
       "\n",
       "[71 rows x 1 columns]"
      ]
     },
     "execution_count": 190,
     "metadata": {},
     "output_type": "execute_result"
    }
   ],
   "source": [
    "future"
   ]
  },
  {
   "cell_type": "code",
   "execution_count": 192,
   "id": "1f2efc17",
   "metadata": {
    "ExecuteTime": {
     "end_time": "2023-05-22T21:30:24.471013Z",
     "start_time": "2023-05-22T21:30:24.127226Z"
    }
   },
   "outputs": [],
   "source": [
    "prophetpred = prophet.predict(future[-24:])"
   ]
  },
  {
   "cell_type": "code",
   "execution_count": 193,
   "id": "69fb91a1",
   "metadata": {
    "ExecuteTime": {
     "end_time": "2023-05-22T21:30:24.721859Z",
     "start_time": "2023-05-22T21:30:24.705868Z"
    },
    "scrolled": false
   },
   "outputs": [],
   "source": [
    "prophetpred = prophetpred['yhat']"
   ]
  },
  {
   "cell_type": "code",
   "execution_count": 194,
   "id": "a6ed9d42",
   "metadata": {
    "ExecuteTime": {
     "end_time": "2023-05-22T21:30:26.861540Z",
     "start_time": "2023-05-22T21:30:26.842550Z"
    }
   },
   "outputs": [
    {
     "data": {
      "text/plain": [
       "0     11.956469\n",
       "1     12.142171\n",
       "2     12.343901\n",
       "3     12.466585\n",
       "4     12.493238\n",
       "5     12.484723\n",
       "6     12.502054\n",
       "7     12.540629\n",
       "8     12.547540\n",
       "9     12.596899\n",
       "10    12.417837\n",
       "11    12.378572\n",
       "12    12.396087\n",
       "13    12.430672\n",
       "14    12.432253\n",
       "15    12.392923\n",
       "16    12.344567\n",
       "17    12.314020\n",
       "18    12.295925\n",
       "19    12.272542\n",
       "20    12.246284\n",
       "21    12.237799\n",
       "22    12.252671\n",
       "23    12.264096\n",
       "Name: yhat, dtype: float64"
      ]
     },
     "execution_count": 194,
     "metadata": {},
     "output_type": "execute_result"
    }
   ],
   "source": [
    "# Previsão de receita para os próximos seis meses\n",
    "\n",
    "prophetpred"
   ]
  },
  {
   "cell_type": "code",
   "execution_count": 196,
   "id": "5ad01b0e",
   "metadata": {
    "ExecuteTime": {
     "end_time": "2023-05-22T21:30:40.455156Z",
     "start_time": "2023-05-22T21:30:40.438165Z"
    }
   },
   "outputs": [
    {
     "name": "stdout",
     "output_type": "stream",
     "text": [
      "MAPE = 0.02\n"
     ]
    }
   ],
   "source": [
    "prophetpred_mape = mean_absolute_percentage_error(y_test[-24:], prophetpred)\n",
    "\n",
    "print('MAPE =', round(prophetpred_mape, 2))"
   ]
  },
  {
   "cell_type": "code",
   "execution_count": 198,
   "id": "67a516b6",
   "metadata": {
    "ExecuteTime": {
     "end_time": "2023-05-22T21:30:53.550082Z",
     "start_time": "2023-05-22T21:30:51.440381Z"
    },
    "scrolled": true
   },
   "outputs": [
    {
     "data": {
      "application/vnd.jupyter.widget-view+json": {
       "model_id": "d1c305a961344cfda32c5b92c5459570",
       "version_major": 2,
       "version_minor": 0
      },
      "text/plain": [
       "  0%|          | 0/2 [00:00<?, ?it/s]"
      ]
     },
     "metadata": {},
     "output_type": "display_data"
    },
    {
     "name": "stderr",
     "output_type": "stream",
     "text": [
      "18:30:51 - cmdstanpy - INFO - Chain [1] start processing\n",
      "18:30:52 - cmdstanpy - INFO - Chain [1] done processing\n",
      "18:30:52 - cmdstanpy - INFO - Chain [1] start processing\n",
      "18:30:53 - cmdstanpy - INFO - Chain [1] done processing\n"
     ]
    }
   ],
   "source": [
    "six = cross_validation(prophet, horizon='24 W')"
   ]
  },
  {
   "cell_type": "code",
   "execution_count": 200,
   "id": "59d75afe",
   "metadata": {
    "ExecuteTime": {
     "end_time": "2023-05-22T21:32:50.924689Z",
     "start_time": "2023-05-22T21:32:50.734804Z"
    },
    "scrolled": false
   },
   "outputs": [
    {
     "data": {
      "text/plain": [
       "0     0.003982\n",
       "1     0.006185\n",
       "2     0.003391\n",
       "3     0.003003\n",
       "4     0.004124\n",
       "5     0.002045\n",
       "6     0.003254\n",
       "7     0.007780\n",
       "8     0.010260\n",
       "9     0.010631\n",
       "10    0.009179\n",
       "11    0.008734\n",
       "12    0.013962\n",
       "13    0.018277\n",
       "14    0.013942\n",
       "15    0.009962\n",
       "16    0.022255\n",
       "17    0.034198\n",
       "18    0.031280\n",
       "19    0.025739\n",
       "20    0.019416\n",
       "21    0.015949\n",
       "22    0.015904\n",
       "Name: mape, dtype: float64"
      ]
     },
     "execution_count": 200,
     "metadata": {},
     "output_type": "execute_result"
    }
   ],
   "source": [
    "# Porcentagem de erro para cada semana\n",
    "\n",
    "performance_metrics(six)['mape']"
   ]
  },
  {
   "cell_type": "markdown",
   "id": "357c639f",
   "metadata": {},
   "source": [
    "# Comparativo"
   ]
  },
  {
   "cell_type": "code",
   "execution_count": 170,
   "id": "b21e2e86",
   "metadata": {
    "ExecuteTime": {
     "end_time": "2023-05-22T21:21:06.628035Z",
     "start_time": "2023-05-22T21:21:06.613044Z"
    }
   },
   "outputs": [],
   "source": [
    "#Construindo tabela para comparação de score MAPE\n",
    "\n",
    "score = {'Model': ['Linear Regression', 'Arima', 'Simple Deep learning', 'Deep Learning LSTM', 'Random Forest', 'XGBRegressor', 'Prophet'],\n",
    "         'Score Mape': [linreg_mape, arima_mape, simpledeep_mape, deepLSTM_mape, forest_mape, xgb_mape, prophetpred_mape]}\n",
    "          "
   ]
  },
  {
   "cell_type": "code",
   "execution_count": 171,
   "id": "b1324335",
   "metadata": {
    "ExecuteTime": {
     "end_time": "2023-05-22T21:21:07.284629Z",
     "start_time": "2023-05-22T21:21:07.277633Z"
    }
   },
   "outputs": [],
   "source": [
    "df_score = pd.DataFrame(score)"
   ]
  },
  {
   "cell_type": "code",
   "execution_count": 172,
   "id": "9a861061",
   "metadata": {
    "ExecuteTime": {
     "end_time": "2023-05-22T21:21:07.898250Z",
     "start_time": "2023-05-22T21:21:07.884259Z"
    }
   },
   "outputs": [],
   "source": [
    "#Organizando o Score por ordem crescente\n",
    "\n",
    "df_score = round(df_score.sort_values('Score Mape'), 2)"
   ]
  },
  {
   "cell_type": "code",
   "execution_count": 173,
   "id": "bc179f71",
   "metadata": {
    "ExecuteTime": {
     "end_time": "2023-05-22T21:21:08.563840Z",
     "start_time": "2023-05-22T21:21:08.539855Z"
    },
    "scrolled": false
   },
   "outputs": [
    {
     "data": {
      "text/html": [
       "<div>\n",
       "<style scoped>\n",
       "    .dataframe tbody tr th:only-of-type {\n",
       "        vertical-align: middle;\n",
       "    }\n",
       "\n",
       "    .dataframe tbody tr th {\n",
       "        vertical-align: top;\n",
       "    }\n",
       "\n",
       "    .dataframe thead th {\n",
       "        text-align: right;\n",
       "    }\n",
       "</style>\n",
       "<table border=\"1\" class=\"dataframe\">\n",
       "  <thead>\n",
       "    <tr style=\"text-align: right;\">\n",
       "      <th></th>\n",
       "      <th>Model</th>\n",
       "      <th>Score Mape</th>\n",
       "    </tr>\n",
       "  </thead>\n",
       "  <tbody>\n",
       "    <tr>\n",
       "      <th>0</th>\n",
       "      <td>Linear Regression</td>\n",
       "      <td>0.01</td>\n",
       "    </tr>\n",
       "    <tr>\n",
       "      <th>4</th>\n",
       "      <td>Random Forest</td>\n",
       "      <td>0.01</td>\n",
       "    </tr>\n",
       "    <tr>\n",
       "      <th>5</th>\n",
       "      <td>XGBRegressor</td>\n",
       "      <td>0.01</td>\n",
       "    </tr>\n",
       "    <tr>\n",
       "      <th>3</th>\n",
       "      <td>Deep Learning LSTM</td>\n",
       "      <td>0.01</td>\n",
       "    </tr>\n",
       "    <tr>\n",
       "      <th>1</th>\n",
       "      <td>Arima</td>\n",
       "      <td>0.01</td>\n",
       "    </tr>\n",
       "    <tr>\n",
       "      <th>6</th>\n",
       "      <td>Prophet</td>\n",
       "      <td>0.02</td>\n",
       "    </tr>\n",
       "    <tr>\n",
       "      <th>2</th>\n",
       "      <td>Simple Deep learning</td>\n",
       "      <td>0.10</td>\n",
       "    </tr>\n",
       "  </tbody>\n",
       "</table>\n",
       "</div>"
      ],
      "text/plain": [
       "                  Model  Score Mape\n",
       "0     Linear Regression        0.01\n",
       "4         Random Forest        0.01\n",
       "5          XGBRegressor        0.01\n",
       "3    Deep Learning LSTM        0.01\n",
       "1                 Arima        0.01\n",
       "6               Prophet        0.02\n",
       "2  Simple Deep learning        0.10"
      ]
     },
     "execution_count": 173,
     "metadata": {},
     "output_type": "execute_result"
    }
   ],
   "source": [
    "# Comparativo do score dos modelos com mean absolute error\n",
    "\n",
    "df_score"
   ]
  }
 ],
 "metadata": {
  "kernelspec": {
   "display_name": "Python 3 (ipykernel)",
   "language": "python",
   "name": "python3"
  },
  "language_info": {
   "codemirror_mode": {
    "name": "ipython",
    "version": 3
   },
   "file_extension": ".py",
   "mimetype": "text/x-python",
   "name": "python",
   "nbconvert_exporter": "python",
   "pygments_lexer": "ipython3",
   "version": "3.9.13"
  },
  "toc": {
   "base_numbering": 1,
   "nav_menu": {},
   "number_sections": true,
   "sideBar": true,
   "skip_h1_title": false,
   "title_cell": "Table of Contents",
   "title_sidebar": "Contents",
   "toc_cell": false,
   "toc_position": {},
   "toc_section_display": true,
   "toc_window_display": false
  }
 },
 "nbformat": 4,
 "nbformat_minor": 5
}
